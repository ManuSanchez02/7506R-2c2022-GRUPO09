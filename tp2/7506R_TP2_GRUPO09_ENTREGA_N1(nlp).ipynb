{
  "nbformat": 4,
  "nbformat_minor": 0,
  "metadata": {
    "colab": {
      "provenance": [],
      "include_colab_link": true
    },
    "kernelspec": {
      "name": "python3",
      "display_name": "Python 3"
    },
    "language_info": {
      "name": "python"
    }
  },
  "cells": [
    {
      "cell_type": "markdown",
      "metadata": {
        "id": "view-in-github",
        "colab_type": "text"
      },
      "source": [
        "<a href=\"https://colab.research.google.com/github/ManuSanchez02/7506R-2c2022-GRUPO09/blob/main/tp2/7506R_TP2_GRUPO09_ENTREGA_N1(nlp).ipynb\" target=\"_parent\"><img src=\"https://colab.research.google.com/assets/colab-badge.svg\" alt=\"Open In Colab\"/></a>"
      ]
    },
    {
      "cell_type": "markdown",
      "source": [
        "# Configuración inicial"
      ],
      "metadata": {
        "id": "v0GQvy3fxUYu"
      }
    },
    {
      "cell_type": "markdown",
      "source": [
        "Importamos las bibliotecas necesarias para el análisis."
      ],
      "metadata": {
        "id": "o856-VTRZiQn"
      }
    },
    {
      "cell_type": "code",
      "source": [
        "from google.colab import drive\n",
        "drive.mount('/content/drive')"
      ],
      "metadata": {
        "colab": {
          "base_uri": "https://localhost:8080/"
        },
        "id": "I09eYdt2fK-c",
        "outputId": "fee05135-0c11-4b99-ee9e-06752f1cb95f"
      },
      "execution_count": 7,
      "outputs": [
        {
          "output_type": "stream",
          "name": "stdout",
          "text": [
            "Mounted at /content/drive\n"
          ]
        }
      ]
    },
    {
      "cell_type": "code",
      "execution_count": 1,
      "metadata": {
        "colab": {
          "base_uri": "https://localhost:8080/"
        },
        "id": "h4NRN9YTsIau",
        "outputId": "e3a65672-0a7d-43d6-d749-02fc3daf5efc"
      },
      "outputs": [
        {
          "output_type": "stream",
          "name": "stdout",
          "text": [
            "Looking in indexes: https://pypi.org/simple, https://us-python.pkg.dev/colab-wheels/public/simple/\n",
            "Requirement already satisfied: xgboost in /usr/local/lib/python3.8/dist-packages (0.90)\n",
            "Requirement already satisfied: scipy in /usr/local/lib/python3.8/dist-packages (from xgboost) (1.7.3)\n",
            "Requirement already satisfied: numpy in /usr/local/lib/python3.8/dist-packages (from xgboost) (1.21.6)\n"
          ]
        }
      ],
      "source": [
        "import numpy as np\n",
        "import pandas as pd\n",
        "import matplotlib.pyplot as plt\n",
        "import re\n",
        "\n",
        "from sklearn import metrics\n",
        "from xgboost import XGBRegressor\n",
        "from sklearn.model_selection import RandomizedSearchCV\n",
        "import regex\n",
        "\n",
        "!pip install xgboost\n",
        "\n",
        "np.random.seed(1)\n",
        "SEMILLA = 1"
      ]
    },
    {
      "cell_type": "markdown",
      "source": [
        "### Funciones útiles."
      ],
      "metadata": {
        "id": "LpbzKXQqzDOL"
      }
    },
    {
      "cell_type": "markdown",
      "source": [
        "Definimos funciones que se van a utilizar."
      ],
      "metadata": {
        "id": "G5krpKCBZnQN"
      }
    },
    {
      "cell_type": "code",
      "source": [
        "def imprimir_metricas_regresion(target_test, precios_predichos):\n",
        "    # Error cuadrático medio\n",
        "    mse = metrics.mean_squared_error(\n",
        "        y_true=target_test, y_pred=precios_predichos, squared=True\n",
        "    )\n",
        "\n",
        "    print(f\"El error (mse) de test es: {mse}\")\n",
        "\n",
        "    # Raíz del error cuadrático medio\n",
        "    rmse = metrics.mean_squared_error(\n",
        "        y_true=target_test, y_pred=precios_predichos, squared=False\n",
        "    )\n",
        "\n",
        "    print(f\"El error (rmse) de test es: {rmse}\")\n",
        "\n",
        "    # R2 score\n",
        "    r2 = metrics.r2_score(target_test, precios_predichos)\n",
        "    print(f\"El score R2 es: {r2}\")\n"
      ],
      "metadata": {
        "id": "_1nD31UnUc_K"
      },
      "execution_count": 2,
      "outputs": []
    },
    {
      "cell_type": "code",
      "source": [
        "columnas = [\"property_price\", \"id\", \"property_description\"]\n",
        "\n",
        "def build_target_and_dataset(dataset):\n",
        "  target = dataset[\"property_price\"]\n",
        "  dataset.drop(columns=columnas, inplace=True)\n",
        "  dataset = pd.get_dummies(dataset, drop_first=True)\n",
        "  return target, dataset"
      ],
      "metadata": {
        "id": "rLCcGbB2QVnl"
      },
      "execution_count": 3,
      "outputs": []
    },
    {
      "cell_type": "markdown",
      "source": [
        "Importamos los datasets ya preprocesados."
      ],
      "metadata": {
        "id": "pW_Mkv1OxYTL"
      }
    },
    {
      "cell_type": "code",
      "source": [
        "dataset_train = pd.read_csv(\"https://github.com/ManuSanchez02/7506R-2c2022-GRUPO09/blob/main/tp2/datasets/dataset_train_preprocesado.csv?raw=True\")\n",
        "dataset_test = pd.read_csv(\"https://github.com/ManuSanchez02/7506R-2c2022-GRUPO09/blob/main/tp2/datasets/datasetc_test_preprocesado.csv?raw=True\")\n",
        "\n",
        "dataset_train.drop([\"Unnamed: 0\"], axis = 1, inplace=True)\n",
        "dataset_test.drop([\"Unnamed: 0\"], axis = 1, inplace=True)"
      ],
      "metadata": {
        "id": "DldKeV57s2kl"
      },
      "execution_count": 4,
      "outputs": []
    },
    {
      "cell_type": "code",
      "source": [
        "dataset_pln_train = dataset_train.copy()\n",
        "dataset_pln_test = dataset_test.copy()"
      ],
      "metadata": {
        "id": "BG8iVQwG_kjY"
      },
      "execution_count": 5,
      "outputs": []
    },
    {
      "cell_type": "markdown",
      "source": [
        "Importamos y hacemos un head del dataset con las descripciones para ver qué forma tiene."
      ],
      "metadata": {
        "id": "Zfcxin0zxchp"
      }
    },
    {
      "cell_type": "code",
      "source": [
        "dataset_descrip = pd.read_csv(\"/content/drive/MyDrive/OrgaTP2/properati_argentina_2021_decrip.csv\")\n",
        "dataset_descrip.head()"
      ],
      "metadata": {
        "colab": {
          "base_uri": "https://localhost:8080/",
          "height": 206
        },
        "id": "oQjuZKQG9oOI",
        "outputId": "aae8fda3-5780-4435-b0ff-a04b2d63b222"
      },
      "execution_count": 8,
      "outputs": [
        {
          "output_type": "execute_result",
          "data": {
            "text/plain": [
              "                         id                               property_description\n",
              "0  BZCeiGkJr1WBUi6pKJQwJQ==  Corredor Responsable: MARIA ALEJANDRA GENOVEVA...\n",
              "1  zuHOGgUE0UB71W7m/YCLoA==  ¡HERMOSO PH TIPO CASA DE 2 AMBIENTES!<br>APTO ...\n",
              "2  TUL813tXchVBlHUsfaA6DA==  Excelente PH en Núñez 4 amb!!!! Oportunidad !!...\n",
              "3  gn55JPmcjftBV/at1a7fPg==  UNICO PH DE 4 DORMITORIOS EN IMPECABLE ESTADO,...\n",
              "4  qg4m3QHcuo1+wMmyp7kx3Q==  Ph 2 Amb. Villa Crespo exclusivo uso profesion..."
            ],
            "text/html": [
              "\n",
              "  <div id=\"df-462c8a9c-3f91-48f2-8c8d-34b9894cd038\">\n",
              "    <div class=\"colab-df-container\">\n",
              "      <div>\n",
              "<style scoped>\n",
              "    .dataframe tbody tr th:only-of-type {\n",
              "        vertical-align: middle;\n",
              "    }\n",
              "\n",
              "    .dataframe tbody tr th {\n",
              "        vertical-align: top;\n",
              "    }\n",
              "\n",
              "    .dataframe thead th {\n",
              "        text-align: right;\n",
              "    }\n",
              "</style>\n",
              "<table border=\"1\" class=\"dataframe\">\n",
              "  <thead>\n",
              "    <tr style=\"text-align: right;\">\n",
              "      <th></th>\n",
              "      <th>id</th>\n",
              "      <th>property_description</th>\n",
              "    </tr>\n",
              "  </thead>\n",
              "  <tbody>\n",
              "    <tr>\n",
              "      <th>0</th>\n",
              "      <td>BZCeiGkJr1WBUi6pKJQwJQ==</td>\n",
              "      <td>Corredor Responsable: MARIA ALEJANDRA GENOVEVA...</td>\n",
              "    </tr>\n",
              "    <tr>\n",
              "      <th>1</th>\n",
              "      <td>zuHOGgUE0UB71W7m/YCLoA==</td>\n",
              "      <td>¡HERMOSO PH TIPO CASA DE 2 AMBIENTES!&lt;br&gt;APTO ...</td>\n",
              "    </tr>\n",
              "    <tr>\n",
              "      <th>2</th>\n",
              "      <td>TUL813tXchVBlHUsfaA6DA==</td>\n",
              "      <td>Excelente PH en Núñez 4 amb!!!! Oportunidad !!...</td>\n",
              "    </tr>\n",
              "    <tr>\n",
              "      <th>3</th>\n",
              "      <td>gn55JPmcjftBV/at1a7fPg==</td>\n",
              "      <td>UNICO PH DE 4 DORMITORIOS EN IMPECABLE ESTADO,...</td>\n",
              "    </tr>\n",
              "    <tr>\n",
              "      <th>4</th>\n",
              "      <td>qg4m3QHcuo1+wMmyp7kx3Q==</td>\n",
              "      <td>Ph 2 Amb. Villa Crespo exclusivo uso profesion...</td>\n",
              "    </tr>\n",
              "  </tbody>\n",
              "</table>\n",
              "</div>\n",
              "      <button class=\"colab-df-convert\" onclick=\"convertToInteractive('df-462c8a9c-3f91-48f2-8c8d-34b9894cd038')\"\n",
              "              title=\"Convert this dataframe to an interactive table.\"\n",
              "              style=\"display:none;\">\n",
              "        \n",
              "  <svg xmlns=\"http://www.w3.org/2000/svg\" height=\"24px\"viewBox=\"0 0 24 24\"\n",
              "       width=\"24px\">\n",
              "    <path d=\"M0 0h24v24H0V0z\" fill=\"none\"/>\n",
              "    <path d=\"M18.56 5.44l.94 2.06.94-2.06 2.06-.94-2.06-.94-.94-2.06-.94 2.06-2.06.94zm-11 1L8.5 8.5l.94-2.06 2.06-.94-2.06-.94L8.5 2.5l-.94 2.06-2.06.94zm10 10l.94 2.06.94-2.06 2.06-.94-2.06-.94-.94-2.06-.94 2.06-2.06.94z\"/><path d=\"M17.41 7.96l-1.37-1.37c-.4-.4-.92-.59-1.43-.59-.52 0-1.04.2-1.43.59L10.3 9.45l-7.72 7.72c-.78.78-.78 2.05 0 2.83L4 21.41c.39.39.9.59 1.41.59.51 0 1.02-.2 1.41-.59l7.78-7.78 2.81-2.81c.8-.78.8-2.07 0-2.86zM5.41 20L4 18.59l7.72-7.72 1.47 1.35L5.41 20z\"/>\n",
              "  </svg>\n",
              "      </button>\n",
              "      \n",
              "  <style>\n",
              "    .colab-df-container {\n",
              "      display:flex;\n",
              "      flex-wrap:wrap;\n",
              "      gap: 12px;\n",
              "    }\n",
              "\n",
              "    .colab-df-convert {\n",
              "      background-color: #E8F0FE;\n",
              "      border: none;\n",
              "      border-radius: 50%;\n",
              "      cursor: pointer;\n",
              "      display: none;\n",
              "      fill: #1967D2;\n",
              "      height: 32px;\n",
              "      padding: 0 0 0 0;\n",
              "      width: 32px;\n",
              "    }\n",
              "\n",
              "    .colab-df-convert:hover {\n",
              "      background-color: #E2EBFA;\n",
              "      box-shadow: 0px 1px 2px rgba(60, 64, 67, 0.3), 0px 1px 3px 1px rgba(60, 64, 67, 0.15);\n",
              "      fill: #174EA6;\n",
              "    }\n",
              "\n",
              "    [theme=dark] .colab-df-convert {\n",
              "      background-color: #3B4455;\n",
              "      fill: #D2E3FC;\n",
              "    }\n",
              "\n",
              "    [theme=dark] .colab-df-convert:hover {\n",
              "      background-color: #434B5C;\n",
              "      box-shadow: 0px 1px 3px 1px rgba(0, 0, 0, 0.15);\n",
              "      filter: drop-shadow(0px 1px 2px rgba(0, 0, 0, 0.3));\n",
              "      fill: #FFFFFF;\n",
              "    }\n",
              "  </style>\n",
              "\n",
              "      <script>\n",
              "        const buttonEl =\n",
              "          document.querySelector('#df-462c8a9c-3f91-48f2-8c8d-34b9894cd038 button.colab-df-convert');\n",
              "        buttonEl.style.display =\n",
              "          google.colab.kernel.accessAllowed ? 'block' : 'none';\n",
              "\n",
              "        async function convertToInteractive(key) {\n",
              "          const element = document.querySelector('#df-462c8a9c-3f91-48f2-8c8d-34b9894cd038');\n",
              "          const dataTable =\n",
              "            await google.colab.kernel.invokeFunction('convertToInteractive',\n",
              "                                                     [key], {});\n",
              "          if (!dataTable) return;\n",
              "\n",
              "          const docLinkHtml = 'Like what you see? Visit the ' +\n",
              "            '<a target=\"_blank\" href=https://colab.research.google.com/notebooks/data_table.ipynb>data table notebook</a>'\n",
              "            + ' to learn more about interactive tables.';\n",
              "          element.innerHTML = '';\n",
              "          dataTable['output_type'] = 'display_data';\n",
              "          await google.colab.output.renderOutput(dataTable, element);\n",
              "          const docLink = document.createElement('div');\n",
              "          docLink.innerHTML = docLinkHtml;\n",
              "          element.appendChild(docLink);\n",
              "        }\n",
              "      </script>\n",
              "    </div>\n",
              "  </div>\n",
              "  "
            ]
          },
          "metadata": {},
          "execution_count": 8
        }
      ]
    },
    {
      "cell_type": "markdown",
      "source": [
        "Unimos el dataset preprocesado con el que contiene las descripciones."
      ],
      "metadata": {
        "id": "cFk2XOkXyA4z"
      }
    },
    {
      "cell_type": "code",
      "source": [
        "dataset_pln_train = dataset_pln_train.merge(dataset_descrip, left_on='id', right_on='id')\n",
        "dataset_pln_test = dataset_pln_test.merge(dataset_descrip, left_on='id', right_on='id')\n",
        "dataset_pln_train.head()"
      ],
      "metadata": {
        "colab": {
          "base_uri": "https://localhost:8080/",
          "height": 444
        },
        "id": "IGfTMZ6b-SZC",
        "outputId": "70ea85df-9098-407e-e0bd-5482258b9b47"
      },
      "execution_count": 9,
      "outputs": [
        {
          "output_type": "execute_result",
          "data": {
            "text/plain": [
              "                         id    latitud   longitud        barrio property_type  \\\n",
              "0  /KS9ys5/j+tOi7ZtBH0beg== -34.554271 -58.457668      Belgrano  Departamento   \n",
              "1  F5QJsmufcrReRAHbc84lxQ== -34.613544 -58.368072     Monserrat  Departamento   \n",
              "2  MJP64X970Gj+Zdvn592RWA== -34.571020 -58.433125       Palermo  Departamento   \n",
              "3  SEUBJTexychILiuTsn9L3Q== -34.597384 -58.405139  Barrio Norte  Departamento   \n",
              "4  gQdKfHVQXAfnza6dQte4ng== -34.591646 -58.418064       Palermo  Departamento   \n",
              "\n",
              "   property_rooms  property_bedrooms  property_surface_total  \\\n",
              "0               2                  1                      59   \n",
              "1               3                  2                      71   \n",
              "2               2                  1                      79   \n",
              "3               4                  3                      91   \n",
              "4               1                  1                      37   \n",
              "\n",
              "   property_surface_covered  property_price  \\\n",
              "0                        59          178000   \n",
              "1                        71          129000   \n",
              "2                        59          249000   \n",
              "3                        85          165000   \n",
              "4                        32          105000   \n",
              "\n",
              "                                property_description  \n",
              "0  Hermoso departamento 2 ambientes piso alto a e...  \n",
              "1  Corredor Responsable: Cristian Arnal Ponti - C...  \n",
              "2  Corredor Responsable: Ariel Champanier - CUCIC...  \n",
              "3  SUPER OPORTUNIDAD!  AL MEJOR VALOR DE M2 DEL M...  \n",
              "4  Corredor Responsable: Hernan Perrone CUCICBA 2...  "
            ],
            "text/html": [
              "\n",
              "  <div id=\"df-60b0c3ff-a18e-4734-9bdf-1306d7a581e4\">\n",
              "    <div class=\"colab-df-container\">\n",
              "      <div>\n",
              "<style scoped>\n",
              "    .dataframe tbody tr th:only-of-type {\n",
              "        vertical-align: middle;\n",
              "    }\n",
              "\n",
              "    .dataframe tbody tr th {\n",
              "        vertical-align: top;\n",
              "    }\n",
              "\n",
              "    .dataframe thead th {\n",
              "        text-align: right;\n",
              "    }\n",
              "</style>\n",
              "<table border=\"1\" class=\"dataframe\">\n",
              "  <thead>\n",
              "    <tr style=\"text-align: right;\">\n",
              "      <th></th>\n",
              "      <th>id</th>\n",
              "      <th>latitud</th>\n",
              "      <th>longitud</th>\n",
              "      <th>barrio</th>\n",
              "      <th>property_type</th>\n",
              "      <th>property_rooms</th>\n",
              "      <th>property_bedrooms</th>\n",
              "      <th>property_surface_total</th>\n",
              "      <th>property_surface_covered</th>\n",
              "      <th>property_price</th>\n",
              "      <th>property_description</th>\n",
              "    </tr>\n",
              "  </thead>\n",
              "  <tbody>\n",
              "    <tr>\n",
              "      <th>0</th>\n",
              "      <td>/KS9ys5/j+tOi7ZtBH0beg==</td>\n",
              "      <td>-34.554271</td>\n",
              "      <td>-58.457668</td>\n",
              "      <td>Belgrano</td>\n",
              "      <td>Departamento</td>\n",
              "      <td>2</td>\n",
              "      <td>1</td>\n",
              "      <td>59</td>\n",
              "      <td>59</td>\n",
              "      <td>178000</td>\n",
              "      <td>Hermoso departamento 2 ambientes piso alto a e...</td>\n",
              "    </tr>\n",
              "    <tr>\n",
              "      <th>1</th>\n",
              "      <td>F5QJsmufcrReRAHbc84lxQ==</td>\n",
              "      <td>-34.613544</td>\n",
              "      <td>-58.368072</td>\n",
              "      <td>Monserrat</td>\n",
              "      <td>Departamento</td>\n",
              "      <td>3</td>\n",
              "      <td>2</td>\n",
              "      <td>71</td>\n",
              "      <td>71</td>\n",
              "      <td>129000</td>\n",
              "      <td>Corredor Responsable: Cristian Arnal Ponti - C...</td>\n",
              "    </tr>\n",
              "    <tr>\n",
              "      <th>2</th>\n",
              "      <td>MJP64X970Gj+Zdvn592RWA==</td>\n",
              "      <td>-34.571020</td>\n",
              "      <td>-58.433125</td>\n",
              "      <td>Palermo</td>\n",
              "      <td>Departamento</td>\n",
              "      <td>2</td>\n",
              "      <td>1</td>\n",
              "      <td>79</td>\n",
              "      <td>59</td>\n",
              "      <td>249000</td>\n",
              "      <td>Corredor Responsable: Ariel Champanier - CUCIC...</td>\n",
              "    </tr>\n",
              "    <tr>\n",
              "      <th>3</th>\n",
              "      <td>SEUBJTexychILiuTsn9L3Q==</td>\n",
              "      <td>-34.597384</td>\n",
              "      <td>-58.405139</td>\n",
              "      <td>Barrio Norte</td>\n",
              "      <td>Departamento</td>\n",
              "      <td>4</td>\n",
              "      <td>3</td>\n",
              "      <td>91</td>\n",
              "      <td>85</td>\n",
              "      <td>165000</td>\n",
              "      <td>SUPER OPORTUNIDAD!  AL MEJOR VALOR DE M2 DEL M...</td>\n",
              "    </tr>\n",
              "    <tr>\n",
              "      <th>4</th>\n",
              "      <td>gQdKfHVQXAfnza6dQte4ng==</td>\n",
              "      <td>-34.591646</td>\n",
              "      <td>-58.418064</td>\n",
              "      <td>Palermo</td>\n",
              "      <td>Departamento</td>\n",
              "      <td>1</td>\n",
              "      <td>1</td>\n",
              "      <td>37</td>\n",
              "      <td>32</td>\n",
              "      <td>105000</td>\n",
              "      <td>Corredor Responsable: Hernan Perrone CUCICBA 2...</td>\n",
              "    </tr>\n",
              "  </tbody>\n",
              "</table>\n",
              "</div>\n",
              "      <button class=\"colab-df-convert\" onclick=\"convertToInteractive('df-60b0c3ff-a18e-4734-9bdf-1306d7a581e4')\"\n",
              "              title=\"Convert this dataframe to an interactive table.\"\n",
              "              style=\"display:none;\">\n",
              "        \n",
              "  <svg xmlns=\"http://www.w3.org/2000/svg\" height=\"24px\"viewBox=\"0 0 24 24\"\n",
              "       width=\"24px\">\n",
              "    <path d=\"M0 0h24v24H0V0z\" fill=\"none\"/>\n",
              "    <path d=\"M18.56 5.44l.94 2.06.94-2.06 2.06-.94-2.06-.94-.94-2.06-.94 2.06-2.06.94zm-11 1L8.5 8.5l.94-2.06 2.06-.94-2.06-.94L8.5 2.5l-.94 2.06-2.06.94zm10 10l.94 2.06.94-2.06 2.06-.94-2.06-.94-.94-2.06-.94 2.06-2.06.94z\"/><path d=\"M17.41 7.96l-1.37-1.37c-.4-.4-.92-.59-1.43-.59-.52 0-1.04.2-1.43.59L10.3 9.45l-7.72 7.72c-.78.78-.78 2.05 0 2.83L4 21.41c.39.39.9.59 1.41.59.51 0 1.02-.2 1.41-.59l7.78-7.78 2.81-2.81c.8-.78.8-2.07 0-2.86zM5.41 20L4 18.59l7.72-7.72 1.47 1.35L5.41 20z\"/>\n",
              "  </svg>\n",
              "      </button>\n",
              "      \n",
              "  <style>\n",
              "    .colab-df-container {\n",
              "      display:flex;\n",
              "      flex-wrap:wrap;\n",
              "      gap: 12px;\n",
              "    }\n",
              "\n",
              "    .colab-df-convert {\n",
              "      background-color: #E8F0FE;\n",
              "      border: none;\n",
              "      border-radius: 50%;\n",
              "      cursor: pointer;\n",
              "      display: none;\n",
              "      fill: #1967D2;\n",
              "      height: 32px;\n",
              "      padding: 0 0 0 0;\n",
              "      width: 32px;\n",
              "    }\n",
              "\n",
              "    .colab-df-convert:hover {\n",
              "      background-color: #E2EBFA;\n",
              "      box-shadow: 0px 1px 2px rgba(60, 64, 67, 0.3), 0px 1px 3px 1px rgba(60, 64, 67, 0.15);\n",
              "      fill: #174EA6;\n",
              "    }\n",
              "\n",
              "    [theme=dark] .colab-df-convert {\n",
              "      background-color: #3B4455;\n",
              "      fill: #D2E3FC;\n",
              "    }\n",
              "\n",
              "    [theme=dark] .colab-df-convert:hover {\n",
              "      background-color: #434B5C;\n",
              "      box-shadow: 0px 1px 3px 1px rgba(0, 0, 0, 0.15);\n",
              "      filter: drop-shadow(0px 1px 2px rgba(0, 0, 0, 0.3));\n",
              "      fill: #FFFFFF;\n",
              "    }\n",
              "  </style>\n",
              "\n",
              "      <script>\n",
              "        const buttonEl =\n",
              "          document.querySelector('#df-60b0c3ff-a18e-4734-9bdf-1306d7a581e4 button.colab-df-convert');\n",
              "        buttonEl.style.display =\n",
              "          google.colab.kernel.accessAllowed ? 'block' : 'none';\n",
              "\n",
              "        async function convertToInteractive(key) {\n",
              "          const element = document.querySelector('#df-60b0c3ff-a18e-4734-9bdf-1306d7a581e4');\n",
              "          const dataTable =\n",
              "            await google.colab.kernel.invokeFunction('convertToInteractive',\n",
              "                                                     [key], {});\n",
              "          if (!dataTable) return;\n",
              "\n",
              "          const docLinkHtml = 'Like what you see? Visit the ' +\n",
              "            '<a target=\"_blank\" href=https://colab.research.google.com/notebooks/data_table.ipynb>data table notebook</a>'\n",
              "            + ' to learn more about interactive tables.';\n",
              "          element.innerHTML = '';\n",
              "          dataTable['output_type'] = 'display_data';\n",
              "          await google.colab.output.renderOutput(dataTable, element);\n",
              "          const docLink = document.createElement('div');\n",
              "          docLink.innerHTML = docLinkHtml;\n",
              "          element.appendChild(docLink);\n",
              "        }\n",
              "      </script>\n",
              "    </div>\n",
              "  </div>\n",
              "  "
            ]
          },
          "metadata": {},
          "execution_count": 9
        }
      ]
    },
    {
      "cell_type": "markdown",
      "source": [
        "Normalizamos las descripciones para que sea más fácil realizar el análisis."
      ],
      "metadata": {
        "id": "6pF-Wv2kZ408"
      }
    },
    {
      "cell_type": "code",
      "source": [
        "def normalizar(descripcion):\n",
        "  descripcion = descripcion.lower()\n",
        "  descripcion = descripcion.replace('á', 'a')\n",
        "  descripcion = descripcion.replace('é', 'e')\n",
        "  descripcion = descripcion.replace('í', 'i')\n",
        "  descripcion = descripcion.replace('ó', 'o')\n",
        "  descripcion = descripcion.replace('ú', 'u')\n",
        "  return descripcion"
      ],
      "metadata": {
        "id": "hzxwFlXfN3V3"
      },
      "execution_count": 10,
      "outputs": []
    },
    {
      "cell_type": "markdown",
      "source": [
        "Definimos una lista de palabras que no son relevantes a la hora de elegir aspectos, y creamos un diccionario que contiene todas las palabras de las descripciones con sus frecuencias, para ver cuáles podemos tomar como aspectos."
      ],
      "metadata": {
        "id": "wdSNpgfmyP8d"
      }
    },
    {
      "cell_type": "code",
      "source": [
        "ignorar = [\"a\", \"ante\", \"cabe\", \"con\", \"de\", \"desde\", \"durante\", \"en\", \n",
        "           \"entre\", \"hacia\", \"hasta\", \"mediante\", \"para\", \"por\", \"según\",\n",
        "           \"sin\", \"so\", \"sobre\", \"tras\", \"versus\", \"via\", \"el\", \"la\", \"los\", \n",
        "           \"del\", \"las\", \"los\", \"etc\", \"es\", \"era\", \"br\", \"y\", \"que\", \"al\", \n",
        "           \"o\", \"un\", \"ba\", \"una\", \"se\", \"\", \"cocina\", \"ambientes\", \"piso\", \n",
        "           \"pisos\", \"propiedad\", \"son\", \"muy\", \"esta\", \"dos\", \"cuadras\",\n",
        "           \"completo\", \"corredor\", \"responsable\", \"inmueble\", \"excelente\", \n",
        "           \"amplio\", \"accede\", \"cucicba\", \"medidas\", \"cuenta\", \"lendar\", \n",
        "           \"queres\", \"ley\", \"podes\", \"gran\", \"aire\", \"simula\", \"metros\",\n",
        "           \"mls\", \"personas\", \"parte\", \"inmobiliario\", \"encuentra\", \"independiente\",\n",
        "           \"todas\", \"todos\", \"unidades\", \"presente\", \"tiene\", \"este\", \"mas\",\n",
        "           \"unidad\", \"aviso\", \"operacion\", \"bajo\", \"propietario\", \"como\", \"informacion\",\n",
        "           \"operaciones\", \"mts\", \"discapacidades\"\n",
        "           ]"
      ],
      "metadata": {
        "id": "UZLu34PrZ_98"
      },
      "execution_count": 12,
      "outputs": []
    },
    {
      "cell_type": "code",
      "source": [
        "def obtener_aspectos(dataset):\n",
        "  cantidades = {}\n",
        "  for descripcion in dataset['property_description']:\n",
        "    descripcion = normalizar(descripcion)\n",
        "    palabras = re.split('[^a-z]', descripcion)\n",
        "    for palabra in palabras:\n",
        "      if not palabra in ignorar and len(palabra) > 2:\n",
        "        cantidades[palabra] = cantidades.get(palabra, 0) + 1\n",
        "  return cantidades\n",
        "\n",
        "diccionario_aspectos = obtener_aspectos(dataset_pln_train)"
      ],
      "metadata": {
        "id": "2OljY73J_40K"
      },
      "execution_count": 13,
      "outputs": []
    },
    {
      "cell_type": "markdown",
      "source": [
        "Tomamos las 50 palabras más frecuentes como aspectos relevantes de las descripciones, y buscamos frases que las contengan para considerar también como aspectos."
      ],
      "metadata": {
        "id": "PncgtS_GyYq7"
      }
    },
    {
      "cell_type": "code",
      "source": [
        "aspectos_comunes = sorted(diccionario_aspectos.items(), key=lambda x: x[1], reverse=True)[:50]\n",
        "for aspecto in aspectos_comunes:\n",
        "  print(aspecto)"
      ],
      "metadata": {
        "colab": {
          "base_uri": "https://localhost:8080/"
        },
        "id": "U6ETLjwyGQqL",
        "outputId": "207b6633-f671-41dc-8550-9efc0489b2ee"
      },
      "execution_count": 14,
      "outputs": [
        {
          "output_type": "stream",
          "name": "stdout",
          "text": [
            "('balcon', 65617)\n",
            "('comedor', 60511)\n",
            "('living', 58609)\n",
            "('departamento', 55953)\n",
            "('edificio', 51346)\n",
            "('dormitorio', 44593)\n",
            "('expensas', 42030)\n",
            "('frente', 41990)\n",
            "('valor', 40105)\n",
            "('placard', 32240)\n",
            "('casa', 29942)\n",
            "('luminoso', 29466)\n",
            "('venta', 29335)\n",
            "('lavadero', 28301)\n",
            "('dormitorios', 27703)\n",
            "('prestamo', 26319)\n",
            "('terraza', 26252)\n",
            "('cuota', 25832)\n",
            "('contacto', 25406)\n",
            "('ubicacion', 24576)\n",
            "('vista', 23644)\n",
            "('salida', 23598)\n",
            "('espacio', 23272)\n",
            "('cochera', 22612)\n",
            "('compra', 22369)\n",
            "('zona', 21992)\n",
            "('patio', 20780)\n",
            "('ubicado', 20579)\n",
            "('linea', 20472)\n",
            "('barrio', 20428)\n",
            "('planta', 20358)\n",
            "('mesada', 19960)\n",
            "('principal', 19285)\n",
            "('acceso', 19023)\n",
            "('parrilla', 18774)\n",
            "('accesible', 18627)\n",
            "('subte', 18562)\n",
            "('servicios', 18426)\n",
            "('estado', 17936)\n",
            "('servicio', 17562)\n",
            "('acondicionado', 17071)\n",
            "('agua', 16941)\n",
            "('toilette', 16738)\n",
            "('hall', 15808)\n",
            "('comercial', 15729)\n",
            "('estacion', 15541)\n",
            "('calidad', 15113)\n",
            "('madera', 14985)\n",
            "('suite', 14645)\n",
            "('calefaccion', 14427)\n"
          ]
        }
      ]
    },
    {
      "cell_type": "code",
      "source": [
        "aspectos_comunes_lista = [aspecto[0] for aspecto in aspectos_comunes]\n",
        "aspetos_regex = '|'.join(aspectos_comunes_lista)\n",
        "\n",
        "def obtener_matches(dataset, regex_match, cantidad):\n",
        "  cantidades = {}\n",
        "  for descripcion in dataset['property_description']:\n",
        "    descripcion = normalizar(descripcion)\n",
        "    frases = re.findall(regex_match, descripcion)\n",
        "    for frase in frases:\n",
        "          cantidades[frase] = cantidades.get(frase, 0) + 1\n",
        "  \n",
        "  return dict(sorted(cantidades.items(), key=lambda item: item[1], reverse=True)[:cantidad])\n",
        "\n",
        "grupo_aspectos = f\"(?:{aspetos_regex})\"\n",
        "diccionario_frases = {}\n",
        "diccionario_frases.update(obtener_matches(dataset_pln_train, \"con \" + grupo_aspectos + \" \\w{4,}\", 10))\n",
        "diccionario_frases.update(obtener_matches(dataset_pln_train, \"\\w{4,} con \" +  grupo_aspectos, 10))\n",
        "diccionario_frases.update(obtener_matches(dataset_pln_train, \"\\w{4,} \" +  grupo_aspectos, 10))\n",
        "# diccionario_frases.update(obtener_matches(dataset_pln_train, \"\\w{4,} de \" +  grupo_aspectos, 10))\n"
      ],
      "metadata": {
        "id": "OftXPu9NCGgb"
      },
      "execution_count": 15,
      "outputs": []
    },
    {
      "cell_type": "code",
      "source": [
        "frases_comunes = sorted(diccionario_frases.items(), key=lambda x: x[1], reverse=True)\n",
        "for frase in frases_comunes:\n",
        "  print(frase)"
      ],
      "metadata": {
        "id": "-f8wxJDjKSyr",
        "outputId": "9fdddd8c-a0d6-4bed-cea2-6c72029bd40a",
        "colab": {
          "base_uri": "https://localhost:8080/"
        }
      },
      "execution_count": 16,
      "outputs": [
        {
          "output_type": "stream",
          "name": "stdout",
          "text": [
            "('living comedor', 23655)\n",
            "('aire acondicionado', 16951)\n",
            "('bajo mesada', 11551)\n",
            "('excelente ubicacion', 9930)\n",
            "('dormitorio principal', 7251)\n",
            "('amplio living', 6901)\n",
            "('comedor con salida', 5648)\n",
            "('buen estado', 5578)\n",
            "('excelente estado', 5318)\n",
            "('primera calidad', 5278)\n",
            "('super luminoso', 5267)\n",
            "('dormitorio con placard', 4553)\n",
            "('con vista abierta', 3667)\n",
            "('con espacio para', 3025)\n",
            "('ambientes con balcon', 2979)\n",
            "('con comedor diario', 2794)\n",
            "('dormitorios con placard', 2671)\n",
            "('frente con balcon', 2394)\n",
            "('cocina con comedor', 1934)\n",
            "('terraza con parrilla', 1901)\n",
            "('con placard empotrado', 1873)\n",
            "('con balcon corrido', 1546)\n",
            "('ambientes con cochera', 1369)\n",
            "('cocina con lavadero', 1351)\n",
            "('balcon con vista', 1303)\n",
            "('con lavadero incorporado', 1019)\n",
            "('con balcon frances', 957)\n",
            "('con living comedor', 902)\n",
            "('con vista panoramica', 847)\n",
            "('con cochera fija', 782)\n"
          ]
        }
      ]
    },
    {
      "cell_type": "markdown",
      "source": [
        "Una vez generada la lista de aspectos (palabras + frases) los agregamos al dataset como columnas nuevas."
      ],
      "metadata": {
        "id": "OFKBDs2iaV8y"
      }
    },
    {
      "cell_type": "code",
      "source": [
        "def agregar_aspectos(dataset, aspectos):\n",
        "  for aspecto in aspectos:\n",
        "    dataset[aspecto] = dataset[\"property_description\"].apply(contiene_aspecto, args=(aspecto,))\n",
        "\n",
        "def contiene_aspecto(descripcion, aspecto):\n",
        "  descripcion = normalizar(descripcion)\n",
        "  return int(None != re.search(aspecto, descripcion))\n",
        "\n",
        "frases_comunes_lista = [frase[0] for frase in frases_comunes]\n",
        "aspectos_comunes_lista = [aspecto[0] for aspecto in aspectos_comunes]\n",
        "agregar_aspectos(dataset_pln_train, frases_comunes_lista)\n",
        "agregar_aspectos(dataset_pln_train, aspectos_comunes_lista)\n",
        "agregar_aspectos(dataset_pln_test, frases_comunes_lista)\n",
        "agregar_aspectos(dataset_pln_test, aspectos_comunes_lista)\n",
        "\n",
        "dataset_pln_train.head()"
      ],
      "metadata": {
        "colab": {
          "base_uri": "https://localhost:8080/",
          "height": 300
        },
        "id": "QXOh-Xl2KZIb",
        "outputId": "59bb9cdf-bbcc-4ad7-cbbb-68520d5fc0f3"
      },
      "execution_count": 17,
      "outputs": [
        {
          "output_type": "execute_result",
          "data": {
            "text/plain": [
              "                         id    latitud   longitud  barrio property_type  \\\n",
              "0  /KS9ys5/j+tOi7ZtBH0beg== -34.554271 -58.457668       1  Departamento   \n",
              "1  F5QJsmufcrReRAHbc84lxQ== -34.613544 -58.368072       1  Departamento   \n",
              "2  MJP64X970Gj+Zdvn592RWA== -34.571020 -58.433125       0  Departamento   \n",
              "3  SEUBJTexychILiuTsn9L3Q== -34.597384 -58.405139       1  Departamento   \n",
              "4  gQdKfHVQXAfnza6dQte4ng== -34.591646 -58.418064       0  Departamento   \n",
              "\n",
              "   property_rooms  property_bedrooms  property_surface_total  \\\n",
              "0               2                  1                      59   \n",
              "1               3                  2                      71   \n",
              "2               2                  1                      79   \n",
              "3               4                  3                      91   \n",
              "4               1                  1                      37   \n",
              "\n",
              "   property_surface_covered  property_price  ... acondicionado  agua  \\\n",
              "0                        59          178000  ...             0     0   \n",
              "1                        71          129000  ...             0     0   \n",
              "2                        59          249000  ...             0     0   \n",
              "3                        85          165000  ...             0     0   \n",
              "4                        32          105000  ...             0     0   \n",
              "\n",
              "   toilette  hall  comercial  estacion  calidad  madera  suite  calefaccion  \n",
              "0         0     0          0         0        0       0      0            1  \n",
              "1         0     0          0         0        0       0      0            0  \n",
              "2         1     1          0         0        0       0      1            1  \n",
              "3         0     0          0         0        0       0      0            0  \n",
              "4         0     0          0         0        0       0      0            0  \n",
              "\n",
              "[5 rows x 90 columns]"
            ],
            "text/html": [
              "\n",
              "  <div id=\"df-aaf2fa1f-da02-41b0-9e93-9f088a22b18f\">\n",
              "    <div class=\"colab-df-container\">\n",
              "      <div>\n",
              "<style scoped>\n",
              "    .dataframe tbody tr th:only-of-type {\n",
              "        vertical-align: middle;\n",
              "    }\n",
              "\n",
              "    .dataframe tbody tr th {\n",
              "        vertical-align: top;\n",
              "    }\n",
              "\n",
              "    .dataframe thead th {\n",
              "        text-align: right;\n",
              "    }\n",
              "</style>\n",
              "<table border=\"1\" class=\"dataframe\">\n",
              "  <thead>\n",
              "    <tr style=\"text-align: right;\">\n",
              "      <th></th>\n",
              "      <th>id</th>\n",
              "      <th>latitud</th>\n",
              "      <th>longitud</th>\n",
              "      <th>barrio</th>\n",
              "      <th>property_type</th>\n",
              "      <th>property_rooms</th>\n",
              "      <th>property_bedrooms</th>\n",
              "      <th>property_surface_total</th>\n",
              "      <th>property_surface_covered</th>\n",
              "      <th>property_price</th>\n",
              "      <th>...</th>\n",
              "      <th>acondicionado</th>\n",
              "      <th>agua</th>\n",
              "      <th>toilette</th>\n",
              "      <th>hall</th>\n",
              "      <th>comercial</th>\n",
              "      <th>estacion</th>\n",
              "      <th>calidad</th>\n",
              "      <th>madera</th>\n",
              "      <th>suite</th>\n",
              "      <th>calefaccion</th>\n",
              "    </tr>\n",
              "  </thead>\n",
              "  <tbody>\n",
              "    <tr>\n",
              "      <th>0</th>\n",
              "      <td>/KS9ys5/j+tOi7ZtBH0beg==</td>\n",
              "      <td>-34.554271</td>\n",
              "      <td>-58.457668</td>\n",
              "      <td>1</td>\n",
              "      <td>Departamento</td>\n",
              "      <td>2</td>\n",
              "      <td>1</td>\n",
              "      <td>59</td>\n",
              "      <td>59</td>\n",
              "      <td>178000</td>\n",
              "      <td>...</td>\n",
              "      <td>0</td>\n",
              "      <td>0</td>\n",
              "      <td>0</td>\n",
              "      <td>0</td>\n",
              "      <td>0</td>\n",
              "      <td>0</td>\n",
              "      <td>0</td>\n",
              "      <td>0</td>\n",
              "      <td>0</td>\n",
              "      <td>1</td>\n",
              "    </tr>\n",
              "    <tr>\n",
              "      <th>1</th>\n",
              "      <td>F5QJsmufcrReRAHbc84lxQ==</td>\n",
              "      <td>-34.613544</td>\n",
              "      <td>-58.368072</td>\n",
              "      <td>1</td>\n",
              "      <td>Departamento</td>\n",
              "      <td>3</td>\n",
              "      <td>2</td>\n",
              "      <td>71</td>\n",
              "      <td>71</td>\n",
              "      <td>129000</td>\n",
              "      <td>...</td>\n",
              "      <td>0</td>\n",
              "      <td>0</td>\n",
              "      <td>0</td>\n",
              "      <td>0</td>\n",
              "      <td>0</td>\n",
              "      <td>0</td>\n",
              "      <td>0</td>\n",
              "      <td>0</td>\n",
              "      <td>0</td>\n",
              "      <td>0</td>\n",
              "    </tr>\n",
              "    <tr>\n",
              "      <th>2</th>\n",
              "      <td>MJP64X970Gj+Zdvn592RWA==</td>\n",
              "      <td>-34.571020</td>\n",
              "      <td>-58.433125</td>\n",
              "      <td>0</td>\n",
              "      <td>Departamento</td>\n",
              "      <td>2</td>\n",
              "      <td>1</td>\n",
              "      <td>79</td>\n",
              "      <td>59</td>\n",
              "      <td>249000</td>\n",
              "      <td>...</td>\n",
              "      <td>0</td>\n",
              "      <td>0</td>\n",
              "      <td>1</td>\n",
              "      <td>1</td>\n",
              "      <td>0</td>\n",
              "      <td>0</td>\n",
              "      <td>0</td>\n",
              "      <td>0</td>\n",
              "      <td>1</td>\n",
              "      <td>1</td>\n",
              "    </tr>\n",
              "    <tr>\n",
              "      <th>3</th>\n",
              "      <td>SEUBJTexychILiuTsn9L3Q==</td>\n",
              "      <td>-34.597384</td>\n",
              "      <td>-58.405139</td>\n",
              "      <td>1</td>\n",
              "      <td>Departamento</td>\n",
              "      <td>4</td>\n",
              "      <td>3</td>\n",
              "      <td>91</td>\n",
              "      <td>85</td>\n",
              "      <td>165000</td>\n",
              "      <td>...</td>\n",
              "      <td>0</td>\n",
              "      <td>0</td>\n",
              "      <td>0</td>\n",
              "      <td>0</td>\n",
              "      <td>0</td>\n",
              "      <td>0</td>\n",
              "      <td>0</td>\n",
              "      <td>0</td>\n",
              "      <td>0</td>\n",
              "      <td>0</td>\n",
              "    </tr>\n",
              "    <tr>\n",
              "      <th>4</th>\n",
              "      <td>gQdKfHVQXAfnza6dQte4ng==</td>\n",
              "      <td>-34.591646</td>\n",
              "      <td>-58.418064</td>\n",
              "      <td>0</td>\n",
              "      <td>Departamento</td>\n",
              "      <td>1</td>\n",
              "      <td>1</td>\n",
              "      <td>37</td>\n",
              "      <td>32</td>\n",
              "      <td>105000</td>\n",
              "      <td>...</td>\n",
              "      <td>0</td>\n",
              "      <td>0</td>\n",
              "      <td>0</td>\n",
              "      <td>0</td>\n",
              "      <td>0</td>\n",
              "      <td>0</td>\n",
              "      <td>0</td>\n",
              "      <td>0</td>\n",
              "      <td>0</td>\n",
              "      <td>0</td>\n",
              "    </tr>\n",
              "  </tbody>\n",
              "</table>\n",
              "<p>5 rows × 90 columns</p>\n",
              "</div>\n",
              "      <button class=\"colab-df-convert\" onclick=\"convertToInteractive('df-aaf2fa1f-da02-41b0-9e93-9f088a22b18f')\"\n",
              "              title=\"Convert this dataframe to an interactive table.\"\n",
              "              style=\"display:none;\">\n",
              "        \n",
              "  <svg xmlns=\"http://www.w3.org/2000/svg\" height=\"24px\"viewBox=\"0 0 24 24\"\n",
              "       width=\"24px\">\n",
              "    <path d=\"M0 0h24v24H0V0z\" fill=\"none\"/>\n",
              "    <path d=\"M18.56 5.44l.94 2.06.94-2.06 2.06-.94-2.06-.94-.94-2.06-.94 2.06-2.06.94zm-11 1L8.5 8.5l.94-2.06 2.06-.94-2.06-.94L8.5 2.5l-.94 2.06-2.06.94zm10 10l.94 2.06.94-2.06 2.06-.94-2.06-.94-.94-2.06-.94 2.06-2.06.94z\"/><path d=\"M17.41 7.96l-1.37-1.37c-.4-.4-.92-.59-1.43-.59-.52 0-1.04.2-1.43.59L10.3 9.45l-7.72 7.72c-.78.78-.78 2.05 0 2.83L4 21.41c.39.39.9.59 1.41.59.51 0 1.02-.2 1.41-.59l7.78-7.78 2.81-2.81c.8-.78.8-2.07 0-2.86zM5.41 20L4 18.59l7.72-7.72 1.47 1.35L5.41 20z\"/>\n",
              "  </svg>\n",
              "      </button>\n",
              "      \n",
              "  <style>\n",
              "    .colab-df-container {\n",
              "      display:flex;\n",
              "      flex-wrap:wrap;\n",
              "      gap: 12px;\n",
              "    }\n",
              "\n",
              "    .colab-df-convert {\n",
              "      background-color: #E8F0FE;\n",
              "      border: none;\n",
              "      border-radius: 50%;\n",
              "      cursor: pointer;\n",
              "      display: none;\n",
              "      fill: #1967D2;\n",
              "      height: 32px;\n",
              "      padding: 0 0 0 0;\n",
              "      width: 32px;\n",
              "    }\n",
              "\n",
              "    .colab-df-convert:hover {\n",
              "      background-color: #E2EBFA;\n",
              "      box-shadow: 0px 1px 2px rgba(60, 64, 67, 0.3), 0px 1px 3px 1px rgba(60, 64, 67, 0.15);\n",
              "      fill: #174EA6;\n",
              "    }\n",
              "\n",
              "    [theme=dark] .colab-df-convert {\n",
              "      background-color: #3B4455;\n",
              "      fill: #D2E3FC;\n",
              "    }\n",
              "\n",
              "    [theme=dark] .colab-df-convert:hover {\n",
              "      background-color: #434B5C;\n",
              "      box-shadow: 0px 1px 3px 1px rgba(0, 0, 0, 0.15);\n",
              "      filter: drop-shadow(0px 1px 2px rgba(0, 0, 0, 0.3));\n",
              "      fill: #FFFFFF;\n",
              "    }\n",
              "  </style>\n",
              "\n",
              "      <script>\n",
              "        const buttonEl =\n",
              "          document.querySelector('#df-aaf2fa1f-da02-41b0-9e93-9f088a22b18f button.colab-df-convert');\n",
              "        buttonEl.style.display =\n",
              "          google.colab.kernel.accessAllowed ? 'block' : 'none';\n",
              "\n",
              "        async function convertToInteractive(key) {\n",
              "          const element = document.querySelector('#df-aaf2fa1f-da02-41b0-9e93-9f088a22b18f');\n",
              "          const dataTable =\n",
              "            await google.colab.kernel.invokeFunction('convertToInteractive',\n",
              "                                                     [key], {});\n",
              "          if (!dataTable) return;\n",
              "\n",
              "          const docLinkHtml = 'Like what you see? Visit the ' +\n",
              "            '<a target=\"_blank\" href=https://colab.research.google.com/notebooks/data_table.ipynb>data table notebook</a>'\n",
              "            + ' to learn more about interactive tables.';\n",
              "          element.innerHTML = '';\n",
              "          dataTable['output_type'] = 'display_data';\n",
              "          await google.colab.output.renderOutput(dataTable, element);\n",
              "          const docLink = document.createElement('div');\n",
              "          docLink.innerHTML = docLinkHtml;\n",
              "          element.appendChild(docLink);\n",
              "        }\n",
              "      </script>\n",
              "    </div>\n",
              "  </div>\n",
              "  "
            ]
          },
          "metadata": {},
          "execution_count": 17
        }
      ]
    },
    {
      "cell_type": "markdown",
      "source": [
        "## XGBoost"
      ],
      "metadata": {
        "id": "n8ipiK9OQCYF"
      }
    },
    {
      "cell_type": "markdown",
      "source": [
        "Entrenamos dos modelos XGBoost: uno utilizando los hiperparámetros obtenidos en el primer trabajo y otro con hiperparámetros optimizados para el nuevo dataset. \n",
        "\n",
        "La idea es generar modelos de regresión que puedan predecir el precio de la propiedad."
      ],
      "metadata": {
        "id": "FZXCk69_yx20"
      }
    },
    {
      "cell_type": "markdown",
      "source": [
        "Primero construimos el target y adaptamos el dataset."
      ],
      "metadata": {
        "id": "HHTEVFan07zK"
      }
    },
    {
      "cell_type": "code",
      "source": [
        "(target_train, dataset_train) = build_target_and_dataset(dataset_pln_train)\n",
        "(target_test, dataset_test) = build_target_and_dataset(dataset_pln_test)"
      ],
      "metadata": {
        "id": "U2g4fpHK09u0"
      },
      "execution_count": 18,
      "outputs": []
    },
    {
      "cell_type": "markdown",
      "source": [
        "### Parámetros del TP1"
      ],
      "metadata": {
        "id": "cKx39Hz-ytue"
      }
    },
    {
      "cell_type": "markdown",
      "source": [
        "Entrenamos al primer modelo e imprimimos sus métricas de test y de train."
      ],
      "metadata": {
        "id": "uggV3uhVzRYj"
      }
    },
    {
      "cell_type": "code",
      "source": [
        "xgb = XGBRegressor(n_estimators= 500, min_child_weight= 6, max_depth= 12, learning_rate= 0.07)\n",
        "model = xgb.fit(dataset_train, target_train)"
      ],
      "metadata": {
        "colab": {
          "base_uri": "https://localhost:8080/"
        },
        "id": "YhUUyDntQB2p",
        "outputId": "3b2ae3c8-4dc0-4588-df9b-508bfb925588"
      },
      "execution_count": 19,
      "outputs": [
        {
          "output_type": "stream",
          "name": "stdout",
          "text": [
            "[19:38:35] WARNING: /workspace/src/objective/regression_obj.cu:152: reg:linear is now deprecated in favor of reg:squarederror.\n"
          ]
        }
      ]
    },
    {
      "cell_type": "markdown",
      "source": [
        "Primero vemos cómo es la performance con los datos de train. Vemos que performa demasiado bien, por lo que podría haber overfitting."
      ],
      "metadata": {
        "id": "E8vwuRk8zfcv"
      }
    },
    {
      "cell_type": "code",
      "source": [
        "precios_predichos_xgb_train = model.predict(dataset_train)\n",
        "imprimir_metricas_regresion(target_train, precios_predichos_xgb_train)"
      ],
      "metadata": {
        "colab": {
          "base_uri": "https://localhost:8080/"
        },
        "id": "SLYxzgxfzhx1",
        "outputId": "a851d1b3-16ff-4c35-dd61-1a4c226f9f04"
      },
      "execution_count": 20,
      "outputs": [
        {
          "output_type": "stream",
          "name": "stdout",
          "text": [
            "El error (mse) de test es: 59773704.05668307\n",
            "El error (rmse) de test es: 7731.345552792416\n",
            "El score R2 es: 0.9944272525801775\n"
          ]
        }
      ]
    },
    {
      "cell_type": "markdown",
      "source": [
        "Ahora analizamos con los datos de test."
      ],
      "metadata": {
        "id": "bp82j5VxzoDr"
      }
    },
    {
      "cell_type": "code",
      "source": [
        "precios_predichos_xgb = model.predict(dataset_test)\n",
        "imprimir_metricas_regresion(target_test, precios_predichos_xgb)"
      ],
      "metadata": {
        "colab": {
          "base_uri": "https://localhost:8080/"
        },
        "id": "9IKIW0rzUQGo",
        "outputId": "5e0f01b1-4bb3-4782-f20d-74217b5396c2"
      },
      "execution_count": 21,
      "outputs": [
        {
          "output_type": "stream",
          "name": "stdout",
          "text": [
            "El error (mse) de test es: 955039406.1595\n",
            "El error (rmse) de test es: 30903.711850835978\n",
            "El score R2 es: 0.9100983586260344\n"
          ]
        }
      ]
    },
    {
      "cell_type": "markdown",
      "source": [
        "Las métricas también son muy buenas, por lo que si bien puede haber un poco de overfitting el modelo está prediciendo bien los resultados. \n",
        "\n",
        "En el TP1 los resultados habían sido: \n",
        "  - El error (mse) de test es: 1194394914.1879835\n",
        "  - El error (rmse) de test es: 34560.0190131311\n",
        "  - El score R2 es: 0.8875645071859526\n",
        "\n",
        "por lo que vemos una mejora. Sin embargo, buscamos un nuevo modelo con los hiperparámetros optimizados a ver si mejoran aún más los resultados."
      ],
      "metadata": {
        "id": "AOFEnc4tzrFb"
      }
    },
    {
      "cell_type": "markdown",
      "source": [
        "### Nuevos hiperparámetros"
      ],
      "metadata": {
        "id": "f0uxcxJzzv9L"
      }
    },
    {
      "cell_type": "markdown",
      "source": [
        "Entrenamos al segundo modelo, esta vez realizando un randomized search para obtener los mejores hiperparámetros."
      ],
      "metadata": {
        "id": "uAFZyycMzycB"
      }
    },
    {
      "cell_type": "code",
      "source": [
        "xgb = XGBRegressor()\n",
        "\n",
        "param_grid = {\n",
        "    \"max_depth\": [4, 8, 12],\n",
        "    \"learning_rate\": [0.03, 0.05, 0.07, 1],\n",
        "    \"min_child_weight\": [2, 4, 6, 8],\n",
        "    \"n_estimators\": [250, 500, 750],\n",
        "    \"n_estimators\": [250, 500, 750],\n",
        "}\n",
        "\n",
        "xgb_randcv = RandomizedSearchCV(\n",
        "    xgb, param_grid, scoring=\"r2\", cv=3, random_state=SEMILLA, n_iter=5\n",
        ")\n",
        "xgb_randcv.fit(dataset_train, target_train)"
      ],
      "metadata": {
        "colab": {
          "base_uri": "https://localhost:8080/"
        },
        "id": "JPKcgAtdzyGz",
        "outputId": "52de4ba7-2ac0-4ce4-ee33-b37dcd11ece3"
      },
      "execution_count": 22,
      "outputs": [
        {
          "output_type": "stream",
          "name": "stdout",
          "text": [
            "[19:44:29] WARNING: /workspace/src/objective/regression_obj.cu:152: reg:linear is now deprecated in favor of reg:squarederror.\n",
            "[19:46:31] WARNING: /workspace/src/objective/regression_obj.cu:152: reg:linear is now deprecated in favor of reg:squarederror.\n",
            "[19:48:37] WARNING: /workspace/src/objective/regression_obj.cu:152: reg:linear is now deprecated in favor of reg:squarederror.\n",
            "[19:50:41] WARNING: /workspace/src/objective/regression_obj.cu:152: reg:linear is now deprecated in favor of reg:squarederror.\n",
            "[19:52:46] WARNING: /workspace/src/objective/regression_obj.cu:152: reg:linear is now deprecated in favor of reg:squarederror.\n",
            "[19:54:52] WARNING: /workspace/src/objective/regression_obj.cu:152: reg:linear is now deprecated in favor of reg:squarederror.\n",
            "[19:56:58] WARNING: /workspace/src/objective/regression_obj.cu:152: reg:linear is now deprecated in favor of reg:squarederror.\n",
            "[19:58:03] WARNING: /workspace/src/objective/regression_obj.cu:152: reg:linear is now deprecated in favor of reg:squarederror.\n",
            "[19:59:06] WARNING: /workspace/src/objective/regression_obj.cu:152: reg:linear is now deprecated in favor of reg:squarederror.\n",
            "[20:00:13] WARNING: /workspace/src/objective/regression_obj.cu:152: reg:linear is now deprecated in favor of reg:squarederror.\n",
            "[20:01:18] WARNING: /workspace/src/objective/regression_obj.cu:152: reg:linear is now deprecated in favor of reg:squarederror.\n",
            "[20:02:23] WARNING: /workspace/src/objective/regression_obj.cu:152: reg:linear is now deprecated in favor of reg:squarederror.\n",
            "[20:03:30] WARNING: /workspace/src/objective/regression_obj.cu:152: reg:linear is now deprecated in favor of reg:squarederror.\n",
            "[20:06:39] WARNING: /workspace/src/objective/regression_obj.cu:152: reg:linear is now deprecated in favor of reg:squarederror.\n",
            "[20:09:46] WARNING: /workspace/src/objective/regression_obj.cu:152: reg:linear is now deprecated in favor of reg:squarederror.\n",
            "[20:12:55] WARNING: /workspace/src/objective/regression_obj.cu:152: reg:linear is now deprecated in favor of reg:squarederror.\n"
          ]
        },
        {
          "output_type": "execute_result",
          "data": {
            "text/plain": [
              "RandomizedSearchCV(cv=3, estimator=XGBRegressor(), n_iter=5,\n",
              "                   param_distributions={'learning_rate': [0.03, 0.05, 0.07, 1],\n",
              "                                        'max_depth': [4, 8, 12],\n",
              "                                        'min_child_weight': [2, 4, 6, 8],\n",
              "                                        'n_estimators': [250, 500, 750]},\n",
              "                   random_state=1, scoring='r2')"
            ]
          },
          "metadata": {},
          "execution_count": 22
        }
      ]
    },
    {
      "cell_type": "code",
      "source": [
        "print(\"Mejores hiperparámetros: \", xgb_randcv.best_params_)\n",
        "print(\"Mejor métrica: \", xgb_randcv.best_score_)\n"
      ],
      "metadata": {
        "colab": {
          "base_uri": "https://localhost:8080/"
        },
        "id": "gElgwqOrz83G",
        "outputId": "25300f2b-52ed-41ec-e44a-7c78a528a4e6"
      },
      "execution_count": 23,
      "outputs": [
        {
          "output_type": "stream",
          "name": "stdout",
          "text": [
            "Mejores hiperparámetros:  {'n_estimators': 750, 'min_child_weight': 4, 'max_depth': 8, 'learning_rate': 0.05}\n",
            "Mejor métrica:  0.9060478050906294\n"
          ]
        }
      ]
    },
    {
      "cell_type": "markdown",
      "source": [
        "Entrenamos al modelo con la mejor métrica."
      ],
      "metadata": {
        "id": "hFH7sPrg0fB_"
      }
    },
    {
      "cell_type": "code",
      "source": [
        "xgb_model = xgb_randcv.best_estimator_\n",
        "model = xgb_model.fit(X=dataset_train, y=target_train)"
      ],
      "metadata": {
        "colab": {
          "base_uri": "https://localhost:8080/"
        },
        "id": "ibZu6lUaz-Wc",
        "outputId": "958ea5fd-50a0-48bf-98f5-f99f4bd2626e"
      },
      "execution_count": 24,
      "outputs": [
        {
          "output_type": "stream",
          "name": "stdout",
          "text": [
            "[20:17:37] WARNING: /workspace/src/objective/regression_obj.cu:152: reg:linear is now deprecated in favor of reg:squarederror.\n"
          ]
        }
      ]
    },
    {
      "cell_type": "markdown",
      "source": [
        "Analizamos su performance con los datos de train."
      ],
      "metadata": {
        "id": "Nr4kEs-M0hwi"
      }
    },
    {
      "cell_type": "code",
      "source": [
        "precios_predichos_xgb_train = model.predict(dataset_train)\n",
        "imprimir_metricas_regresion(target_train, precios_predichos_xgb_train)"
      ],
      "metadata": {
        "colab": {
          "base_uri": "https://localhost:8080/"
        },
        "id": "wCIXLqBF0BjQ",
        "outputId": "0ba11490-7f58-48eb-d070-f070f88fb039"
      },
      "execution_count": 25,
      "outputs": [
        {
          "output_type": "stream",
          "name": "stdout",
          "text": [
            "El error (mse) de test es: 359116789.4691835\n",
            "El error (rmse) de test es: 18950.377027098526\n",
            "El score R2 es: 0.9665192714168835\n"
          ]
        }
      ]
    },
    {
      "cell_type": "markdown",
      "source": [
        "Nuevamente, vemos que performa demasiado bien, por lo que podría haber overfitting."
      ],
      "metadata": {
        "id": "2jP1DruUbuUH"
      }
    },
    {
      "cell_type": "markdown",
      "source": [
        "Analizamos cómo performa con los datos de test."
      ],
      "metadata": {
        "id": "_Q_YsZzf0mFE"
      }
    },
    {
      "cell_type": "code",
      "source": [
        "precios_predichos_xgb = model.predict(dataset_test)\n",
        "imprimir_metricas_regresion(target_test, precios_predichos_xgb)\n"
      ],
      "metadata": {
        "colab": {
          "base_uri": "https://localhost:8080/"
        },
        "id": "ti_sL2_Dz_qS",
        "outputId": "fe97dfb5-c97c-48ae-f83a-be098be7926f"
      },
      "execution_count": 26,
      "outputs": [
        {
          "output_type": "stream",
          "name": "stdout",
          "text": [
            "El error (mse) de test es: 992426184.337675\n",
            "El error (rmse) de test es: 31502.796452659168\n",
            "El score R2 es: 0.9065789931399353\n"
          ]
        }
      ]
    },
    {
      "cell_type": "markdown",
      "source": [
        "Sigue teniendo muy buenos resultados, similares a los obtenidos con el modelo anterior. "
      ],
      "metadata": {
        "id": "MwTYa-64by3a"
      }
    },
    {
      "cell_type": "markdown",
      "source": [
        "## Conclusiones"
      ],
      "metadata": {
        "id": "rgItKOFSb7Dr"
      }
    },
    {
      "cell_type": "markdown",
      "source": [
        "El dataset con los aspectos tiene una mejor performance que sin, pero la mejora tampoco es extrema."
      ],
      "metadata": {
        "id": "IYB0yp--b9IX"
      }
    }
  ]
}