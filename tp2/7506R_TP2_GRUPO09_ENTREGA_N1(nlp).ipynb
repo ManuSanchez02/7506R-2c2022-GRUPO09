{
  "nbformat": 4,
  "nbformat_minor": 0,
  "metadata": {
    "colab": {
      "provenance": [],
      "include_colab_link": true
    },
    "kernelspec": {
      "name": "python3",
      "display_name": "Python 3"
    },
    "language_info": {
      "name": "python"
    }
  },
  "cells": [
    {
      "cell_type": "markdown",
      "metadata": {
        "id": "view-in-github",
        "colab_type": "text"
      },
      "source": [
        "<a href=\"https://colab.research.google.com/github/ManuSanchez02/7506R-2c2022-GRUPO09/blob/main/tp2/7506R_TP2_GRUPO09_ENTREGA_N1(nlp).ipynb\" target=\"_parent\"><img src=\"https://colab.research.google.com/assets/colab-badge.svg\" alt=\"Open In Colab\"/></a>"
      ]
    },
    {
      "cell_type": "markdown",
      "source": [
        "# Configuración inicial"
      ],
      "metadata": {
        "id": "v0GQvy3fxUYu"
      }
    },
    {
      "cell_type": "markdown",
      "source": [
        "Importamos las bibliotecas necesarias para el análisis."
      ],
      "metadata": {
        "id": "o856-VTRZiQn"
      }
    },
    {
      "cell_type": "code",
      "source": [
        "from google.colab import drive\n",
        "drive.mount('/content/drive')"
      ],
      "metadata": {
        "colab": {
          "base_uri": "https://localhost:8080/"
        },
        "id": "I09eYdt2fK-c",
        "outputId": "9ccefc91-4b6b-491c-aea3-5c74cd60bbb4"
      },
      "execution_count": null,
      "outputs": [
        {
          "output_type": "stream",
          "name": "stdout",
          "text": [
            "Drive already mounted at /content/drive; to attempt to forcibly remount, call drive.mount(\"/content/drive\", force_remount=True).\n"
          ]
        }
      ]
    },
    {
      "cell_type": "code",
      "execution_count": null,
      "metadata": {
        "colab": {
          "base_uri": "https://localhost:8080/"
        },
        "id": "h4NRN9YTsIau",
        "outputId": "90e77647-80ec-4c33-a517-30c14273cec6"
      },
      "outputs": [
        {
          "output_type": "stream",
          "name": "stdout",
          "text": [
            "Looking in indexes: https://pypi.org/simple, https://us-python.pkg.dev/colab-wheels/public/simple/\n",
            "Requirement already satisfied: xgboost in /usr/local/lib/python3.8/dist-packages (0.90)\n",
            "Requirement already satisfied: numpy in /usr/local/lib/python3.8/dist-packages (from xgboost) (1.21.6)\n",
            "Requirement already satisfied: scipy in /usr/local/lib/python3.8/dist-packages (from xgboost) (1.7.3)\n"
          ]
        }
      ],
      "source": [
        "import numpy as np\n",
        "import pandas as pd\n",
        "import matplotlib.pyplot as plt\n",
        "import re\n",
        "\n",
        "from sklearn import metrics\n",
        "from xgboost import XGBRegressor\n",
        "from sklearn.model_selection import RandomizedSearchCV\n",
        "import regex\n",
        "\n",
        "!pip install xgboost\n",
        "\n",
        "np.random.seed(1)\n",
        "SEMILLA = 1"
      ]
    },
    {
      "cell_type": "markdown",
      "source": [
        "### Funciones útiles."
      ],
      "metadata": {
        "id": "LpbzKXQqzDOL"
      }
    },
    {
      "cell_type": "markdown",
      "source": [
        "Definimos funciones que se van a utilizar."
      ],
      "metadata": {
        "id": "G5krpKCBZnQN"
      }
    },
    {
      "cell_type": "code",
      "source": [
        "def imprimir_metricas_regresion(target_test, precios_predichos):\n",
        "    # Error cuadrático medio\n",
        "    mse = metrics.mean_squared_error(\n",
        "        y_true=target_test, y_pred=precios_predichos, squared=True\n",
        "    )\n",
        "\n",
        "    print(f\"El error (mse) de test es: {mse}\")\n",
        "\n",
        "    # Raíz del error cuadrático medio\n",
        "    rmse = metrics.mean_squared_error(\n",
        "        y_true=target_test, y_pred=precios_predichos, squared=False\n",
        "    )\n",
        "\n",
        "    print(f\"El error (rmse) de test es: {rmse}\")\n",
        "\n",
        "    # R2 score\n",
        "    r2 = metrics.r2_score(target_test, precios_predichos)\n",
        "    print(f\"El score R2 es: {r2}\")\n"
      ],
      "metadata": {
        "id": "_1nD31UnUc_K"
      },
      "execution_count": null,
      "outputs": []
    },
    {
      "cell_type": "code",
      "source": [
        "columnas = [\"property_price\", \"id\", \"property_description\"]\n",
        "\n",
        "def construir_target_y_features(dataset):\n",
        "  target = dataset[\"property_price\"]\n",
        "  dataset.drop(columns=columnas, inplace=True)\n",
        "  dataset = pd.get_dummies(dataset, drop_first=True)\n",
        "  return target, dataset"
      ],
      "metadata": {
        "id": "rLCcGbB2QVnl"
      },
      "execution_count": null,
      "outputs": []
    },
    {
      "cell_type": "markdown",
      "source": [
        "Importamos los datasets ya preprocesados."
      ],
      "metadata": {
        "id": "pW_Mkv1OxYTL"
      }
    },
    {
      "cell_type": "code",
      "source": [
        "dataset_train = pd.read_csv(\"https://github.com/ManuSanchez02/7506R-2c2022-GRUPO09/blob/main/tp2/datasets/dataset_train_preprocesado.csv?raw=True\")\n",
        "dataset_test = pd.read_csv(\"https://github.com/ManuSanchez02/7506R-2c2022-GRUPO09/blob/main/tp2/datasets/datasetc_test_preprocesado.csv?raw=True\")\n",
        "\n",
        "dataset_train.drop([\"Unnamed: 0\"], axis = 1, inplace=True)\n",
        "dataset_test.drop([\"Unnamed: 0\"], axis = 1, inplace=True)"
      ],
      "metadata": {
        "id": "DldKeV57s2kl"
      },
      "execution_count": null,
      "outputs": []
    },
    {
      "cell_type": "code",
      "source": [
        "dataset_pln_train = dataset_train.copy()\n",
        "dataset_pln_test = dataset_test.copy()"
      ],
      "metadata": {
        "id": "BG8iVQwG_kjY"
      },
      "execution_count": null,
      "outputs": []
    },
    {
      "cell_type": "markdown",
      "source": [
        "Importamos y hacemos un head del dataset con las descripciones para ver qué forma tiene."
      ],
      "metadata": {
        "id": "Zfcxin0zxchp"
      }
    },
    {
      "cell_type": "code",
      "source": [
        "dataset_descrip = pd.read_csv(\"/content/drive/MyDrive/OrgaTP2/properati_argentina_2021_decrip.csv\")\n",
        "dataset_descrip.head()"
      ],
      "metadata": {
        "colab": {
          "base_uri": "https://localhost:8080/",
          "height": 206
        },
        "id": "oQjuZKQG9oOI",
        "outputId": "7afccf10-31a5-4f2d-bb38-f41f378215b3"
      },
      "execution_count": null,
      "outputs": [
        {
          "output_type": "execute_result",
          "data": {
            "text/plain": [
              "                         id                               property_description\n",
              "0  BZCeiGkJr1WBUi6pKJQwJQ==  Corredor Responsable: MARIA ALEJANDRA GENOVEVA...\n",
              "1  zuHOGgUE0UB71W7m/YCLoA==  ¡HERMOSO PH TIPO CASA DE 2 AMBIENTES!<br>APTO ...\n",
              "2  TUL813tXchVBlHUsfaA6DA==  Excelente PH en Núñez 4 amb!!!! Oportunidad !!...\n",
              "3  gn55JPmcjftBV/at1a7fPg==  UNICO PH DE 4 DORMITORIOS EN IMPECABLE ESTADO,...\n",
              "4  qg4m3QHcuo1+wMmyp7kx3Q==  Ph 2 Amb. Villa Crespo exclusivo uso profesion..."
            ],
            "text/html": [
              "\n",
              "  <div id=\"df-09d4fa66-58a2-49c8-bdf2-d28d3f762ab5\">\n",
              "    <div class=\"colab-df-container\">\n",
              "      <div>\n",
              "<style scoped>\n",
              "    .dataframe tbody tr th:only-of-type {\n",
              "        vertical-align: middle;\n",
              "    }\n",
              "\n",
              "    .dataframe tbody tr th {\n",
              "        vertical-align: top;\n",
              "    }\n",
              "\n",
              "    .dataframe thead th {\n",
              "        text-align: right;\n",
              "    }\n",
              "</style>\n",
              "<table border=\"1\" class=\"dataframe\">\n",
              "  <thead>\n",
              "    <tr style=\"text-align: right;\">\n",
              "      <th></th>\n",
              "      <th>id</th>\n",
              "      <th>property_description</th>\n",
              "    </tr>\n",
              "  </thead>\n",
              "  <tbody>\n",
              "    <tr>\n",
              "      <th>0</th>\n",
              "      <td>BZCeiGkJr1WBUi6pKJQwJQ==</td>\n",
              "      <td>Corredor Responsable: MARIA ALEJANDRA GENOVEVA...</td>\n",
              "    </tr>\n",
              "    <tr>\n",
              "      <th>1</th>\n",
              "      <td>zuHOGgUE0UB71W7m/YCLoA==</td>\n",
              "      <td>¡HERMOSO PH TIPO CASA DE 2 AMBIENTES!&lt;br&gt;APTO ...</td>\n",
              "    </tr>\n",
              "    <tr>\n",
              "      <th>2</th>\n",
              "      <td>TUL813tXchVBlHUsfaA6DA==</td>\n",
              "      <td>Excelente PH en Núñez 4 amb!!!! Oportunidad !!...</td>\n",
              "    </tr>\n",
              "    <tr>\n",
              "      <th>3</th>\n",
              "      <td>gn55JPmcjftBV/at1a7fPg==</td>\n",
              "      <td>UNICO PH DE 4 DORMITORIOS EN IMPECABLE ESTADO,...</td>\n",
              "    </tr>\n",
              "    <tr>\n",
              "      <th>4</th>\n",
              "      <td>qg4m3QHcuo1+wMmyp7kx3Q==</td>\n",
              "      <td>Ph 2 Amb. Villa Crespo exclusivo uso profesion...</td>\n",
              "    </tr>\n",
              "  </tbody>\n",
              "</table>\n",
              "</div>\n",
              "      <button class=\"colab-df-convert\" onclick=\"convertToInteractive('df-09d4fa66-58a2-49c8-bdf2-d28d3f762ab5')\"\n",
              "              title=\"Convert this dataframe to an interactive table.\"\n",
              "              style=\"display:none;\">\n",
              "        \n",
              "  <svg xmlns=\"http://www.w3.org/2000/svg\" height=\"24px\"viewBox=\"0 0 24 24\"\n",
              "       width=\"24px\">\n",
              "    <path d=\"M0 0h24v24H0V0z\" fill=\"none\"/>\n",
              "    <path d=\"M18.56 5.44l.94 2.06.94-2.06 2.06-.94-2.06-.94-.94-2.06-.94 2.06-2.06.94zm-11 1L8.5 8.5l.94-2.06 2.06-.94-2.06-.94L8.5 2.5l-.94 2.06-2.06.94zm10 10l.94 2.06.94-2.06 2.06-.94-2.06-.94-.94-2.06-.94 2.06-2.06.94z\"/><path d=\"M17.41 7.96l-1.37-1.37c-.4-.4-.92-.59-1.43-.59-.52 0-1.04.2-1.43.59L10.3 9.45l-7.72 7.72c-.78.78-.78 2.05 0 2.83L4 21.41c.39.39.9.59 1.41.59.51 0 1.02-.2 1.41-.59l7.78-7.78 2.81-2.81c.8-.78.8-2.07 0-2.86zM5.41 20L4 18.59l7.72-7.72 1.47 1.35L5.41 20z\"/>\n",
              "  </svg>\n",
              "      </button>\n",
              "      \n",
              "  <style>\n",
              "    .colab-df-container {\n",
              "      display:flex;\n",
              "      flex-wrap:wrap;\n",
              "      gap: 12px;\n",
              "    }\n",
              "\n",
              "    .colab-df-convert {\n",
              "      background-color: #E8F0FE;\n",
              "      border: none;\n",
              "      border-radius: 50%;\n",
              "      cursor: pointer;\n",
              "      display: none;\n",
              "      fill: #1967D2;\n",
              "      height: 32px;\n",
              "      padding: 0 0 0 0;\n",
              "      width: 32px;\n",
              "    }\n",
              "\n",
              "    .colab-df-convert:hover {\n",
              "      background-color: #E2EBFA;\n",
              "      box-shadow: 0px 1px 2px rgba(60, 64, 67, 0.3), 0px 1px 3px 1px rgba(60, 64, 67, 0.15);\n",
              "      fill: #174EA6;\n",
              "    }\n",
              "\n",
              "    [theme=dark] .colab-df-convert {\n",
              "      background-color: #3B4455;\n",
              "      fill: #D2E3FC;\n",
              "    }\n",
              "\n",
              "    [theme=dark] .colab-df-convert:hover {\n",
              "      background-color: #434B5C;\n",
              "      box-shadow: 0px 1px 3px 1px rgba(0, 0, 0, 0.15);\n",
              "      filter: drop-shadow(0px 1px 2px rgba(0, 0, 0, 0.3));\n",
              "      fill: #FFFFFF;\n",
              "    }\n",
              "  </style>\n",
              "\n",
              "      <script>\n",
              "        const buttonEl =\n",
              "          document.querySelector('#df-09d4fa66-58a2-49c8-bdf2-d28d3f762ab5 button.colab-df-convert');\n",
              "        buttonEl.style.display =\n",
              "          google.colab.kernel.accessAllowed ? 'block' : 'none';\n",
              "\n",
              "        async function convertToInteractive(key) {\n",
              "          const element = document.querySelector('#df-09d4fa66-58a2-49c8-bdf2-d28d3f762ab5');\n",
              "          const dataTable =\n",
              "            await google.colab.kernel.invokeFunction('convertToInteractive',\n",
              "                                                     [key], {});\n",
              "          if (!dataTable) return;\n",
              "\n",
              "          const docLinkHtml = 'Like what you see? Visit the ' +\n",
              "            '<a target=\"_blank\" href=https://colab.research.google.com/notebooks/data_table.ipynb>data table notebook</a>'\n",
              "            + ' to learn more about interactive tables.';\n",
              "          element.innerHTML = '';\n",
              "          dataTable['output_type'] = 'display_data';\n",
              "          await google.colab.output.renderOutput(dataTable, element);\n",
              "          const docLink = document.createElement('div');\n",
              "          docLink.innerHTML = docLinkHtml;\n",
              "          element.appendChild(docLink);\n",
              "        }\n",
              "      </script>\n",
              "    </div>\n",
              "  </div>\n",
              "  "
            ]
          },
          "metadata": {},
          "execution_count": 25
        }
      ]
    },
    {
      "cell_type": "markdown",
      "source": [
        "Unimos el dataset preprocesado con el que contiene las descripciones."
      ],
      "metadata": {
        "id": "cFk2XOkXyA4z"
      }
    },
    {
      "cell_type": "code",
      "source": [
        "dataset_pln_train = dataset_pln_train.merge(dataset_descrip, left_on='id', right_on='id')\n",
        "dataset_pln_test = dataset_pln_test.merge(dataset_descrip, left_on='id', right_on='id')\n",
        "dataset_pln_train.head()"
      ],
      "metadata": {
        "colab": {
          "base_uri": "https://localhost:8080/",
          "height": 444
        },
        "id": "IGfTMZ6b-SZC",
        "outputId": "6b616bd0-0790-4d1e-a5eb-f9aec0fd89b1"
      },
      "execution_count": null,
      "outputs": [
        {
          "output_type": "execute_result",
          "data": {
            "text/plain": [
              "                         id    latitud   longitud        barrio property_type  \\\n",
              "0  /KS9ys5/j+tOi7ZtBH0beg== -34.554271 -58.457668      Belgrano  Departamento   \n",
              "1  F5QJsmufcrReRAHbc84lxQ== -34.613544 -58.368072     Monserrat  Departamento   \n",
              "2  MJP64X970Gj+Zdvn592RWA== -34.571020 -58.433125       Palermo  Departamento   \n",
              "3  SEUBJTexychILiuTsn9L3Q== -34.597384 -58.405139  Barrio Norte  Departamento   \n",
              "4  gQdKfHVQXAfnza6dQte4ng== -34.591646 -58.418064       Palermo  Departamento   \n",
              "\n",
              "   property_rooms  property_bedrooms  property_surface_total  \\\n",
              "0               2                  1                      59   \n",
              "1               3                  2                      71   \n",
              "2               2                  1                      79   \n",
              "3               4                  3                      91   \n",
              "4               1                  1                      37   \n",
              "\n",
              "   property_surface_covered  property_price  \\\n",
              "0                        59          178000   \n",
              "1                        71          129000   \n",
              "2                        59          249000   \n",
              "3                        85          165000   \n",
              "4                        32          105000   \n",
              "\n",
              "                                property_description  \n",
              "0  Hermoso departamento 2 ambientes piso alto a e...  \n",
              "1  Corredor Responsable: Cristian Arnal Ponti - C...  \n",
              "2  Corredor Responsable: Ariel Champanier - CUCIC...  \n",
              "3  SUPER OPORTUNIDAD!  AL MEJOR VALOR DE M2 DEL M...  \n",
              "4  Corredor Responsable: Hernan Perrone CUCICBA 2...  "
            ],
            "text/html": [
              "\n",
              "  <div id=\"df-21c692d9-df13-435c-9d75-570658b3f6ce\">\n",
              "    <div class=\"colab-df-container\">\n",
              "      <div>\n",
              "<style scoped>\n",
              "    .dataframe tbody tr th:only-of-type {\n",
              "        vertical-align: middle;\n",
              "    }\n",
              "\n",
              "    .dataframe tbody tr th {\n",
              "        vertical-align: top;\n",
              "    }\n",
              "\n",
              "    .dataframe thead th {\n",
              "        text-align: right;\n",
              "    }\n",
              "</style>\n",
              "<table border=\"1\" class=\"dataframe\">\n",
              "  <thead>\n",
              "    <tr style=\"text-align: right;\">\n",
              "      <th></th>\n",
              "      <th>id</th>\n",
              "      <th>latitud</th>\n",
              "      <th>longitud</th>\n",
              "      <th>barrio</th>\n",
              "      <th>property_type</th>\n",
              "      <th>property_rooms</th>\n",
              "      <th>property_bedrooms</th>\n",
              "      <th>property_surface_total</th>\n",
              "      <th>property_surface_covered</th>\n",
              "      <th>property_price</th>\n",
              "      <th>property_description</th>\n",
              "    </tr>\n",
              "  </thead>\n",
              "  <tbody>\n",
              "    <tr>\n",
              "      <th>0</th>\n",
              "      <td>/KS9ys5/j+tOi7ZtBH0beg==</td>\n",
              "      <td>-34.554271</td>\n",
              "      <td>-58.457668</td>\n",
              "      <td>Belgrano</td>\n",
              "      <td>Departamento</td>\n",
              "      <td>2</td>\n",
              "      <td>1</td>\n",
              "      <td>59</td>\n",
              "      <td>59</td>\n",
              "      <td>178000</td>\n",
              "      <td>Hermoso departamento 2 ambientes piso alto a e...</td>\n",
              "    </tr>\n",
              "    <tr>\n",
              "      <th>1</th>\n",
              "      <td>F5QJsmufcrReRAHbc84lxQ==</td>\n",
              "      <td>-34.613544</td>\n",
              "      <td>-58.368072</td>\n",
              "      <td>Monserrat</td>\n",
              "      <td>Departamento</td>\n",
              "      <td>3</td>\n",
              "      <td>2</td>\n",
              "      <td>71</td>\n",
              "      <td>71</td>\n",
              "      <td>129000</td>\n",
              "      <td>Corredor Responsable: Cristian Arnal Ponti - C...</td>\n",
              "    </tr>\n",
              "    <tr>\n",
              "      <th>2</th>\n",
              "      <td>MJP64X970Gj+Zdvn592RWA==</td>\n",
              "      <td>-34.571020</td>\n",
              "      <td>-58.433125</td>\n",
              "      <td>Palermo</td>\n",
              "      <td>Departamento</td>\n",
              "      <td>2</td>\n",
              "      <td>1</td>\n",
              "      <td>79</td>\n",
              "      <td>59</td>\n",
              "      <td>249000</td>\n",
              "      <td>Corredor Responsable: Ariel Champanier - CUCIC...</td>\n",
              "    </tr>\n",
              "    <tr>\n",
              "      <th>3</th>\n",
              "      <td>SEUBJTexychILiuTsn9L3Q==</td>\n",
              "      <td>-34.597384</td>\n",
              "      <td>-58.405139</td>\n",
              "      <td>Barrio Norte</td>\n",
              "      <td>Departamento</td>\n",
              "      <td>4</td>\n",
              "      <td>3</td>\n",
              "      <td>91</td>\n",
              "      <td>85</td>\n",
              "      <td>165000</td>\n",
              "      <td>SUPER OPORTUNIDAD!  AL MEJOR VALOR DE M2 DEL M...</td>\n",
              "    </tr>\n",
              "    <tr>\n",
              "      <th>4</th>\n",
              "      <td>gQdKfHVQXAfnza6dQte4ng==</td>\n",
              "      <td>-34.591646</td>\n",
              "      <td>-58.418064</td>\n",
              "      <td>Palermo</td>\n",
              "      <td>Departamento</td>\n",
              "      <td>1</td>\n",
              "      <td>1</td>\n",
              "      <td>37</td>\n",
              "      <td>32</td>\n",
              "      <td>105000</td>\n",
              "      <td>Corredor Responsable: Hernan Perrone CUCICBA 2...</td>\n",
              "    </tr>\n",
              "  </tbody>\n",
              "</table>\n",
              "</div>\n",
              "      <button class=\"colab-df-convert\" onclick=\"convertToInteractive('df-21c692d9-df13-435c-9d75-570658b3f6ce')\"\n",
              "              title=\"Convert this dataframe to an interactive table.\"\n",
              "              style=\"display:none;\">\n",
              "        \n",
              "  <svg xmlns=\"http://www.w3.org/2000/svg\" height=\"24px\"viewBox=\"0 0 24 24\"\n",
              "       width=\"24px\">\n",
              "    <path d=\"M0 0h24v24H0V0z\" fill=\"none\"/>\n",
              "    <path d=\"M18.56 5.44l.94 2.06.94-2.06 2.06-.94-2.06-.94-.94-2.06-.94 2.06-2.06.94zm-11 1L8.5 8.5l.94-2.06 2.06-.94-2.06-.94L8.5 2.5l-.94 2.06-2.06.94zm10 10l.94 2.06.94-2.06 2.06-.94-2.06-.94-.94-2.06-.94 2.06-2.06.94z\"/><path d=\"M17.41 7.96l-1.37-1.37c-.4-.4-.92-.59-1.43-.59-.52 0-1.04.2-1.43.59L10.3 9.45l-7.72 7.72c-.78.78-.78 2.05 0 2.83L4 21.41c.39.39.9.59 1.41.59.51 0 1.02-.2 1.41-.59l7.78-7.78 2.81-2.81c.8-.78.8-2.07 0-2.86zM5.41 20L4 18.59l7.72-7.72 1.47 1.35L5.41 20z\"/>\n",
              "  </svg>\n",
              "      </button>\n",
              "      \n",
              "  <style>\n",
              "    .colab-df-container {\n",
              "      display:flex;\n",
              "      flex-wrap:wrap;\n",
              "      gap: 12px;\n",
              "    }\n",
              "\n",
              "    .colab-df-convert {\n",
              "      background-color: #E8F0FE;\n",
              "      border: none;\n",
              "      border-radius: 50%;\n",
              "      cursor: pointer;\n",
              "      display: none;\n",
              "      fill: #1967D2;\n",
              "      height: 32px;\n",
              "      padding: 0 0 0 0;\n",
              "      width: 32px;\n",
              "    }\n",
              "\n",
              "    .colab-df-convert:hover {\n",
              "      background-color: #E2EBFA;\n",
              "      box-shadow: 0px 1px 2px rgba(60, 64, 67, 0.3), 0px 1px 3px 1px rgba(60, 64, 67, 0.15);\n",
              "      fill: #174EA6;\n",
              "    }\n",
              "\n",
              "    [theme=dark] .colab-df-convert {\n",
              "      background-color: #3B4455;\n",
              "      fill: #D2E3FC;\n",
              "    }\n",
              "\n",
              "    [theme=dark] .colab-df-convert:hover {\n",
              "      background-color: #434B5C;\n",
              "      box-shadow: 0px 1px 3px 1px rgba(0, 0, 0, 0.15);\n",
              "      filter: drop-shadow(0px 1px 2px rgba(0, 0, 0, 0.3));\n",
              "      fill: #FFFFFF;\n",
              "    }\n",
              "  </style>\n",
              "\n",
              "      <script>\n",
              "        const buttonEl =\n",
              "          document.querySelector('#df-21c692d9-df13-435c-9d75-570658b3f6ce button.colab-df-convert');\n",
              "        buttonEl.style.display =\n",
              "          google.colab.kernel.accessAllowed ? 'block' : 'none';\n",
              "\n",
              "        async function convertToInteractive(key) {\n",
              "          const element = document.querySelector('#df-21c692d9-df13-435c-9d75-570658b3f6ce');\n",
              "          const dataTable =\n",
              "            await google.colab.kernel.invokeFunction('convertToInteractive',\n",
              "                                                     [key], {});\n",
              "          if (!dataTable) return;\n",
              "\n",
              "          const docLinkHtml = 'Like what you see? Visit the ' +\n",
              "            '<a target=\"_blank\" href=https://colab.research.google.com/notebooks/data_table.ipynb>data table notebook</a>'\n",
              "            + ' to learn more about interactive tables.';\n",
              "          element.innerHTML = '';\n",
              "          dataTable['output_type'] = 'display_data';\n",
              "          await google.colab.output.renderOutput(dataTable, element);\n",
              "          const docLink = document.createElement('div');\n",
              "          docLink.innerHTML = docLinkHtml;\n",
              "          element.appendChild(docLink);\n",
              "        }\n",
              "      </script>\n",
              "    </div>\n",
              "  </div>\n",
              "  "
            ]
          },
          "metadata": {},
          "execution_count": 26
        }
      ]
    },
    {
      "cell_type": "markdown",
      "source": [
        "Normalizamos las descripciones para que sea más fácil realizar el análisis."
      ],
      "metadata": {
        "id": "6pF-Wv2kZ408"
      }
    },
    {
      "cell_type": "code",
      "source": [
        "def normalizar(descripcion):\n",
        "  descripcion = descripcion.lower()\n",
        "  descripcion = descripcion.replace('á', 'a')\n",
        "  descripcion = descripcion.replace('é', 'e')\n",
        "  descripcion = descripcion.replace('í', 'i')\n",
        "  descripcion = descripcion.replace('ó', 'o')\n",
        "  descripcion = descripcion.replace('ú', 'u')\n",
        "  return descripcion"
      ],
      "metadata": {
        "id": "hzxwFlXfN3V3"
      },
      "execution_count": null,
      "outputs": []
    },
    {
      "cell_type": "markdown",
      "source": [
        "Definimos una lista de palabras que no son relevantes a la hora de elegir aspectos, y creamos un diccionario que contiene todas las palabras de las descripciones con sus frecuencias, para ver cuáles podemos tomar como aspectos."
      ],
      "metadata": {
        "id": "wdSNpgfmyP8d"
      }
    },
    {
      "cell_type": "code",
      "source": [
        "ignorar = [\"a\", \"ante\", \"cabe\", \"con\", \"de\", \"desde\", \"durante\", \"en\", \n",
        "           \"entre\", \"hacia\", \"hasta\", \"mediante\", \"para\", \"por\", \"según\",\n",
        "           \"sin\", \"so\", \"sobre\", \"tras\", \"versus\", \"via\", \"el\", \"la\", \"los\", \n",
        "           \"del\", \"las\", \"los\", \"etc\", \"es\", \"era\", \"br\", \"y\", \"que\", \"al\", \n",
        "           \"o\", \"un\", \"ba\", \"una\", \"se\", \"\", \"cocina\", \"ambientes\", \"piso\", \n",
        "           \"pisos\", \"propiedad\", \"son\", \"muy\", \"esta\", \"dos\", \"cuadras\",\n",
        "           \"completo\", \"corredor\", \"responsable\", \"inmueble\", \"excelente\", \n",
        "           \"amplio\", \"accede\", \"cucicba\", \"medidas\", \"cuenta\", \"lendar\", \n",
        "           \"queres\", \"ley\", \"podes\", \"gran\", \"aire\", \"simula\", \"metros\",\n",
        "           \"mls\", \"personas\", \"parte\", \"inmobiliario\", \"encuentra\", \"independiente\",\n",
        "           \"todas\", \"todos\", \"unidades\", \"presente\", \"tiene\", \"este\", \"mas\",\n",
        "           \"unidad\", \"aviso\", \"operacion\", \"bajo\", \"propietario\", \"como\", \"informacion\",\n",
        "           \"operaciones\", \"mts\", \"discapacidades\"\n",
        "           ]"
      ],
      "metadata": {
        "id": "UZLu34PrZ_98"
      },
      "execution_count": null,
      "outputs": []
    },
    {
      "cell_type": "code",
      "source": [
        "def obtener_aspectos(dataset):\n",
        "  cantidades = {}\n",
        "  for descripcion in dataset['property_description']:\n",
        "    descripcion = normalizar(descripcion)\n",
        "    palabras = re.split('[^a-z]', descripcion)\n",
        "    for palabra in palabras:\n",
        "      if not palabra in ignorar and len(palabra) > 2:\n",
        "        cantidades[palabra] = cantidades.get(palabra, 0) + 1\n",
        "  return cantidades\n",
        "\n",
        "diccionario_aspectos = obtener_aspectos(dataset_pln_train)"
      ],
      "metadata": {
        "id": "2OljY73J_40K"
      },
      "execution_count": null,
      "outputs": []
    },
    {
      "cell_type": "markdown",
      "source": [
        "Tomamos las 50 palabras más frecuentes como aspectos relevantes de las descripciones."
      ],
      "metadata": {
        "id": "PncgtS_GyYq7"
      }
    },
    {
      "cell_type": "code",
      "source": [
        "aspectos_comunes = sorted(diccionario_aspectos.items(), key=lambda x: x[1], reverse=True)[:50]\n",
        "for aspecto in aspectos_comunes:\n",
        "  print(aspecto)"
      ],
      "metadata": {
        "colab": {
          "base_uri": "https://localhost:8080/"
        },
        "id": "U6ETLjwyGQqL",
        "outputId": "d9fba53c-7a77-43b1-fc67-c538be050bdd"
      },
      "execution_count": null,
      "outputs": [
        {
          "output_type": "stream",
          "name": "stdout",
          "text": [
            "('balcon', 65617)\n",
            "('comedor', 60511)\n",
            "('living', 58609)\n",
            "('departamento', 55953)\n",
            "('edificio', 51346)\n",
            "('dormitorio', 44593)\n",
            "('expensas', 42030)\n",
            "('frente', 41990)\n",
            "('valor', 40105)\n",
            "('placard', 32240)\n",
            "('casa', 29942)\n",
            "('luminoso', 29466)\n",
            "('venta', 29335)\n",
            "('lavadero', 28301)\n",
            "('dormitorios', 27703)\n",
            "('prestamo', 26319)\n",
            "('terraza', 26252)\n",
            "('cuota', 25832)\n",
            "('contacto', 25406)\n",
            "('ubicacion', 24576)\n",
            "('vista', 23644)\n",
            "('salida', 23598)\n",
            "('espacio', 23272)\n",
            "('cochera', 22612)\n",
            "('compra', 22369)\n",
            "('zona', 21992)\n",
            "('patio', 20780)\n",
            "('ubicado', 20579)\n",
            "('linea', 20472)\n",
            "('barrio', 20428)\n",
            "('planta', 20358)\n",
            "('mesada', 19960)\n",
            "('principal', 19285)\n",
            "('acceso', 19023)\n",
            "('parrilla', 18774)\n",
            "('accesible', 18627)\n",
            "('subte', 18562)\n",
            "('servicios', 18426)\n",
            "('estado', 17936)\n",
            "('servicio', 17562)\n",
            "('acondicionado', 17071)\n",
            "('agua', 16941)\n",
            "('toilette', 16738)\n",
            "('hall', 15808)\n",
            "('comercial', 15729)\n",
            "('estacion', 15541)\n",
            "('calidad', 15113)\n",
            "('madera', 14985)\n",
            "('suite', 14645)\n",
            "('calefaccion', 14427)\n"
          ]
        }
      ]
    },
    {
      "cell_type": "markdown",
      "source": [
        "Buscamos frases que contengan los aspectos encontrados siguiendo reglas simples de regex. Tomamos como aspectos las más frecuentes y las guardamos en un diccionario."
      ],
      "metadata": {
        "id": "H_aXvO1wARqt"
      }
    },
    {
      "cell_type": "code",
      "source": [
        "aspectos_comunes_lista = [aspecto[0] for aspecto in aspectos_comunes]\n",
        "aspetos_regex = '|'.join(aspectos_comunes_lista)\n",
        "\n",
        "def obtener_matches(dataset, regex_match, cantidad):\n",
        "  cantidades = {}\n",
        "  for descripcion in dataset['property_description']:\n",
        "    descripcion = normalizar(descripcion)\n",
        "    frases = re.findall(regex_match, descripcion)\n",
        "    for frase in frases:\n",
        "          cantidades[frase] = cantidades.get(frase, 0) + 1\n",
        "  \n",
        "  return dict(sorted(cantidades.items(), key=lambda item: item[1], reverse=True)[:cantidad])\n",
        "\n",
        "grupo_aspectos = f\"(?:{aspetos_regex})\"\n",
        "diccionario_frases = {}\n",
        "diccionario_frases.update(obtener_matches(dataset_pln_train, \"con \" + grupo_aspectos + \" \\w{4,}\", 10))\n",
        "diccionario_frases.update(obtener_matches(dataset_pln_train, \"\\w{4,} con \" +  grupo_aspectos, 10))\n",
        "diccionario_frases.update(obtener_matches(dataset_pln_train, \"\\w{4,} \" +  grupo_aspectos, 10))\n",
        "diccionario_frases.update(obtener_matches(dataset_pln_train, \"\\w{4,} de \" +  grupo_aspectos, 10))\n",
        "diccionario_frases.update(obtener_matches(dataset_pln_train, \"de \" + grupo_aspectos + \" \\w{4,}\", 10))\n",
        "diccionario_frases.update(obtener_matches(dataset_pln_train, \"\\w{4,} \" + grupo_aspectos + \" \\w{4,}\", 10))\n",
        "diccionario_frases.update(obtener_matches(dataset_pln_train, grupo_aspectos + \" con \" + grupo_aspectos, 10))\n",
        "diccionario_frases.update(obtener_matches(dataset_pln_train, grupo_aspectos + \" de \" + grupo_aspectos, 10))\n",
        "diccionario_frases.update(obtener_matches(dataset_pln_train, grupo_aspectos + \" \" + grupo_aspectos, 10))"
      ],
      "metadata": {
        "id": "OftXPu9NCGgb"
      },
      "execution_count": null,
      "outputs": []
    },
    {
      "cell_type": "markdown",
      "source": [
        "Nos quedamos con las frases que se encuentran en más del 1,5% de las descripciones del dataset."
      ],
      "metadata": {
        "id": "q32L0qhgDe-I"
      }
    },
    {
      "cell_type": "code",
      "source": [
        "diccionario_frases = {k:v for k, v in diccionario_frases.items() if v >= dataset_pln_train.shape[0]*0.015 }\n",
        "\n",
        "print(diccionario_frases)"
      ],
      "metadata": {
        "colab": {
          "base_uri": "https://localhost:8080/"
        },
        "id": "CQDe6ZCzDuI5",
        "outputId": "1f9261b6-3c5b-43d8-ed4e-af97fa320431"
      },
      "execution_count": null,
      "outputs": [
        {
          "output_type": "stream",
          "name": "stdout",
          "text": [
            "{'con vista abierta': 3667, 'con espacio para': 3025, 'con comedor diario': 2794, 'con placard empotrado': 1873, 'con balcon corrido': 1546, 'comedor con salida': 5661, 'dormitorio con placard': 4627, 'ambientes con balcon': 2979, 'dormitorios con placard': 2679, 'frente con balcon': 2881, 'cocina con comedor': 1934, 'terraza con parrilla': 1988, 'ambientes con cochera': 1369, 'cocina con lavadero': 1351, 'balcon con vista': 1337, 'living comedor': 31914, 'aire acondicionado': 16951, 'bajo mesada': 11551, 'excelente ubicacion': 9930, 'dormitorio principal': 7856, 'amplio living': 6901, 'buen estado': 5578, 'excelente estado': 5318, 'primera calidad': 5278, 'super luminoso': 5267, 'valores de expensas': 7105, 'pisos de madera': 4175, 'dependencia de servicio': 4017, 'entrada de servicio': 1781, 'baño de servicio': 1660, 'estacion de subte': 1809, 'hall de acceso': 1578, 'marcas de servicio': 1503, 'oferta de venta': 1337, 'habitacion de servicio': 1111, 'aire acondicionado frio': 5120, 'amplio living comedor': 4685, 'aire acondicionado split': 1462, 'gran living comedor': 1280, 'frente con vista': 1110, 'comedor con balcon': 1048, 'subte linea': 4627, 'balcon terraza': 4153, 'venta departamento': 3334, 'zona comercial': 1992}\n"
          ]
        }
      ]
    },
    {
      "cell_type": "code",
      "source": [
        "frases_comunes = sorted(diccionario_frases.items(), key=lambda x: x[1], reverse=True)\n",
        "for frase in frases_comunes:\n",
        "  print(frase)"
      ],
      "metadata": {
        "id": "-f8wxJDjKSyr",
        "outputId": "bbd326e8-0ce9-4f7e-c572-1543d11a869a",
        "colab": {
          "base_uri": "https://localhost:8080/"
        }
      },
      "execution_count": null,
      "outputs": [
        {
          "output_type": "stream",
          "name": "stdout",
          "text": [
            "('living comedor', 31914)\n",
            "('aire acondicionado', 16951)\n",
            "('bajo mesada', 11551)\n",
            "('excelente ubicacion', 9930)\n",
            "('dormitorio principal', 7856)\n",
            "('valores de expensas', 7105)\n",
            "('amplio living', 6901)\n",
            "('comedor con salida', 5661)\n",
            "('buen estado', 5578)\n",
            "('excelente estado', 5318)\n",
            "('primera calidad', 5278)\n",
            "('super luminoso', 5267)\n",
            "('aire acondicionado frio', 5120)\n",
            "('amplio living comedor', 4685)\n",
            "('dormitorio con placard', 4627)\n",
            "('subte linea', 4627)\n",
            "('pisos de madera', 4175)\n",
            "('balcon terraza', 4153)\n",
            "('dependencia de servicio', 4017)\n",
            "('con vista abierta', 3667)\n",
            "('venta departamento', 3334)\n",
            "('con espacio para', 3025)\n",
            "('ambientes con balcon', 2979)\n",
            "('frente con balcon', 2881)\n",
            "('con comedor diario', 2794)\n",
            "('dormitorios con placard', 2679)\n",
            "('zona comercial', 1992)\n",
            "('terraza con parrilla', 1988)\n",
            "('cocina con comedor', 1934)\n",
            "('con placard empotrado', 1873)\n",
            "('estacion de subte', 1809)\n",
            "('entrada de servicio', 1781)\n",
            "('baño de servicio', 1660)\n",
            "('hall de acceso', 1578)\n",
            "('con balcon corrido', 1546)\n",
            "('marcas de servicio', 1503)\n",
            "('aire acondicionado split', 1462)\n",
            "('ambientes con cochera', 1369)\n",
            "('cocina con lavadero', 1351)\n",
            "('balcon con vista', 1337)\n",
            "('oferta de venta', 1337)\n",
            "('gran living comedor', 1280)\n",
            "('habitacion de servicio', 1111)\n",
            "('frente con vista', 1110)\n",
            "('comedor con balcon', 1048)\n"
          ]
        }
      ]
    },
    {
      "cell_type": "markdown",
      "source": [
        "Una vez generada la lista de aspectos (palabras + frases) los agregamos al dataset como columnas nuevas."
      ],
      "metadata": {
        "id": "OFKBDs2iaV8y"
      }
    },
    {
      "cell_type": "code",
      "source": [
        "def agregar_aspectos(dataset, aspectos):\n",
        "  for aspecto in aspectos:\n",
        "    dataset[aspecto] = dataset[\"property_description\"].apply(contiene_aspecto, args=(aspecto,))\n",
        "\n",
        "def contiene_aspecto(descripcion, aspecto):\n",
        "  descripcion = normalizar(descripcion)\n",
        "  return int(None != re.search(aspecto, descripcion))\n",
        "\n",
        "frases_comunes_lista = [frase[0] for frase in frases_comunes]\n",
        "aspectos_comunes_lista = [aspecto[0] for aspecto in aspectos_comunes]\n",
        "agregar_aspectos(dataset_pln_train, frases_comunes_lista)\n",
        "agregar_aspectos(dataset_pln_train, aspectos_comunes_lista)\n",
        "agregar_aspectos(dataset_pln_test, frases_comunes_lista)\n",
        "agregar_aspectos(dataset_pln_test, aspectos_comunes_lista)\n",
        "\n",
        "dataset_pln_train.head()"
      ],
      "metadata": {
        "colab": {
          "base_uri": "https://localhost:8080/",
          "height": 300
        },
        "id": "QXOh-Xl2KZIb",
        "outputId": "ce856daa-f961-4025-e087-64254d267179"
      },
      "execution_count": null,
      "outputs": [
        {
          "output_type": "execute_result",
          "data": {
            "text/plain": [
              "                         id    latitud   longitud  barrio property_type  \\\n",
              "0  /KS9ys5/j+tOi7ZtBH0beg== -34.554271 -58.457668       1  Departamento   \n",
              "1  F5QJsmufcrReRAHbc84lxQ== -34.613544 -58.368072       1  Departamento   \n",
              "2  MJP64X970Gj+Zdvn592RWA== -34.571020 -58.433125       0  Departamento   \n",
              "3  SEUBJTexychILiuTsn9L3Q== -34.597384 -58.405139       1  Departamento   \n",
              "4  gQdKfHVQXAfnza6dQte4ng== -34.591646 -58.418064       0  Departamento   \n",
              "\n",
              "   property_rooms  property_bedrooms  property_surface_total  \\\n",
              "0               2                  1                      59   \n",
              "1               3                  2                      71   \n",
              "2               2                  1                      79   \n",
              "3               4                  3                      91   \n",
              "4               1                  1                      37   \n",
              "\n",
              "   property_surface_covered  property_price  ... acondicionado  agua  \\\n",
              "0                        59          178000  ...             0     0   \n",
              "1                        71          129000  ...             0     0   \n",
              "2                        59          249000  ...             0     0   \n",
              "3                        85          165000  ...             0     0   \n",
              "4                        32          105000  ...             0     0   \n",
              "\n",
              "   toilette  hall  comercial  estacion  calidad  madera  suite  calefaccion  \n",
              "0         0     0          0         0        0       0      0            1  \n",
              "1         0     0          0         0        0       0      0            0  \n",
              "2         1     1          0         0        0       0      1            1  \n",
              "3         0     0          0         0        0       0      0            0  \n",
              "4         0     0          0         0        0       0      0            0  \n",
              "\n",
              "[5 rows x 105 columns]"
            ],
            "text/html": [
              "\n",
              "  <div id=\"df-1d8accfc-9bdd-4544-96c4-832d5cc585a0\">\n",
              "    <div class=\"colab-df-container\">\n",
              "      <div>\n",
              "<style scoped>\n",
              "    .dataframe tbody tr th:only-of-type {\n",
              "        vertical-align: middle;\n",
              "    }\n",
              "\n",
              "    .dataframe tbody tr th {\n",
              "        vertical-align: top;\n",
              "    }\n",
              "\n",
              "    .dataframe thead th {\n",
              "        text-align: right;\n",
              "    }\n",
              "</style>\n",
              "<table border=\"1\" class=\"dataframe\">\n",
              "  <thead>\n",
              "    <tr style=\"text-align: right;\">\n",
              "      <th></th>\n",
              "      <th>id</th>\n",
              "      <th>latitud</th>\n",
              "      <th>longitud</th>\n",
              "      <th>barrio</th>\n",
              "      <th>property_type</th>\n",
              "      <th>property_rooms</th>\n",
              "      <th>property_bedrooms</th>\n",
              "      <th>property_surface_total</th>\n",
              "      <th>property_surface_covered</th>\n",
              "      <th>property_price</th>\n",
              "      <th>...</th>\n",
              "      <th>acondicionado</th>\n",
              "      <th>agua</th>\n",
              "      <th>toilette</th>\n",
              "      <th>hall</th>\n",
              "      <th>comercial</th>\n",
              "      <th>estacion</th>\n",
              "      <th>calidad</th>\n",
              "      <th>madera</th>\n",
              "      <th>suite</th>\n",
              "      <th>calefaccion</th>\n",
              "    </tr>\n",
              "  </thead>\n",
              "  <tbody>\n",
              "    <tr>\n",
              "      <th>0</th>\n",
              "      <td>/KS9ys5/j+tOi7ZtBH0beg==</td>\n",
              "      <td>-34.554271</td>\n",
              "      <td>-58.457668</td>\n",
              "      <td>1</td>\n",
              "      <td>Departamento</td>\n",
              "      <td>2</td>\n",
              "      <td>1</td>\n",
              "      <td>59</td>\n",
              "      <td>59</td>\n",
              "      <td>178000</td>\n",
              "      <td>...</td>\n",
              "      <td>0</td>\n",
              "      <td>0</td>\n",
              "      <td>0</td>\n",
              "      <td>0</td>\n",
              "      <td>0</td>\n",
              "      <td>0</td>\n",
              "      <td>0</td>\n",
              "      <td>0</td>\n",
              "      <td>0</td>\n",
              "      <td>1</td>\n",
              "    </tr>\n",
              "    <tr>\n",
              "      <th>1</th>\n",
              "      <td>F5QJsmufcrReRAHbc84lxQ==</td>\n",
              "      <td>-34.613544</td>\n",
              "      <td>-58.368072</td>\n",
              "      <td>1</td>\n",
              "      <td>Departamento</td>\n",
              "      <td>3</td>\n",
              "      <td>2</td>\n",
              "      <td>71</td>\n",
              "      <td>71</td>\n",
              "      <td>129000</td>\n",
              "      <td>...</td>\n",
              "      <td>0</td>\n",
              "      <td>0</td>\n",
              "      <td>0</td>\n",
              "      <td>0</td>\n",
              "      <td>0</td>\n",
              "      <td>0</td>\n",
              "      <td>0</td>\n",
              "      <td>0</td>\n",
              "      <td>0</td>\n",
              "      <td>0</td>\n",
              "    </tr>\n",
              "    <tr>\n",
              "      <th>2</th>\n",
              "      <td>MJP64X970Gj+Zdvn592RWA==</td>\n",
              "      <td>-34.571020</td>\n",
              "      <td>-58.433125</td>\n",
              "      <td>0</td>\n",
              "      <td>Departamento</td>\n",
              "      <td>2</td>\n",
              "      <td>1</td>\n",
              "      <td>79</td>\n",
              "      <td>59</td>\n",
              "      <td>249000</td>\n",
              "      <td>...</td>\n",
              "      <td>0</td>\n",
              "      <td>0</td>\n",
              "      <td>1</td>\n",
              "      <td>1</td>\n",
              "      <td>0</td>\n",
              "      <td>0</td>\n",
              "      <td>0</td>\n",
              "      <td>0</td>\n",
              "      <td>1</td>\n",
              "      <td>1</td>\n",
              "    </tr>\n",
              "    <tr>\n",
              "      <th>3</th>\n",
              "      <td>SEUBJTexychILiuTsn9L3Q==</td>\n",
              "      <td>-34.597384</td>\n",
              "      <td>-58.405139</td>\n",
              "      <td>1</td>\n",
              "      <td>Departamento</td>\n",
              "      <td>4</td>\n",
              "      <td>3</td>\n",
              "      <td>91</td>\n",
              "      <td>85</td>\n",
              "      <td>165000</td>\n",
              "      <td>...</td>\n",
              "      <td>0</td>\n",
              "      <td>0</td>\n",
              "      <td>0</td>\n",
              "      <td>0</td>\n",
              "      <td>0</td>\n",
              "      <td>0</td>\n",
              "      <td>0</td>\n",
              "      <td>0</td>\n",
              "      <td>0</td>\n",
              "      <td>0</td>\n",
              "    </tr>\n",
              "    <tr>\n",
              "      <th>4</th>\n",
              "      <td>gQdKfHVQXAfnza6dQte4ng==</td>\n",
              "      <td>-34.591646</td>\n",
              "      <td>-58.418064</td>\n",
              "      <td>0</td>\n",
              "      <td>Departamento</td>\n",
              "      <td>1</td>\n",
              "      <td>1</td>\n",
              "      <td>37</td>\n",
              "      <td>32</td>\n",
              "      <td>105000</td>\n",
              "      <td>...</td>\n",
              "      <td>0</td>\n",
              "      <td>0</td>\n",
              "      <td>0</td>\n",
              "      <td>0</td>\n",
              "      <td>0</td>\n",
              "      <td>0</td>\n",
              "      <td>0</td>\n",
              "      <td>0</td>\n",
              "      <td>0</td>\n",
              "      <td>0</td>\n",
              "    </tr>\n",
              "  </tbody>\n",
              "</table>\n",
              "<p>5 rows × 105 columns</p>\n",
              "</div>\n",
              "      <button class=\"colab-df-convert\" onclick=\"convertToInteractive('df-1d8accfc-9bdd-4544-96c4-832d5cc585a0')\"\n",
              "              title=\"Convert this dataframe to an interactive table.\"\n",
              "              style=\"display:none;\">\n",
              "        \n",
              "  <svg xmlns=\"http://www.w3.org/2000/svg\" height=\"24px\"viewBox=\"0 0 24 24\"\n",
              "       width=\"24px\">\n",
              "    <path d=\"M0 0h24v24H0V0z\" fill=\"none\"/>\n",
              "    <path d=\"M18.56 5.44l.94 2.06.94-2.06 2.06-.94-2.06-.94-.94-2.06-.94 2.06-2.06.94zm-11 1L8.5 8.5l.94-2.06 2.06-.94-2.06-.94L8.5 2.5l-.94 2.06-2.06.94zm10 10l.94 2.06.94-2.06 2.06-.94-2.06-.94-.94-2.06-.94 2.06-2.06.94z\"/><path d=\"M17.41 7.96l-1.37-1.37c-.4-.4-.92-.59-1.43-.59-.52 0-1.04.2-1.43.59L10.3 9.45l-7.72 7.72c-.78.78-.78 2.05 0 2.83L4 21.41c.39.39.9.59 1.41.59.51 0 1.02-.2 1.41-.59l7.78-7.78 2.81-2.81c.8-.78.8-2.07 0-2.86zM5.41 20L4 18.59l7.72-7.72 1.47 1.35L5.41 20z\"/>\n",
              "  </svg>\n",
              "      </button>\n",
              "      \n",
              "  <style>\n",
              "    .colab-df-container {\n",
              "      display:flex;\n",
              "      flex-wrap:wrap;\n",
              "      gap: 12px;\n",
              "    }\n",
              "\n",
              "    .colab-df-convert {\n",
              "      background-color: #E8F0FE;\n",
              "      border: none;\n",
              "      border-radius: 50%;\n",
              "      cursor: pointer;\n",
              "      display: none;\n",
              "      fill: #1967D2;\n",
              "      height: 32px;\n",
              "      padding: 0 0 0 0;\n",
              "      width: 32px;\n",
              "    }\n",
              "\n",
              "    .colab-df-convert:hover {\n",
              "      background-color: #E2EBFA;\n",
              "      box-shadow: 0px 1px 2px rgba(60, 64, 67, 0.3), 0px 1px 3px 1px rgba(60, 64, 67, 0.15);\n",
              "      fill: #174EA6;\n",
              "    }\n",
              "\n",
              "    [theme=dark] .colab-df-convert {\n",
              "      background-color: #3B4455;\n",
              "      fill: #D2E3FC;\n",
              "    }\n",
              "\n",
              "    [theme=dark] .colab-df-convert:hover {\n",
              "      background-color: #434B5C;\n",
              "      box-shadow: 0px 1px 3px 1px rgba(0, 0, 0, 0.15);\n",
              "      filter: drop-shadow(0px 1px 2px rgba(0, 0, 0, 0.3));\n",
              "      fill: #FFFFFF;\n",
              "    }\n",
              "  </style>\n",
              "\n",
              "      <script>\n",
              "        const buttonEl =\n",
              "          document.querySelector('#df-1d8accfc-9bdd-4544-96c4-832d5cc585a0 button.colab-df-convert');\n",
              "        buttonEl.style.display =\n",
              "          google.colab.kernel.accessAllowed ? 'block' : 'none';\n",
              "\n",
              "        async function convertToInteractive(key) {\n",
              "          const element = document.querySelector('#df-1d8accfc-9bdd-4544-96c4-832d5cc585a0');\n",
              "          const dataTable =\n",
              "            await google.colab.kernel.invokeFunction('convertToInteractive',\n",
              "                                                     [key], {});\n",
              "          if (!dataTable) return;\n",
              "\n",
              "          const docLinkHtml = 'Like what you see? Visit the ' +\n",
              "            '<a target=\"_blank\" href=https://colab.research.google.com/notebooks/data_table.ipynb>data table notebook</a>'\n",
              "            + ' to learn more about interactive tables.';\n",
              "          element.innerHTML = '';\n",
              "          dataTable['output_type'] = 'display_data';\n",
              "          await google.colab.output.renderOutput(dataTable, element);\n",
              "          const docLink = document.createElement('div');\n",
              "          docLink.innerHTML = docLinkHtml;\n",
              "          element.appendChild(docLink);\n",
              "        }\n",
              "      </script>\n",
              "    </div>\n",
              "  </div>\n",
              "  "
            ]
          },
          "metadata": {},
          "execution_count": 62
        }
      ]
    },
    {
      "cell_type": "markdown",
      "source": [
        "## XGBoost"
      ],
      "metadata": {
        "id": "n8ipiK9OQCYF"
      }
    },
    {
      "cell_type": "markdown",
      "source": [
        "Entrenamos dos modelos XGBoost: uno utilizando los hiperparámetros obtenidos en el primer trabajo y otro con hiperparámetros optimizados para el nuevo dataset. \n",
        "\n",
        "La idea es generar modelos de regresión que puedan predecir el precio de la propiedad."
      ],
      "metadata": {
        "id": "FZXCk69_yx20"
      }
    },
    {
      "cell_type": "markdown",
      "source": [
        "Primero construimos el target y adaptamos el dataset."
      ],
      "metadata": {
        "id": "HHTEVFan07zK"
      }
    },
    {
      "cell_type": "code",
      "source": [
        "(target_train, dataset_train) = construir_target_y_features(dataset_pln_train)\n",
        "(target_test, dataset_test) = construir_target_y_features(dataset_pln_test)"
      ],
      "metadata": {
        "id": "U2g4fpHK09u0"
      },
      "execution_count": null,
      "outputs": []
    },
    {
      "cell_type": "markdown",
      "source": [
        "### Parámetros del TP1"
      ],
      "metadata": {
        "id": "cKx39Hz-ytue"
      }
    },
    {
      "cell_type": "markdown",
      "source": [
        "Entrenamos al primer modelo e imprimimos sus métricas de test y de train."
      ],
      "metadata": {
        "id": "uggV3uhVzRYj"
      }
    },
    {
      "cell_type": "code",
      "source": [
        "xgb = XGBRegressor(n_estimators= 500, min_child_weight= 6, max_depth= 12, learning_rate= 0.07)\n",
        "model = xgb.fit(dataset_train, target_train)"
      ],
      "metadata": {
        "colab": {
          "base_uri": "https://localhost:8080/"
        },
        "id": "YhUUyDntQB2p",
        "outputId": "40e68514-567f-4516-d65a-ca8a91a4597d"
      },
      "execution_count": null,
      "outputs": [
        {
          "output_type": "stream",
          "name": "stdout",
          "text": [
            "[14:54:53] WARNING: /workspace/src/objective/regression_obj.cu:152: reg:linear is now deprecated in favor of reg:squarederror.\n"
          ]
        }
      ]
    },
    {
      "cell_type": "markdown",
      "source": [
        "Vemos cómo es la performance con los datos de train. Performa demasiado bien, por lo que podría haber overfitting."
      ],
      "metadata": {
        "id": "E8vwuRk8zfcv"
      }
    },
    {
      "cell_type": "code",
      "source": [
        "precios_predichos_xgb_train = model.predict(dataset_train)\n",
        "imprimir_metricas_regresion(target_train, precios_predichos_xgb_train)"
      ],
      "metadata": {
        "colab": {
          "base_uri": "https://localhost:8080/"
        },
        "id": "SLYxzgxfzhx1",
        "outputId": "45103ec6-3537-43de-dd16-89c14adfd314"
      },
      "execution_count": null,
      "outputs": [
        {
          "output_type": "stream",
          "name": "stdout",
          "text": [
            "El error (mse) de test es: 62762976.21201805\n",
            "El error (rmse) de test es: 7922.308767778371\n",
            "El score R2 es: 0.9941485604871629\n"
          ]
        }
      ]
    },
    {
      "cell_type": "markdown",
      "source": [
        "Ahora analizamos con los datos de test."
      ],
      "metadata": {
        "id": "bp82j5VxzoDr"
      }
    },
    {
      "cell_type": "code",
      "source": [
        "precios_predichos_xgb = model.predict(dataset_test)\n",
        "imprimir_metricas_regresion(target_test, precios_predichos_xgb)"
      ],
      "metadata": {
        "colab": {
          "base_uri": "https://localhost:8080/"
        },
        "id": "9IKIW0rzUQGo",
        "outputId": "97631564-f7b4-4e82-9fff-0e8057e522ab"
      },
      "execution_count": null,
      "outputs": [
        {
          "output_type": "stream",
          "name": "stdout",
          "text": [
            "El error (mse) de test es: 947774176.1976094\n",
            "El error (rmse) de test es: 30785.941210195433\n",
            "El score R2 es: 0.9107822634935412\n"
          ]
        }
      ]
    },
    {
      "cell_type": "markdown",
      "source": [
        "Las métricas también son muy buenas, por lo que si bien puede haber un poco de overfitting el modelo está prediciendo bien los resultados. \n",
        "\n",
        "En el TP1 los resultados habían sido: \n",
        "  - El error (mse) de test es: 1194394914.1879835\n",
        "  - El error (rmse) de test es: 34560.0190131311\n",
        "  - El score R2 es: 0.8875645071859526\n",
        "\n",
        "por lo que vemos una mejora. Sin embargo, buscamos un nuevo modelo con los hiperparámetros optimizados a ver si mejoran aún más los resultados y podemos reducir el overfitting."
      ],
      "metadata": {
        "id": "AOFEnc4tzrFb"
      }
    },
    {
      "cell_type": "markdown",
      "source": [
        "### Nuevos hiperparámetros"
      ],
      "metadata": {
        "id": "f0uxcxJzzv9L"
      }
    },
    {
      "cell_type": "markdown",
      "source": [
        "Entrenamos al segundo modelo, esta vez realizando un randomized search para obtener los mejores hiperparámetros."
      ],
      "metadata": {
        "id": "uAFZyycMzycB"
      }
    },
    {
      "cell_type": "code",
      "source": [
        "xgb = XGBRegressor()\n",
        "\n",
        "param_grid = {\n",
        "    \"max_depth\": [4, 8, 12],\n",
        "    \"learning_rate\": [0.03, 0.05, 0.07, 1],\n",
        "    \"min_child_weight\": [2, 4, 6, 8],\n",
        "    \"n_estimators\": [250, 500, 750],\n",
        "    \"gamma\": [0, 1, 5, 10, 20],\n",
        "    \"lambda\": [1, 2, 5],\n",
        "    \n",
        "\n",
        "}\n",
        "\n",
        "xgb_randcv = RandomizedSearchCV(\n",
        "    xgb, param_grid, scoring=\"r2\", cv=3, random_state=SEMILLA, n_iter=15\n",
        ")\n",
        "xgb_randcv.fit(dataset_train, target_train)"
      ],
      "metadata": {
        "colab": {
          "base_uri": "https://localhost:8080/"
        },
        "id": "JPKcgAtdzyGz",
        "outputId": "2aa513ab-6b64-455f-98b4-847b252f1ba0"
      },
      "execution_count": null,
      "outputs": [
        {
          "output_type": "stream",
          "name": "stdout",
          "text": [
            "[15:03:22] WARNING: /workspace/src/objective/regression_obj.cu:152: reg:linear is now deprecated in favor of reg:squarederror.\n",
            "[15:06:17] WARNING: /workspace/src/objective/regression_obj.cu:152: reg:linear is now deprecated in favor of reg:squarederror.\n",
            "[15:09:07] WARNING: /workspace/src/objective/regression_obj.cu:152: reg:linear is now deprecated in favor of reg:squarederror.\n",
            "[15:11:49] WARNING: /workspace/src/objective/regression_obj.cu:152: reg:linear is now deprecated in favor of reg:squarederror.\n",
            "[15:13:37] WARNING: /workspace/src/objective/regression_obj.cu:152: reg:linear is now deprecated in favor of reg:squarederror.\n",
            "[15:15:25] WARNING: /workspace/src/objective/regression_obj.cu:152: reg:linear is now deprecated in favor of reg:squarederror.\n",
            "[15:17:12] WARNING: /workspace/src/objective/regression_obj.cu:152: reg:linear is now deprecated in favor of reg:squarederror.\n",
            "[15:19:00] WARNING: /workspace/src/objective/regression_obj.cu:152: reg:linear is now deprecated in favor of reg:squarederror.\n",
            "[15:20:48] WARNING: /workspace/src/objective/regression_obj.cu:152: reg:linear is now deprecated in favor of reg:squarederror.\n",
            "[15:22:38] WARNING: /workspace/src/objective/regression_obj.cu:152: reg:linear is now deprecated in favor of reg:squarederror.\n",
            "[15:23:58] WARNING: /workspace/src/objective/regression_obj.cu:152: reg:linear is now deprecated in favor of reg:squarederror.\n",
            "[15:25:17] WARNING: /workspace/src/objective/regression_obj.cu:152: reg:linear is now deprecated in favor of reg:squarederror.\n",
            "[15:26:37] WARNING: /workspace/src/objective/regression_obj.cu:152: reg:linear is now deprecated in favor of reg:squarederror.\n",
            "[15:28:21] WARNING: /workspace/src/objective/regression_obj.cu:152: reg:linear is now deprecated in favor of reg:squarederror.\n",
            "[15:30:05] WARNING: /workspace/src/objective/regression_obj.cu:152: reg:linear is now deprecated in favor of reg:squarederror.\n",
            "[15:31:49] WARNING: /workspace/src/objective/regression_obj.cu:152: reg:linear is now deprecated in favor of reg:squarederror.\n",
            "[15:32:15] WARNING: /workspace/src/objective/regression_obj.cu:152: reg:linear is now deprecated in favor of reg:squarederror.\n",
            "[15:32:41] WARNING: /workspace/src/objective/regression_obj.cu:152: reg:linear is now deprecated in favor of reg:squarederror.\n",
            "[15:33:07] WARNING: /workspace/src/objective/regression_obj.cu:152: reg:linear is now deprecated in favor of reg:squarederror.\n",
            "[15:34:01] WARNING: /workspace/src/objective/regression_obj.cu:152: reg:linear is now deprecated in favor of reg:squarederror.\n",
            "[15:34:54] WARNING: /workspace/src/objective/regression_obj.cu:152: reg:linear is now deprecated in favor of reg:squarederror.\n",
            "[15:35:47] WARNING: /workspace/src/objective/regression_obj.cu:152: reg:linear is now deprecated in favor of reg:squarederror.\n",
            "[15:38:31] WARNING: /workspace/src/objective/regression_obj.cu:152: reg:linear is now deprecated in favor of reg:squarederror.\n",
            "[15:41:17] WARNING: /workspace/src/objective/regression_obj.cu:152: reg:linear is now deprecated in favor of reg:squarederror.\n",
            "[15:44:03] WARNING: /workspace/src/objective/regression_obj.cu:152: reg:linear is now deprecated in favor of reg:squarederror.\n",
            "[15:44:56] WARNING: /workspace/src/objective/regression_obj.cu:152: reg:linear is now deprecated in favor of reg:squarederror.\n",
            "[15:45:49] WARNING: /workspace/src/objective/regression_obj.cu:152: reg:linear is now deprecated in favor of reg:squarederror.\n",
            "[15:46:42] WARNING: /workspace/src/objective/regression_obj.cu:152: reg:linear is now deprecated in favor of reg:squarederror.\n",
            "[15:47:35] WARNING: /workspace/src/objective/regression_obj.cu:152: reg:linear is now deprecated in favor of reg:squarederror.\n",
            "[15:48:29] WARNING: /workspace/src/objective/regression_obj.cu:152: reg:linear is now deprecated in favor of reg:squarederror.\n",
            "[15:49:23] WARNING: /workspace/src/objective/regression_obj.cu:152: reg:linear is now deprecated in favor of reg:squarederror.\n",
            "[15:51:00] WARNING: /workspace/src/objective/regression_obj.cu:152: reg:linear is now deprecated in favor of reg:squarederror.\n",
            "[15:52:37] WARNING: /workspace/src/objective/regression_obj.cu:152: reg:linear is now deprecated in favor of reg:squarederror.\n",
            "[15:54:14] WARNING: /workspace/src/objective/regression_obj.cu:152: reg:linear is now deprecated in favor of reg:squarederror.\n",
            "[15:54:41] WARNING: /workspace/src/objective/regression_obj.cu:152: reg:linear is now deprecated in favor of reg:squarederror.\n",
            "[15:55:08] WARNING: /workspace/src/objective/regression_obj.cu:152: reg:linear is now deprecated in favor of reg:squarederror.\n",
            "[15:55:35] WARNING: /workspace/src/objective/regression_obj.cu:152: reg:linear is now deprecated in favor of reg:squarederror.\n",
            "[15:58:16] WARNING: /workspace/src/objective/regression_obj.cu:152: reg:linear is now deprecated in favor of reg:squarederror.\n",
            "[16:00:59] WARNING: /workspace/src/objective/regression_obj.cu:152: reg:linear is now deprecated in favor of reg:squarederror.\n",
            "[16:03:40] WARNING: /workspace/src/objective/regression_obj.cu:152: reg:linear is now deprecated in favor of reg:squarederror.\n",
            "[16:05:27] WARNING: /workspace/src/objective/regression_obj.cu:152: reg:linear is now deprecated in favor of reg:squarederror.\n",
            "[16:07:13] WARNING: /workspace/src/objective/regression_obj.cu:152: reg:linear is now deprecated in favor of reg:squarederror.\n",
            "[16:09:00] WARNING: /workspace/src/objective/regression_obj.cu:152: reg:linear is now deprecated in favor of reg:squarederror.\n",
            "[16:10:42] WARNING: /workspace/src/objective/regression_obj.cu:152: reg:linear is now deprecated in favor of reg:squarederror.\n",
            "[16:12:24] WARNING: /workspace/src/objective/regression_obj.cu:152: reg:linear is now deprecated in favor of reg:squarederror.\n",
            "[16:14:07] WARNING: /workspace/src/objective/regression_obj.cu:152: reg:linear is now deprecated in favor of reg:squarederror.\n"
          ]
        },
        {
          "output_type": "execute_result",
          "data": {
            "text/plain": [
              "RandomizedSearchCV(cv=3, estimator=XGBRegressor(), n_iter=15,\n",
              "                   param_distributions={'gamma': [0, 1, 5, 10, 20],\n",
              "                                        'lambda': [1, 2, 5],\n",
              "                                        'learning_rate': [0.03, 0.05, 0.07, 1],\n",
              "                                        'max_depth': [4, 8, 12],\n",
              "                                        'min_child_weight': [2, 4, 6, 8],\n",
              "                                        'n_estimators': [250, 500, 750]},\n",
              "                   random_state=1, scoring='r2')"
            ]
          },
          "metadata": {},
          "execution_count": 68
        }
      ]
    },
    {
      "cell_type": "code",
      "source": [
        "print(\"Mejores hiperparámetros: \", xgb_randcv.best_params_)\n",
        "print(\"Mejor métrica: \", xgb_randcv.best_score_)\n"
      ],
      "metadata": {
        "colab": {
          "base_uri": "https://localhost:8080/"
        },
        "id": "gElgwqOrz83G",
        "outputId": "4aadc673-d2e7-42e1-9052-045f68d57286"
      },
      "execution_count": null,
      "outputs": [
        {
          "output_type": "stream",
          "name": "stdout",
          "text": [
            "Mejores hiperparámetros:  {'n_estimators': 750, 'min_child_weight': 6, 'max_depth': 8, 'learning_rate': 0.07, 'lambda': 2, 'gamma': 1}\n",
            "Mejor métrica:  0.9071796488969764\n"
          ]
        }
      ]
    },
    {
      "cell_type": "markdown",
      "source": [
        "Entrenamos al modelo con la mejor métrica."
      ],
      "metadata": {
        "id": "hFH7sPrg0fB_"
      }
    },
    {
      "cell_type": "code",
      "source": [
        "xgb_model = xgb_randcv.best_estimator_\n",
        "model = xgb_model.fit(X=dataset_train, y=target_train)"
      ],
      "metadata": {
        "colab": {
          "base_uri": "https://localhost:8080/"
        },
        "id": "ibZu6lUaz-Wc",
        "outputId": "0900f1bd-3f01-4978-daca-f6e7b56886c2"
      },
      "execution_count": null,
      "outputs": [
        {
          "output_type": "stream",
          "name": "stdout",
          "text": [
            "[16:22:25] WARNING: /workspace/src/objective/regression_obj.cu:152: reg:linear is now deprecated in favor of reg:squarederror.\n"
          ]
        }
      ]
    },
    {
      "cell_type": "markdown",
      "source": [
        "Analizamos su performance con los datos de train."
      ],
      "metadata": {
        "id": "Nr4kEs-M0hwi"
      }
    },
    {
      "cell_type": "code",
      "source": [
        "precios_predichos_xgb_train = model.predict(dataset_train)\n",
        "imprimir_metricas_regresion(target_train, precios_predichos_xgb_train)"
      ],
      "metadata": {
        "colab": {
          "base_uri": "https://localhost:8080/"
        },
        "id": "wCIXLqBF0BjQ",
        "outputId": "9db6ab96-139f-450a-bc1e-b375be89fd6f"
      },
      "execution_count": null,
      "outputs": [
        {
          "output_type": "stream",
          "name": "stdout",
          "text": [
            "El error (mse) de test es: 296934449.53851545\n",
            "El error (rmse) de test es: 17231.786022885597\n",
            "El score R2 es: 0.9723165777721756\n"
          ]
        }
      ]
    },
    {
      "cell_type": "markdown",
      "source": [
        "Nuevamente, vemos que performa demasiado bien, por lo que podría haber overfitting."
      ],
      "metadata": {
        "id": "2jP1DruUbuUH"
      }
    },
    {
      "cell_type": "markdown",
      "source": [
        "Analizamos cómo performa con los datos de test."
      ],
      "metadata": {
        "id": "_Q_YsZzf0mFE"
      }
    },
    {
      "cell_type": "code",
      "source": [
        "precios_predichos_xgb = model.predict(dataset_test)\n",
        "imprimir_metricas_regresion(target_test, precios_predichos_xgb)\n"
      ],
      "metadata": {
        "colab": {
          "base_uri": "https://localhost:8080/"
        },
        "id": "ti_sL2_Dz_qS",
        "outputId": "b3ad0257-ac81-4cce-cf91-8ab8265a168d"
      },
      "execution_count": null,
      "outputs": [
        {
          "output_type": "stream",
          "name": "stdout",
          "text": [
            "El error (mse) de test es: 959083000.3801513\n",
            "El error (rmse) de test es: 30969.065216440602\n",
            "El score R2 es: 0.9097177190889196\n"
          ]
        }
      ]
    },
    {
      "cell_type": "markdown",
      "source": [
        "Sigue teniendo muy buenos resultados, similares a los obtenidos con el modelo anterior. "
      ],
      "metadata": {
        "id": "MwTYa-64by3a"
      }
    },
    {
      "cell_type": "markdown",
      "source": [
        "## Conclusiones"
      ],
      "metadata": {
        "id": "rgItKOFSb7Dr"
      }
    },
    {
      "cell_type": "markdown",
      "source": [
        "El dataset con aspectos tiene una mejor performance que sin, pero la mejora no es demasiado significativa ya que sin eso ya se obtenían buenos resultados. \n",
        "\n",
        "El método explorado de Regex resultó ser útil para encontrar de forma rápida frases comunes relacionadas al dominio, pero resultó lento y difícil hallar las mejores reglas que generaban el mejor rendimiento ya que primero era necesario familiarizarnos mucho con el dominio y el dataset. \n",
        "\n",
        "En los modelos entrenados se puede observar un poco de overfitting, pero incluso optimizando los hiperparámetros esto no mejora. Sin embargo, como los resultados con los datos de test también son muy buenos podemos suponer que el modelo se adapta muy bien a los datos."
      ],
      "metadata": {
        "id": "IYB0yp--b9IX"
      }
    }
  ]
}