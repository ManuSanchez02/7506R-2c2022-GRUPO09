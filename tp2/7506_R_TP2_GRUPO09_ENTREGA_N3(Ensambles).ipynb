{
  "nbformat": 4,
  "nbformat_minor": 0,
  "metadata": {
    "colab": {
      "provenance": [],
      "include_colab_link": true
    },
    "kernelspec": {
      "name": "python3",
      "display_name": "Python 3"
    },
    "language_info": {
      "name": "python"
    }
  },
  "cells": [
    {
      "cell_type": "markdown",
      "metadata": {
        "id": "view-in-github",
        "colab_type": "text"
      },
      "source": [
        "<a href=\"https://colab.research.google.com/github/ManuSanchez02/7506R-2c2022-GRUPO09/blob/main/tp2/7506_R_TP2_GRUPO09_ENTREGA_N3(Ensambles).ipynb\" target=\"_parent\"><img src=\"https://colab.research.google.com/assets/colab-badge.svg\" alt=\"Open In Colab\"/></a>"
      ]
    },
    {
      "cell_type": "markdown",
      "source": [
        "# Configuración inicial"
      ],
      "metadata": {
        "id": "Q9H9a0qcrZzK"
      }
    },
    {
      "cell_type": "markdown",
      "source": [
        "Importamos las bibliotecas necesarias."
      ],
      "metadata": {
        "id": "RoLklipOE3tF"
      }
    },
    {
      "cell_type": "code",
      "source": [
        "import numpy as np\n",
        "import pandas as pd\n",
        "import matplotlib.pyplot as plt\n",
        "import seaborn as sns\n",
        "\n",
        "from sklearn.model_selection import train_test_split\n",
        "from sklearn.preprocessing import StandardScaler\n",
        "from sklearn import preprocessing\n",
        "from sklearn.model_selection import KFold\n",
        "from joblib import dump, load \n",
        "\n",
        "from sklearn.ensemble import VotingClassifier\n",
        "from sklearn.ensemble import StackingRegressor\n",
        "from sklearn.pipeline import Pipeline \n",
        "\n",
        "from sklearn.metrics import (\n",
        "    confusion_matrix,\n",
        "    recall_score, \n",
        "    accuracy_score, \n",
        "    f1_score,\n",
        "    mean_squared_error,\n",
        "    r2_score,\n",
        "    mean_absolute_error\n",
        ")\n",
        "\n",
        "from xgboost import XGBRegressor\n",
        "\n",
        "!pip install xgboost\n",
        "\n",
        "np.random.seed(1)"
      ],
      "metadata": {
        "id": "IzXiazTFB891",
        "colab": {
          "base_uri": "https://localhost:8080/"
        },
        "outputId": "35df0d14-e193-4fa1-f05d-ee4332f22dba"
      },
      "execution_count": 41,
      "outputs": [
        {
          "output_type": "stream",
          "name": "stdout",
          "text": [
            "Looking in indexes: https://pypi.org/simple, https://us-python.pkg.dev/colab-wheels/public/simple/\n",
            "Requirement already satisfied: xgboost in /usr/local/lib/python3.8/dist-packages (0.90)\n",
            "Requirement already satisfied: scipy in /usr/local/lib/python3.8/dist-packages (from xgboost) (1.7.3)\n",
            "Requirement already satisfied: numpy in /usr/local/lib/python3.8/dist-packages (from xgboost) (1.21.6)\n"
          ]
        }
      ]
    },
    {
      "cell_type": "markdown",
      "source": [
        "## Funciones útiles"
      ],
      "metadata": {
        "id": "rDb0d6zTT6io"
      }
    },
    {
      "cell_type": "code",
      "source": [
        "def graficar_matriz_de_confusion(y_test, y_pred, labels):\n",
        "    cm = confusion_matrix(y_test, y_pred)\n",
        "    fig = plt.figure(figsize = (12, 10))\n",
        "    sns.heatmap(\n",
        "        cm, annot=True, xticklabels=labels, yticklabels=labels, cmap=\"GnBu\", fmt=\"g\"\n",
        "    )\n",
        "    plt.title(\"Matriz de confusión\")\n",
        "    plt.xlabel(\"Predichos\")\n",
        "    plt.ylabel(\"Verdaderos\")\n",
        "    plt.show()\n",
        "\n",
        "def imprimir_metricas_de_clasificacion(y_test, y_pred):\n",
        "    accuracy = accuracy_score(y_test, y_pred)\n",
        "    recall = recall_score(y_test, y_pred, average=\"weighted\")\n",
        "    f1 = f1_score(y_test, y_pred, average=\"weighted\")\n",
        "\n",
        "    print(\"\\nMétricas de clasificación\\n\")\n",
        "    print(\"Accuracy: \" + str(accuracy))\n",
        "    print(\"Recall: \" + str(recall))\n",
        "    print(\"F1 score: \" + str(f1))\n",
        "\n",
        "def imprimir_metricas_de_regresion(target_test, precios_predichos):\n",
        "    # Error cuadrático medio\n",
        "    mse = mean_squared_error(\n",
        "        y_true=target_test, y_pred=precios_predichos, squared=True\n",
        "    )\n",
        "\n",
        "    # Raíz del error cuadrático medio\n",
        "    rmse = mean_squared_error(\n",
        "        y_true=target_test, y_pred=precios_predichos, squared=False\n",
        "    )\n",
        "\n",
        "    # Score R2\n",
        "    r2 = r2_score(target_test, precios_predichos)\n",
        "\n",
        "    print(\"\\nMétricas de regresión\\n\")\n",
        "    print(f\"El error (mse) de test es: {mse}\")\n",
        "    print(f\"El error (rmse) de test es: {rmse}\")\n",
        "    print(f\"El score R2 es: {r2}\")"
      ],
      "metadata": {
        "id": "-RPR25qhT7r1"
      },
      "execution_count": 18,
      "outputs": []
    },
    {
      "cell_type": "markdown",
      "source": [
        "## Modelos"
      ],
      "metadata": {
        "id": "YALX-lvmmOam"
      }
    },
    {
      "cell_type": "markdown",
      "source": [
        "Importamos los modelos generados en el TP1."
      ],
      "metadata": {
        "id": "g4H0Yo3Lre42"
      }
    },
    {
      "cell_type": "code",
      "source": [
        "!wget https://github.com/ManuSanchez02/7506R-2c2022-GRUPO09/raw/main/tp2/arbolDeDecision.joblib -O arbol_de_decision.joblib\n",
        "!wget https://github.com/ManuSanchez02/7506R-2c2022-GRUPO09/raw/main/tp2/randomForest.joblib -O random_forest.joblib\n",
        "!wget https://github.com/ManuSanchez02/7506R-2c2022-GRUPO09/raw/main/tp2/regresionLogistica.joblib -O regresion_logistica.joblib\n",
        "!wget https://github.com/ManuSanchez02/7506R-2c2022-GRUPO09/raw/main/tp2/knn.joblib -O knn.joblib\n",
        "!wget https://github.com/ManuSanchez02/7506R-2c2022-GRUPO09/raw/main/tp2/xgb.joblib -O xgb.joblib\n",
        "!wget https://github.com/ManuSanchez02/7506R-2c2022-GRUPO09/raw/main/tp2/gradientBoosting.joblib -O gradient_boosting.joblib"
      ],
      "metadata": {
        "colab": {
          "base_uri": "https://localhost:8080/"
        },
        "id": "NDTxZms7GRlT",
        "outputId": "1cd9391a-0003-4f4f-cace-29835c1d1c66"
      },
      "execution_count": 42,
      "outputs": [
        {
          "output_type": "stream",
          "name": "stdout",
          "text": [
            "--2022-12-07 16:43:26--  https://github.com/ManuSanchez02/7506R-2c2022-GRUPO09/raw/main/tp2/arbolDeDecision.joblib\n",
            "Resolving github.com (github.com)... 140.82.113.4\n",
            "Connecting to github.com (github.com)|140.82.113.4|:443... connected.\n",
            "HTTP request sent, awaiting response... 302 Found\n",
            "Location: https://raw.githubusercontent.com/ManuSanchez02/7506R-2c2022-GRUPO09/main/tp2/arbolDeDecision.joblib [following]\n",
            "--2022-12-07 16:43:27--  https://raw.githubusercontent.com/ManuSanchez02/7506R-2c2022-GRUPO09/main/tp2/arbolDeDecision.joblib\n",
            "Resolving raw.githubusercontent.com (raw.githubusercontent.com)... 185.199.108.133, 185.199.109.133, 185.199.110.133, ...\n",
            "Connecting to raw.githubusercontent.com (raw.githubusercontent.com)|185.199.108.133|:443... connected.\n",
            "HTTP request sent, awaiting response... 200 OK\n",
            "Length: 908544 (887K) [application/octet-stream]\n",
            "Saving to: ‘arbol_de_decision.joblib’\n",
            "\n",
            "arbol_de_decision.j 100%[===================>] 887.25K  --.-KB/s    in 0.008s  \n",
            "\n",
            "2022-12-07 16:43:27 (115 MB/s) - ‘arbol_de_decision.joblib’ saved [908544/908544]\n",
            "\n",
            "--2022-12-07 16:43:27--  https://github.com/ManuSanchez02/7506R-2c2022-GRUPO09/raw/main/tp2/randomForest.joblib\n",
            "Resolving github.com (github.com)... 140.82.113.3\n",
            "Connecting to github.com (github.com)|140.82.113.3|:443... connected.\n",
            "HTTP request sent, awaiting response... 302 Found\n",
            "Location: https://raw.githubusercontent.com/ManuSanchez02/7506R-2c2022-GRUPO09/main/tp2/randomForest.joblib [following]\n",
            "--2022-12-07 16:43:27--  https://raw.githubusercontent.com/ManuSanchez02/7506R-2c2022-GRUPO09/main/tp2/randomForest.joblib\n",
            "Resolving raw.githubusercontent.com (raw.githubusercontent.com)... 185.199.108.133, 185.199.109.133, 185.199.110.133, ...\n",
            "Connecting to raw.githubusercontent.com (raw.githubusercontent.com)|185.199.108.133|:443... connected.\n",
            "HTTP request sent, awaiting response... 200 OK\n",
            "Length: 48055681 (46M) [application/octet-stream]\n",
            "Saving to: ‘random_forest.joblib’\n",
            "\n",
            "random_forest.jobli 100%[===================>]  45.83M   260MB/s    in 0.2s    \n",
            "\n",
            "2022-12-07 16:43:28 (260 MB/s) - ‘random_forest.joblib’ saved [48055681/48055681]\n",
            "\n",
            "--2022-12-07 16:43:28--  https://github.com/ManuSanchez02/7506R-2c2022-GRUPO09/raw/main/tp2/regresionLogistica.joblib\n",
            "Resolving github.com (github.com)... 140.82.114.3\n",
            "Connecting to github.com (github.com)|140.82.114.3|:443... connected.\n",
            "HTTP request sent, awaiting response... 302 Found\n",
            "Location: https://raw.githubusercontent.com/ManuSanchez02/7506R-2c2022-GRUPO09/main/tp2/regresionLogistica.joblib [following]\n",
            "--2022-12-07 16:43:28--  https://raw.githubusercontent.com/ManuSanchez02/7506R-2c2022-GRUPO09/main/tp2/regresionLogistica.joblib\n",
            "Resolving raw.githubusercontent.com (raw.githubusercontent.com)... 185.199.110.133, 185.199.109.133, 185.199.111.133, ...\n",
            "Connecting to raw.githubusercontent.com (raw.githubusercontent.com)|185.199.110.133|:443... connected.\n",
            "HTTP request sent, awaiting response... 200 OK\n",
            "Length: 83287 (81K) [application/octet-stream]\n",
            "Saving to: ‘regresion_logistica.joblib’\n",
            "\n",
            "regresion_logistica 100%[===================>]  81.33K  --.-KB/s    in 0.003s  \n",
            "\n",
            "2022-12-07 16:43:28 (26.2 MB/s) - ‘regresion_logistica.joblib’ saved [83287/83287]\n",
            "\n",
            "--2022-12-07 16:43:28--  https://github.com/ManuSanchez02/7506R-2c2022-GRUPO09/raw/main/tp2/knn.joblib\n",
            "Resolving github.com (github.com)... 140.82.113.4\n",
            "Connecting to github.com (github.com)|140.82.113.4|:443... connected.\n",
            "HTTP request sent, awaiting response... 302 Found\n",
            "Location: https://raw.githubusercontent.com/ManuSanchez02/7506R-2c2022-GRUPO09/main/tp2/knn.joblib [following]\n",
            "--2022-12-07 16:43:28--  https://raw.githubusercontent.com/ManuSanchez02/7506R-2c2022-GRUPO09/main/tp2/knn.joblib\n",
            "Resolving raw.githubusercontent.com (raw.githubusercontent.com)... 185.199.111.133, 185.199.109.133, 185.199.110.133, ...\n",
            "Connecting to raw.githubusercontent.com (raw.githubusercontent.com)|185.199.111.133|:443... connected.\n",
            "HTTP request sent, awaiting response... 200 OK\n",
            "Length: 35933725 (34M) [application/octet-stream]\n",
            "Saving to: ‘knn.joblib’\n",
            "\n",
            "knn.joblib          100%[===================>]  34.27M   137MB/s    in 0.2s    \n",
            "\n",
            "2022-12-07 16:43:29 (137 MB/s) - ‘knn.joblib’ saved [35933725/35933725]\n",
            "\n",
            "--2022-12-07 16:43:29--  https://github.com/ManuSanchez02/7506R-2c2022-GRUPO09/raw/main/tp2/xgb.joblib\n",
            "Resolving github.com (github.com)... 140.82.114.3\n",
            "Connecting to github.com (github.com)|140.82.114.3|:443... connected.\n",
            "HTTP request sent, awaiting response... 302 Found\n",
            "Location: https://raw.githubusercontent.com/ManuSanchez02/7506R-2c2022-GRUPO09/main/tp2/xgb.joblib [following]\n",
            "--2022-12-07 16:43:29--  https://raw.githubusercontent.com/ManuSanchez02/7506R-2c2022-GRUPO09/main/tp2/xgb.joblib\n",
            "Resolving raw.githubusercontent.com (raw.githubusercontent.com)... 185.199.108.133, 185.199.109.133, 185.199.110.133, ...\n",
            "Connecting to raw.githubusercontent.com (raw.githubusercontent.com)|185.199.108.133|:443... connected.\n",
            "HTTP request sent, awaiting response... 200 OK\n",
            "Length: 11268859 (11M) [application/octet-stream]\n",
            "Saving to: ‘xgb.joblib’\n",
            "\n",
            "xgb.joblib          100%[===================>]  10.75M  --.-KB/s    in 0.09s   \n",
            "\n",
            "2022-12-07 16:43:30 (122 MB/s) - ‘xgb.joblib’ saved [11268859/11268859]\n",
            "\n",
            "--2022-12-07 16:43:30--  https://github.com/ManuSanchez02/7506R-2c2022-GRUPO09/raw/main/tp2/gradientBoosting.joblib\n",
            "Resolving github.com (github.com)... 140.82.112.3\n",
            "Connecting to github.com (github.com)|140.82.112.3|:443... connected.\n",
            "HTTP request sent, awaiting response... 302 Found\n",
            "Location: https://raw.githubusercontent.com/ManuSanchez02/7506R-2c2022-GRUPO09/main/tp2/gradientBoosting.joblib [following]\n",
            "--2022-12-07 16:43:30--  https://raw.githubusercontent.com/ManuSanchez02/7506R-2c2022-GRUPO09/main/tp2/gradientBoosting.joblib\n",
            "Resolving raw.githubusercontent.com (raw.githubusercontent.com)... 185.199.108.133, 185.199.109.133, 185.199.110.133, ...\n",
            "Connecting to raw.githubusercontent.com (raw.githubusercontent.com)|185.199.108.133|:443... connected.\n",
            "HTTP request sent, awaiting response... 200 OK\n",
            "Length: 627613 (613K) [application/octet-stream]\n",
            "Saving to: ‘gradient_boosting.joblib’\n",
            "\n",
            "gradient_boosting.j 100%[===================>] 612.90K  --.-KB/s    in 0.008s  \n",
            "\n",
            "2022-12-07 16:43:30 (77.3 MB/s) - ‘gradient_boosting.joblib’ saved [627613/627613]\n",
            "\n"
          ]
        }
      ]
    },
    {
      "cell_type": "code",
      "source": [
        "# Modelos clasificación\n",
        "arbol_de_decision = load(\"arbol_de_decision.joblib\")\n",
        "random_forest = load(\"random_forest.joblib\")\n",
        "regresion_logistica = load(\"regresion_logistica.joblib\")\n",
        "\n",
        "# Modelos regresión\n",
        "knn = load(\"knn.joblib\")\n",
        "xgboost = load(\"xgb.joblib\")\n",
        "gradient_boost = load(\"gradient_boosting.joblib\")"
      ],
      "metadata": {
        "colab": {
          "base_uri": "https://localhost:8080/"
        },
        "id": "GeJJSLB0Ez3r",
        "outputId": "aa05ddb0-3d62-4fea-94fc-0506d4ad03fa"
      },
      "execution_count": 43,
      "outputs": [
        {
          "output_type": "stream",
          "name": "stdout",
          "text": [
            "[16:43:36] WARNING: /workspace/src/objective/regression_obj.cu:152: reg:linear is now deprecated in favor of reg:squarederror.\n"
          ]
        }
      ]
    },
    {
      "cell_type": "markdown",
      "source": [
        "## Datasets"
      ],
      "metadata": {
        "id": "9EW-buQWm6x7"
      }
    },
    {
      "cell_type": "markdown",
      "source": [
        "Importamos los datasets con los que vamos a trabajar."
      ],
      "metadata": {
        "id": "pHT4BwX3rkxh"
      }
    },
    {
      "cell_type": "code",
      "source": [
        "clasificacion_train_feature = pd.read_csv(\"https://github.com/ManuSanchez02/7506R-2c2022-GRUPO09/blob/main/tp2/datasets/clasificacion_train_feature.csv?raw=true\")\n",
        "clasificacion_train_target = pd.read_csv(\"https://github.com/ManuSanchez02/7506R-2c2022-GRUPO09/blob/main/tp2/datasets/clasificacion_train_target.csv?raw=true\")\n",
        "clasificacion_test_feature = pd.read_csv(\"https://github.com/ManuSanchez02/7506R-2c2022-GRUPO09/blob/main/tp2/datasets/clasificacion_test_feature.csv?raw=true\")\n",
        "clasificacion_test_target = pd.read_csv(\"https://github.com/ManuSanchez02/7506R-2c2022-GRUPO09/blob/main/tp2/datasets/clasificacion_test_target.csv?raw=true\")\n",
        "regresion_train_feature = pd.read_csv(\"https://github.com/ManuSanchez02/7506R-2c2022-GRUPO09/blob/main/tp2/datasets/regresion_train_feature.csv?raw=true\")\n",
        "regresion_train_target = pd.read_csv(\"https://github.com/ManuSanchez02/7506R-2c2022-GRUPO09/blob/main/tp2/datasets/regresion_train_target.csv?raw=true\")\n",
        "regresion_test_feature = pd.read_csv(\"https://github.com/ManuSanchez02/7506R-2c2022-GRUPO09/blob/main/tp2/datasets/regresion_test_feature.csv?raw=true\")\n",
        "regresion_test_target = pd.read_csv(\"https://github.com/ManuSanchez02/7506R-2c2022-GRUPO09/blob/main/tp2/datasets/regresion_test_target.csv?raw=true\")\n"
      ],
      "metadata": {
        "id": "N9z2-rbOZHSk"
      },
      "execution_count": 44,
      "outputs": []
    },
    {
      "cell_type": "code",
      "source": [
        "def preparar_dataset(dataset):\n",
        "  dataset.drop(\"Unnamed: 0\", axis = 1, inplace=True)\n",
        "  dataset.drop(\"id\", axis = 1, inplace=True)\n",
        "  return dataset\n",
        "\n",
        "def preparar_target(target):\n",
        "  target.drop(\"Unnamed: 0\", axis = 1, inplace=True)\n",
        "  return target\n",
        "\n",
        "clasificacion_train_feature = preparar_dataset(clasificacion_train_feature)\n",
        "clasificacion_test_feature = preparar_dataset(clasificacion_test_feature)\n",
        "regresion_train_feature = preparar_dataset(regresion_train_feature)\n",
        "regresion_test_feature = preparar_dataset(regresion_test_feature)\n",
        "\n",
        "clasificacion_train_target = preparar_target(clasificacion_train_target)\n",
        "clasificacion_test_target = preparar_target(clasificacion_test_target)\n",
        "regresion_train_target = preparar_target(regresion_train_target)\n",
        "regresion_test_target = preparar_target(regresion_test_target)"
      ],
      "metadata": {
        "id": "5rprgFeSrw7D"
      },
      "execution_count": 45,
      "outputs": []
    },
    {
      "cell_type": "markdown",
      "source": [
        "# Voting"
      ],
      "metadata": {
        "id": "e747OPbYnOmH"
      }
    },
    {
      "cell_type": "markdown",
      "source": [
        "Convertimos las categorías del target de clasificación en categorías numéricas para que los modelos trabajen con los mismos datos y escalamos el modelo de regresión logísitca para que performe mejor."
      ],
      "metadata": {
        "id": "79soVMJYJNKF"
      }
    },
    {
      "cell_type": "code",
      "source": [
        "label_encoder = preprocessing.LabelEncoder()\n",
        "clasificacion_train_target = label_encoder.fit_transform(clasificacion_train_target)\n",
        "clasificacion_test_target = label_encoder.transform(clasificacion_test_target)"
      ],
      "metadata": {
        "id": "yWGOhFRMJF19",
        "colab": {
          "base_uri": "https://localhost:8080/"
        },
        "outputId": "86dda242-8c3f-4e8e-dc48-a0048b3053f6"
      },
      "execution_count": 23,
      "outputs": [
        {
          "output_type": "stream",
          "name": "stderr",
          "text": [
            "/usr/local/lib/python3.8/dist-packages/sklearn/preprocessing/_label.py:115: DataConversionWarning: A column-vector y was passed when a 1d array was expected. Please change the shape of y to (n_samples, ), for example using ravel().\n",
            "  y = column_or_1d(y, warn=True)\n",
            "/usr/local/lib/python3.8/dist-packages/sklearn/preprocessing/_label.py:133: DataConversionWarning: A column-vector y was passed when a 1d array was expected. Please change the shape of y to (n_samples, ), for example using ravel().\n",
            "  y = column_or_1d(y, warn=True)\n"
          ]
        }
      ]
    },
    {
      "cell_type": "code",
      "source": [
        "regresion_logistica_escalado = Pipeline([(\"ss\", StandardScaler()), (\"rl\", regresion_logistica)])"
      ],
      "metadata": {
        "id": "tNWsjCx6MoB0"
      },
      "execution_count": 24,
      "outputs": []
    },
    {
      "cell_type": "markdown",
      "source": [
        "Creamos un ensamble de votación."
      ],
      "metadata": {
        "id": "Gk_z1vnHICGL"
      }
    },
    {
      "cell_type": "code",
      "source": [
        "#vot_clf = VotingClassifier(estimators = [('add', arbol_de_decision), ('rf', random_forest), ('rl', regresion_logistica)], voting = 'soft') Score 0.66\n",
        "#vot_clf = VotingClassifier(estimators = [('add', arbol_de_decision), ('rf', random_forest)], voting = 'soft') Score 0.64\n",
        "#vot_clf = VotingClassifier(estimators = [('add', arbol_de_decision), ('rf', random_forest), ('rle', regresion_logistica_escalado)], voting = 'soft') #Score 0.65\n",
        "vot_clf = VotingClassifier(estimators = [('add', arbol_de_decision), ('rf', random_forest), ('rle', regresion_logistica_escalado)], voting = 'hard') #Score 0.685"
      ],
      "metadata": {
        "id": "gIRSIq4EIEAr"
      },
      "execution_count": 25,
      "outputs": []
    },
    {
      "cell_type": "markdown",
      "source": [
        "Entrenamos el modelo."
      ],
      "metadata": {
        "id": "QGMX_0sDIeb9"
      }
    },
    {
      "cell_type": "code",
      "source": [
        "vot_clf.fit(clasificacion_train_feature, clasificacion_train_target)"
      ],
      "metadata": {
        "id": "9PFkD4i3IfkV",
        "colab": {
          "base_uri": "https://localhost:8080/"
        },
        "outputId": "55339ccc-d846-40ed-c46e-f3729e1ec2a2"
      },
      "execution_count": 26,
      "outputs": [
        {
          "output_type": "execute_result",
          "data": {
            "text/plain": [
              "VotingClassifier(estimators=[('add',\n",
              "                              DecisionTreeClassifier(criterion='entropy',\n",
              "                                                     max_depth=900,\n",
              "                                                     min_samples_leaf=8,\n",
              "                                                     random_state=0)),\n",
              "                             ('rf',\n",
              "                              RandomizedSearchCV(cv=StratifiedKFold(n_splits=5, random_state=None, shuffle=False),\n",
              "                                                 estimator=RandomForestClassifier(),\n",
              "                                                 n_iter=5,\n",
              "                                                 param_distributions={'criterion': ['gini',\n",
              "                                                                                    'entropy'],\n",
              "                                                                      'min_samples_leaf': [1,\n",
              "                                                                                           2,\n",
              "                                                                                           3,\n",
              "                                                                                           4,\n",
              "                                                                                           5,\n",
              "                                                                                           6,\n",
              "                                                                                           7,\n",
              "                                                                                           8,\n",
              "                                                                                           9],\n",
              "                                                                      'min_samples_split': [2,\n",
              "                                                                                            3,\n",
              "                                                                                            4,\n",
              "                                                                                            5,\n",
              "                                                                                            6,\n",
              "                                                                                            7,\n",
              "                                                                                            8,\n",
              "                                                                                            9],\n",
              "                                                                      'n_estimators': [50,\n",
              "                                                                                       51,\n",
              "                                                                                       52,\n",
              "                                                                                       53,\n",
              "                                                                                       54,\n",
              "                                                                                       55,\n",
              "                                                                                       56,\n",
              "                                                                                       57,\n",
              "                                                                                       58,\n",
              "                                                                                       59,\n",
              "                                                                                       60,\n",
              "                                                                                       61,\n",
              "                                                                                       62,\n",
              "                                                                                       63,\n",
              "                                                                                       64,\n",
              "                                                                                       65,\n",
              "                                                                                       66,\n",
              "                                                                                       67,\n",
              "                                                                                       68,\n",
              "                                                                                       69,\n",
              "                                                                                       70,\n",
              "                                                                                       71,\n",
              "                                                                                       72,\n",
              "                                                                                       73,\n",
              "                                                                                       74,\n",
              "                                                                                       75,\n",
              "                                                                                       76,\n",
              "                                                                                       77,\n",
              "                                                                                       78,\n",
              "                                                                                       79, ...],\n",
              "                                                                      'random_state': [0]},\n",
              "                                                 random_state=0,\n",
              "                                                 scoring=make_scorer(accuracy_score))),\n",
              "                             ('rle',\n",
              "                              Pipeline(steps=[('ss', StandardScaler()),\n",
              "                                              ('rl',\n",
              "                                               LogisticRegressionCV(cv=5,\n",
              "                                                                    max_iter=300,\n",
              "                                                                    multi_class='multinomial'))]))])"
            ]
          },
          "metadata": {},
          "execution_count": 26
        }
      ]
    },
    {
      "cell_type": "markdown",
      "source": [
        "Evaluamos el modelo con los datos de train para ver qué tan bien se entrenó."
      ],
      "metadata": {
        "id": "TbAoIbI3s-hF"
      }
    },
    {
      "cell_type": "code",
      "source": [
        "labels=[\"bajo\",\"medio\",\"alto\"]"
      ],
      "metadata": {
        "id": "zOFPb4GjU-RJ"
      },
      "execution_count": 27,
      "outputs": []
    },
    {
      "cell_type": "code",
      "source": [
        "clasificacion_pred_target = vot_clf.predict(clasificacion_train_feature)\n",
        "graficar_matriz_de_confusion(clasificacion_train_target, clasificacion_pred_target, labels)\n",
        "imprimir_metricas_de_clasificacion(clasificacion_train_target, clasificacion_pred_target)"
      ],
      "metadata": {
        "id": "kk4v4v41s-LT",
        "colab": {
          "base_uri": "https://localhost:8080/",
          "height": 725
        },
        "outputId": "6f097aef-2e88-45f9-ea30-86aacd5ae255"
      },
      "execution_count": 28,
      "outputs": [
        {
          "output_type": "display_data",
          "data": {
            "text/plain": [
              "<Figure size 864x720 with 2 Axes>"
            ],
            "image/png": "[encoded data removed]"
          },
          "metadata": {
            "needs_background": "light"
          }
        },
        {
          "output_type": "stream",
          "name": "stdout",
          "text": [
            "\n",
            "Métricas de clasificación\n",
            "\n",
            "Accuracy: 0.776841709777174\n",
            "Recall: 0.776841709777174\n",
            "F1 score: 0.7751395914844152\n"
          ]
        }
      ]
    },
    {
      "cell_type": "markdown",
      "source": [
        "Evaluamos en el conjunto de test y vemos que tiene buenos resultados."
      ],
      "metadata": {
        "id": "3-b170RsJyfT"
      }
    },
    {
      "cell_type": "code",
      "source": [
        "clasificacion_pred_target = vot_clf.predict(clasificacion_test_feature)\n",
        "graficar_matriz_de_confusion(clasificacion_test_target, clasificacion_pred_target, labels)\n",
        "imprimir_metricas_de_clasificacion(clasificacion_test_target, clasificacion_pred_target)"
      ],
      "metadata": {
        "id": "b8Afg4EDKafL",
        "colab": {
          "base_uri": "https://localhost:8080/",
          "height": 725
        },
        "outputId": "d6142bf6-079c-40de-9d12-f3cdac28d6fb"
      },
      "execution_count": 30,
      "outputs": [
        {
          "output_type": "display_data",
          "data": {
            "text/plain": [
              "<Figure size 864x720 with 2 Axes>"
            ],
            "image/png": "[encoded data removed]"
          },
          "metadata": {
            "needs_background": "light"
          }
        },
        {
          "output_type": "stream",
          "name": "stdout",
          "text": [
            "\n",
            "Métricas de clasificación\n",
            "\n",
            "Accuracy: 0.6853053656275351\n",
            "Recall: 0.6853053656275351\n",
            "F1 score: 0.6822408562158239\n"
          ]
        }
      ]
    },
    {
      "cell_type": "markdown",
      "source": [
        "# Stacking"
      ],
      "metadata": {
        "id": "WRoirkPrLCxC"
      }
    },
    {
      "cell_type": "markdown",
      "source": [
        "Creamos el ensamble a partir de los modelos de regresión generados en el TP1."
      ],
      "metadata": {
        "id": "liGwcpBHpGPW"
      }
    },
    {
      "cell_type": "code",
      "source": [
        "# Modelos Base\n",
        "base_models = [('knn', knn),\n",
        "               ('xgb', xgboost),\n",
        "               ('gb', gradient_boost)]\n",
        "\n",
        "# Creamos el ensamble\n",
        "stacking_model = StackingRegressor(estimators=base_models, \n",
        "                                    passthrough=True, \n",
        "                                    cv=5,\n",
        "                                    verbose=2)"
      ],
      "metadata": {
        "id": "Iyp3-5KvLf7b"
      },
      "execution_count": 54,
      "outputs": []
    },
    {
      "cell_type": "markdown",
      "source": [
        "Entrenamos el modelo de stacking."
      ],
      "metadata": {
        "id": "Jnhjtqz3OmI6"
      }
    },
    {
      "cell_type": "code",
      "source": [
        "stacking_model.fit(regresion_train_feature, regresion_train_target)"
      ],
      "metadata": {
        "colab": {
          "base_uri": "https://localhost:8080/"
        },
        "id": "iFXpG4EVOo-b",
        "outputId": "27b614aa-91f6-483b-c800-824b574a9635"
      },
      "execution_count": 55,
      "outputs": [
        {
          "output_type": "stream",
          "name": "stderr",
          "text": [
            "/usr/local/lib/python3.8/dist-packages/sklearn/ensemble/_stacking.py:758: DataConversionWarning: A column-vector y was passed when a 1d array was expected. Please change the shape of y to (n_samples, ), for example using ravel().\n",
            "  y = column_or_1d(y, warn=True)\n"
          ]
        },
        {
          "output_type": "stream",
          "name": "stdout",
          "text": [
            "[17:26:49] WARNING: /workspace/src/objective/regression_obj.cu:152: reg:linear is now deprecated in favor of reg:squarederror.\n"
          ]
        },
        {
          "output_type": "stream",
          "name": "stderr",
          "text": [
            "[Parallel(n_jobs=1)]: Using backend SequentialBackend with 1 concurrent workers.\n",
            "[Parallel(n_jobs=1)]: Done   1 out of   1 | elapsed:   14.1s remaining:    0.0s\n",
            "[Parallel(n_jobs=1)]: Done   5 out of   5 | elapsed:  1.1min finished\n",
            "[Parallel(n_jobs=1)]: Using backend SequentialBackend with 1 concurrent workers.\n"
          ]
        },
        {
          "output_type": "stream",
          "name": "stdout",
          "text": [
            "[17:30:40] WARNING: /workspace/src/objective/regression_obj.cu:152: reg:linear is now deprecated in favor of reg:squarederror.\n"
          ]
        },
        {
          "output_type": "stream",
          "name": "stderr",
          "text": [
            "[Parallel(n_jobs=1)]: Done   1 out of   1 | elapsed:  1.9min remaining:    0.0s\n"
          ]
        },
        {
          "output_type": "stream",
          "name": "stdout",
          "text": [
            "[17:32:34] WARNING: /workspace/src/objective/regression_obj.cu:152: reg:linear is now deprecated in favor of reg:squarederror.\n",
            "[17:34:30] WARNING: /workspace/src/objective/regression_obj.cu:152: reg:linear is now deprecated in favor of reg:squarederror.\n",
            "[17:36:24] WARNING: /workspace/src/objective/regression_obj.cu:152: reg:linear is now deprecated in favor of reg:squarederror.\n",
            "[17:38:18] WARNING: /workspace/src/objective/regression_obj.cu:152: reg:linear is now deprecated in favor of reg:squarederror.\n"
          ]
        },
        {
          "output_type": "stream",
          "name": "stderr",
          "text": [
            "[Parallel(n_jobs=1)]: Done   5 out of   5 | elapsed:  9.5min finished\n",
            "[Parallel(n_jobs=1)]: Using backend SequentialBackend with 1 concurrent workers.\n",
            "[Parallel(n_jobs=1)]: Done   1 out of   1 | elapsed:   11.8s remaining:    0.0s\n",
            "[Parallel(n_jobs=1)]: Done   5 out of   5 | elapsed:  1.0min finished\n"
          ]
        },
        {
          "output_type": "execute_result",
          "data": {
            "text/plain": [
              "StackingRegressor(cv=5,\n",
              "                  estimators=[('knn',\n",
              "                               KNeighborsRegressor(n_neighbors=19,\n",
              "                                                   weights='distance')),\n",
              "                              ('xgb',\n",
              "                               XGBRegressor(learning_rate=0.07, max_depth=12,\n",
              "                                            min_child_weight=6, missing=nan,\n",
              "                                            n_estimators=500)),\n",
              "                              ('gb',\n",
              "                               GradientBoostingRegressor(learning_rate=0.625,\n",
              "                                                         max_depth=6,\n",
              "                                                         n_estimators=65,\n",
              "                                                         random_state=0))],\n",
              "                  passthrough=True, verbose=2)"
            ]
          },
          "metadata": {},
          "execution_count": 55
        }
      ]
    },
    {
      "cell_type": "markdown",
      "source": [
        "Medimos la performance con los datos de train."
      ],
      "metadata": {
        "id": "qrqFXPZ8O_ND"
      }
    },
    {
      "cell_type": "code",
      "source": [
        "regresion_pred_target = stacking_model.predict(regresion_train_feature)\n",
        "imprimir_metricas_de_regresion(regresion_train_target, regresion_pred_target)"
      ],
      "metadata": {
        "colab": {
          "base_uri": "https://localhost:8080/"
        },
        "id": "FR_yfN8TVjvD",
        "outputId": "638061f5-ac85-43f1-b2ff-e43a41cf7e73"
      },
      "execution_count": 56,
      "outputs": [
        {
          "output_type": "stream",
          "name": "stdout",
          "text": [
            "\n",
            "Métricas de regresión\n",
            "\n",
            "El error (mse) de test es: 354372369.6045771\n",
            "El error (rmse) de test es: 18824.780731912313\n",
            "El score R2 es: 0.9669615972519024\n"
          ]
        }
      ]
    },
    {
      "cell_type": "markdown",
      "source": [
        "Calculamos con los datos de test."
      ],
      "metadata": {
        "id": "6SPQlVtSVgel"
      }
    },
    {
      "cell_type": "code",
      "source": [
        "regresion_pred_target = stacking_model.predict(regresion_test_feature)\n",
        "imprimir_metricas_de_regresion(regresion_test_target, regresion_pred_target)"
      ],
      "metadata": {
        "colab": {
          "base_uri": "https://localhost:8080/"
        },
        "id": "3sra42aWVaal",
        "outputId": "2fee6f6a-20de-4911-9ec6-d4bddf0d5fd7"
      },
      "execution_count": 57,
      "outputs": [
        {
          "output_type": "stream",
          "name": "stdout",
          "text": [
            "\n",
            "Métricas de regresión\n",
            "\n",
            "El error (mse) de test es: 1216914744.9436228\n",
            "El error (rmse) de test es: 34884.305137749594\n",
            "El score R2 es: 0.8854469959281017\n"
          ]
        }
      ]
    },
    {
      "cell_type": "markdown",
      "source": [
        "## Conclusiones"
      ],
      "metadata": {
        "id": "LDcajgv7tJpx"
      }
    },
    {
      "cell_type": "markdown",
      "source": [
        "Los resultados del voting no mejoraron a los resultados de los modelos por separado. Esto puede deberse a que RandomForest ya es un ensamble de voting, por lo que hacer un ensamble nuevo con un RandomForest y un DecisionTree no aporta mucho. Quizás agregar modelos más diversos, como KNN o XGBoost hubiera mejorado las métricas.\n",
        "\n",
        "Por otro lado, el resultado del stacking es muy bueno, similar al obtenido con los modelos por separado. Analizándolo, podemos suponer que el estimador final eligió XGBoost como mejor modelo.\n",
        "\n",
        "En el TP1, los scores R2 sobre los datos de test fueron:\n",
        "\n",
        "  - XGBoost: 0.8875645071859526\n",
        "  - GradientBoost: 0.8467735847628741\n",
        "  - KNN: 0.7906024537502832"
      ],
      "metadata": {
        "id": "puJ6VLj6tLHr"
      }
    }
  ]
}