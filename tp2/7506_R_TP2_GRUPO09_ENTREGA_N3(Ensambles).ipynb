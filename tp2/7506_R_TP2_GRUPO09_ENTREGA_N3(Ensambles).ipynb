{
  "nbformat": 4,
  "nbformat_minor": 0,
  "metadata": {
    "colab": {
      "provenance": [],
      "include_colab_link": true
    },
    "kernelspec": {
      "name": "python3",
      "display_name": "Python 3"
    },
    "language_info": {
      "name": "python"
    }
  },
  "cells": [
    {
      "cell_type": "markdown",
      "metadata": {
        "id": "view-in-github",
        "colab_type": "text"
      },
      "source": [
        "<a href=\"https://colab.research.google.com/github/ManuSanchez02/7506R-2c2022-GRUPO09/blob/main/tp2/7506_R_TP2_GRUPO09_ENTREGA_N3(Ensambles).ipynb\" target=\"_parent\"><img src=\"https://colab.research.google.com/assets/colab-badge.svg\" alt=\"Open In Colab\"/></a>"
      ]
    },
    {
      "cell_type": "markdown",
      "source": [
        "Bibliotecas necesarias"
      ],
      "metadata": {
        "id": "RoLklipOE3tF"
      }
    },
    {
      "cell_type": "code",
      "source": [
        "import numpy as np\n",
        "import pandas as pd\n",
        "import matplotlib.pyplot as plt\n",
        "\n",
        "from sklearn.model_selection import train_test_split\n",
        "from sklearn.metrics import mean_absolute_error, mean_squared_error\n",
        "from sklearn.preprocessing import StandardScaler\n",
        "from sklearn import preprocessing\n",
        "from sklearn.metrics import ConfusionMatrixDisplay\n",
        "from sklearn.model_selection import KFold\n",
        "from joblib import dump, load \n",
        "\n",
        "from sklearn.ensemble import VotingClassifier\n",
        "from sklearn.ensemble import StackingRegressor\n",
        "from sklearn.metrics import accuracy_score\n",
        "from sklearn.pipeline import Pipeline \n",
        "from sklearn.metrics import r2_score\n",
        "from sklearn import metrics\n",
        "\n",
        "np.random.seed(1)"
      ],
      "metadata": {
        "id": "IzXiazTFB891"
      },
      "execution_count": null,
      "outputs": []
    },
    {
      "cell_type": "markdown",
      "source": [
        "## Modelos"
      ],
      "metadata": {
        "id": "YALX-lvmmOam"
      }
    },
    {
      "cell_type": "code",
      "source": [
        "!wget https://github.com/ManuSanchez02/7506R-2c2022-GRUPO09/raw/main/tp2/arbolDeDecision.joblib -O arbol_de_decision.joblib\n",
        "!wget https://github.com/ManuSanchez02/7506R-2c2022-GRUPO09/raw/main/tp2/randomForest.joblib -O random_forest.joblib\n",
        "!wget https://github.com/ManuSanchez02/7506R-2c2022-GRUPO09/raw/main/tp2/regresionLogistica.joblib -O regresion_logistica.joblib\n",
        "!wget https://github.com/ManuSanchez02/7506R-2c2022-GRUPO09/raw/main/tp2/regresionLinealComparador.joblib -O regresion_lineal.joblib\n",
        "!wget https://github.com/ManuSanchez02/7506R-2c2022-GRUPO09/raw/main/tp2/knn.joblib -O knn.joblib\n",
        "!wget https://github.com/ManuSanchez02/7506R-2c2022-GRUPO09/raw/main/tp2/xgb.joblib -O xgb.joblib\n",
        "!wget https://github.com/ManuSanchez02/7506R-2c2022-GRUPO09/raw/main/tp2/gradientBoosting.joblib -O gradient_boosting.joblib"
      ],
      "metadata": {
        "colab": {
          "base_uri": "https://localhost:8080/"
        },
        "id": "NDTxZms7GRlT",
        "outputId": "0a78df17-136b-4819-b98c-1ee274bd3886"
      },
      "execution_count": null,
      "outputs": [
        {
          "output_type": "stream",
          "name": "stdout",
          "text": [
            "--2022-11-18 16:28:21--  https://github.com/ManuSanchez02/7506R-2c2022-GRUPO09/raw/main/tp2/arbolDeDecision.joblib\n",
            "Resolving github.com (github.com)... 20.27.177.113\n",
            "Connecting to github.com (github.com)|20.27.177.113|:443... connected.\n",
            "HTTP request sent, awaiting response... 302 Found\n",
            "Location: https://raw.githubusercontent.com/ManuSanchez02/7506R-2c2022-GRUPO09/main/tp2/arbolDeDecision.joblib [following]\n",
            "--2022-11-18 16:28:22--  https://raw.githubusercontent.com/ManuSanchez02/7506R-2c2022-GRUPO09/main/tp2/arbolDeDecision.joblib\n",
            "Resolving raw.githubusercontent.com (raw.githubusercontent.com)... 185.199.108.133, 185.199.109.133, 185.199.110.133, ...\n",
            "Connecting to raw.githubusercontent.com (raw.githubusercontent.com)|185.199.108.133|:443... connected.\n",
            "HTTP request sent, awaiting response... 200 OK\n",
            "Length: 908544 (887K) [application/octet-stream]\n",
            "Saving to: ‘arbol_de_decision.joblib’\n",
            "\n",
            "arbol_de_decision.j 100%[===================>] 887.25K  --.-KB/s    in 0.06s   \n",
            "\n",
            "2022-11-18 16:28:22 (14.8 MB/s) - ‘arbol_de_decision.joblib’ saved [908544/908544]\n",
            "\n",
            "--2022-11-18 16:28:22--  https://github.com/ManuSanchez02/7506R-2c2022-GRUPO09/raw/main/tp2/randomForest.joblib\n",
            "Resolving github.com (github.com)... 20.27.177.113\n",
            "Connecting to github.com (github.com)|20.27.177.113|:443... connected.\n",
            "HTTP request sent, awaiting response... 302 Found\n",
            "Location: https://raw.githubusercontent.com/ManuSanchez02/7506R-2c2022-GRUPO09/main/tp2/randomForest.joblib [following]\n",
            "--2022-11-18 16:28:23--  https://raw.githubusercontent.com/ManuSanchez02/7506R-2c2022-GRUPO09/main/tp2/randomForest.joblib\n",
            "Resolving raw.githubusercontent.com (raw.githubusercontent.com)... 185.199.111.133, 185.199.108.133, 185.199.110.133, ...\n",
            "Connecting to raw.githubusercontent.com (raw.githubusercontent.com)|185.199.111.133|:443... connected.\n",
            "HTTP request sent, awaiting response... 200 OK\n",
            "Length: 48055681 (46M) [application/octet-stream]\n",
            "Saving to: ‘random_forest.joblib’\n",
            "\n",
            "random_forest.jobli 100%[===================>]  45.83M   103MB/s    in 0.4s    \n",
            "\n",
            "2022-11-18 16:28:27 (103 MB/s) - ‘random_forest.joblib’ saved [48055681/48055681]\n",
            "\n",
            "--2022-11-18 16:28:28--  https://github.com/ManuSanchez02/7506R-2c2022-GRUPO09/raw/main/tp2/regresionLogistica.joblib\n",
            "Resolving github.com (github.com)... 20.27.177.113\n",
            "Connecting to github.com (github.com)|20.27.177.113|:443... connected.\n",
            "HTTP request sent, awaiting response... 302 Found\n",
            "Location: https://raw.githubusercontent.com/ManuSanchez02/7506R-2c2022-GRUPO09/main/tp2/regresionLogistica.joblib [following]\n",
            "--2022-11-18 16:28:28--  https://raw.githubusercontent.com/ManuSanchez02/7506R-2c2022-GRUPO09/main/tp2/regresionLogistica.joblib\n",
            "Resolving raw.githubusercontent.com (raw.githubusercontent.com)... 185.199.111.133, 185.199.108.133, 185.199.110.133, ...\n",
            "Connecting to raw.githubusercontent.com (raw.githubusercontent.com)|185.199.111.133|:443... connected.\n",
            "HTTP request sent, awaiting response... 200 OK\n",
            "Length: 83287 (81K) [application/octet-stream]\n",
            "Saving to: ‘regresion_logistica.joblib’\n",
            "\n",
            "regresion_logistica 100%[===================>]  81.33K  --.-KB/s    in 0.02s   \n",
            "\n",
            "2022-11-18 16:28:29 (5.20 MB/s) - ‘regresion_logistica.joblib’ saved [83287/83287]\n",
            "\n",
            "--2022-11-18 16:28:29--  https://github.com/ManuSanchez02/7506R-2c2022-GRUPO09/raw/main/tp2/regresionLinealComparador.joblib\n",
            "Resolving github.com (github.com)... 20.27.177.113\n",
            "Connecting to github.com (github.com)|20.27.177.113|:443... connected.\n",
            "HTTP request sent, awaiting response... 302 Found\n",
            "Location: https://raw.githubusercontent.com/ManuSanchez02/7506R-2c2022-GRUPO09/main/tp2/regresionLinealComparador.joblib [following]\n",
            "--2022-11-18 16:28:29--  https://raw.githubusercontent.com/ManuSanchez02/7506R-2c2022-GRUPO09/main/tp2/regresionLinealComparador.joblib\n",
            "Resolving raw.githubusercontent.com (raw.githubusercontent.com)... 185.199.108.133, 185.199.109.133, 185.199.110.133, ...\n",
            "Connecting to raw.githubusercontent.com (raw.githubusercontent.com)|185.199.108.133|:443... connected.\n",
            "HTTP request sent, awaiting response... 200 OK\n",
            "Length: 3565 (3.5K) [application/octet-stream]\n",
            "Saving to: ‘regresion_lineal.joblib’\n",
            "\n",
            "regresion_lineal.jo 100%[===================>]   3.48K  --.-KB/s    in 0s      \n",
            "\n",
            "2022-11-18 16:28:30 (35.4 MB/s) - ‘regresion_lineal.joblib’ saved [3565/3565]\n",
            "\n",
            "--2022-11-18 16:28:30--  https://github.com/ManuSanchez02/7506R-2c2022-GRUPO09/raw/main/tp2/knn.joblib\n",
            "Resolving github.com (github.com)... 20.27.177.113\n",
            "Connecting to github.com (github.com)|20.27.177.113|:443... connected.\n",
            "HTTP request sent, awaiting response... 302 Found\n",
            "Location: https://raw.githubusercontent.com/ManuSanchez02/7506R-2c2022-GRUPO09/main/tp2/knn.joblib [following]\n",
            "--2022-11-18 16:28:30--  https://raw.githubusercontent.com/ManuSanchez02/7506R-2c2022-GRUPO09/main/tp2/knn.joblib\n",
            "Resolving raw.githubusercontent.com (raw.githubusercontent.com)... 185.199.108.133, 185.199.109.133, 185.199.110.133, ...\n",
            "Connecting to raw.githubusercontent.com (raw.githubusercontent.com)|185.199.108.133|:443... connected.\n",
            "HTTP request sent, awaiting response... 200 OK\n",
            "Length: 35933725 (34M) [application/octet-stream]\n",
            "Saving to: ‘knn.joblib’\n",
            "\n",
            "knn.joblib          100%[===================>]  34.27M  80.2MB/s    in 0.4s    \n",
            "\n",
            "2022-11-18 16:28:33 (80.2 MB/s) - ‘knn.joblib’ saved [35933725/35933725]\n",
            "\n",
            "--2022-11-18 16:28:33--  https://github.com/ManuSanchez02/7506R-2c2022-GRUPO09/raw/main/tp2/xgb.joblib\n",
            "Resolving github.com (github.com)... 20.27.177.113\n",
            "Connecting to github.com (github.com)|20.27.177.113|:443... connected.\n",
            "HTTP request sent, awaiting response... 302 Found\n",
            "Location: https://raw.githubusercontent.com/ManuSanchez02/7506R-2c2022-GRUPO09/main/tp2/xgb.joblib [following]\n",
            "--2022-11-18 16:28:34--  https://raw.githubusercontent.com/ManuSanchez02/7506R-2c2022-GRUPO09/main/tp2/xgb.joblib\n",
            "Resolving raw.githubusercontent.com (raw.githubusercontent.com)... 185.199.108.133, 185.199.109.133, 185.199.110.133, ...\n",
            "Connecting to raw.githubusercontent.com (raw.githubusercontent.com)|185.199.108.133|:443... connected.\n",
            "HTTP request sent, awaiting response... 200 OK\n",
            "Length: 11268859 (11M) [application/octet-stream]\n",
            "Saving to: ‘xgb.joblib’\n",
            "\n",
            "xgb.joblib          100%[===================>]  10.75M  37.2MB/s    in 0.3s    \n",
            "\n",
            "2022-11-18 16:28:35 (37.2 MB/s) - ‘xgb.joblib’ saved [11268859/11268859]\n",
            "\n",
            "--2022-11-18 16:28:35--  https://github.com/ManuSanchez02/7506R-2c2022-GRUPO09/raw/main/tp2/gradientBoosting.joblib\n",
            "Resolving github.com (github.com)... 20.27.177.113\n",
            "Connecting to github.com (github.com)|20.27.177.113|:443... connected.\n",
            "HTTP request sent, awaiting response... 302 Found\n",
            "Location: https://raw.githubusercontent.com/ManuSanchez02/7506R-2c2022-GRUPO09/main/tp2/gradientBoosting.joblib [following]\n",
            "--2022-11-18 16:28:36--  https://raw.githubusercontent.com/ManuSanchez02/7506R-2c2022-GRUPO09/main/tp2/gradientBoosting.joblib\n",
            "Resolving raw.githubusercontent.com (raw.githubusercontent.com)... 185.199.108.133, 185.199.109.133, 185.199.110.133, ...\n",
            "Connecting to raw.githubusercontent.com (raw.githubusercontent.com)|185.199.108.133|:443... connected.\n",
            "HTTP request sent, awaiting response... 200 OK\n",
            "Length: 627613 (613K) [application/octet-stream]\n",
            "Saving to: ‘gradient_boosting.joblib’\n",
            "\n",
            "gradient_boosting.j 100%[===================>] 612.90K  --.-KB/s    in 0.05s   \n",
            "\n",
            "2022-11-18 16:28:36 (11.4 MB/s) - ‘gradient_boosting.joblib’ saved [627613/627613]\n",
            "\n"
          ]
        }
      ]
    },
    {
      "cell_type": "code",
      "source": [
        "# Modelos clasificación\n",
        "arbol_de_decision = load(\"arbol_de_decision.joblib\")\n",
        "random_forest = load(\"random_forest.joblib\")\n",
        "regresion_logistica = load(\"regresion_logistica.joblib\")\n",
        "\n",
        "# Modelos regresión\n",
        "regresion_lineal = load(\"regresion_lineal.joblib\")\n",
        "knn = load(\"knn.joblib\")\n",
        "xgboost = load(\"xgb.joblib\")\n",
        "gradient_boost = load(\"gradient_boosting.joblib\")"
      ],
      "metadata": {
        "colab": {
          "base_uri": "https://localhost:8080/"
        },
        "id": "GeJJSLB0Ez3r",
        "outputId": "cefd632a-7f06-4d09-84da-00d4b494face"
      },
      "execution_count": null,
      "outputs": [
        {
          "output_type": "stream",
          "name": "stdout",
          "text": [
            "[16:28:37] WARNING: /workspace/src/objective/regression_obj.cu:152: reg:linear is now deprecated in favor of reg:squarederror.\n"
          ]
        }
      ]
    },
    {
      "cell_type": "markdown",
      "source": [
        "## Datasets"
      ],
      "metadata": {
        "id": "9EW-buQWm6x7"
      }
    },
    {
      "cell_type": "code",
      "source": [
        "clasificacion_train_feature = pd.read_csv(\"https://github.com/ManuSanchez02/7506R-2c2022-GRUPO09/blob/main/tp2/datasets/clasificacion_train_feature.csv?raw=true\")\n",
        "clasificacion_train_target = pd.read_csv(\"https://github.com/ManuSanchez02/7506R-2c2022-GRUPO09/blob/main/tp2/datasets/clasificacion_train_target.csv?raw=true\")\n",
        "clasificacion_test_feature = pd.read_csv(\"https://github.com/ManuSanchez02/7506R-2c2022-GRUPO09/blob/main/tp2/datasets/clasificacion_test_feature.csv?raw=true\")\n",
        "clasificacion_test_target = pd.read_csv(\"https://github.com/ManuSanchez02/7506R-2c2022-GRUPO09/blob/main/tp2/datasets/clasificacion_test_target.csv?raw=true\")\n",
        "regresion_train_feature = pd.read_csv(\"https://github.com/ManuSanchez02/7506R-2c2022-GRUPO09/blob/main/tp2/datasets/regresion_train_feature.csv?raw=true\")\n",
        "regresion_train_target = pd.read_csv(\"https://github.com/ManuSanchez02/7506R-2c2022-GRUPO09/blob/main/tp2/datasets/regresion_train_target.csv?raw=true\")\n",
        "regresion_test_feature = pd.read_csv(\"https://github.com/ManuSanchez02/7506R-2c2022-GRUPO09/blob/main/tp2/datasets/regresion_test_feature.csv?raw=true\")\n",
        "regresion_test_target = pd.read_csv(\"https://github.com/ManuSanchez02/7506R-2c2022-GRUPO09/blob/main/tp2/datasets/regresion_test_target.csv?raw=true\")\n",
        "\n",
        "clasificacion_train_feature.drop([\"Unnamed: 0\", \"id\"], axis = 1, inplace=True)\n",
        "clasificacion_train_target.drop([\"Unnamed: 0\"], axis = 1, inplace=True)\n",
        "clasificacion_test_feature.drop([\"Unnamed: 0\", \"id\"], axis = 1, inplace=True)\n",
        "clasificacion_test_target.drop([\"Unnamed: 0\"], axis = 1, inplace=True)\n",
        "regresion_train_feature.drop([\"Unnamed: 0\", \"id\"], axis = 1, inplace=True)\n",
        "regresion_train_target.drop([\"Unnamed: 0\"], axis = 1, inplace=True)\n",
        "regresion_test_feature.drop([\"Unnamed: 0\", \"id\"], axis = 1, inplace=True)\n",
        "regresion_test_target.drop([\"Unnamed: 0\"], axis = 1, inplace=True)\n"
      ],
      "metadata": {
        "id": "N9z2-rbOZHSk"
      },
      "execution_count": null,
      "outputs": []
    },
    {
      "cell_type": "markdown",
      "source": [
        "# Voting"
      ],
      "metadata": {
        "id": "e747OPbYnOmH"
      }
    },
    {
      "cell_type": "markdown",
      "source": [
        "Convertimos las categorías del target de clasificacion en categorías numéricas"
      ],
      "metadata": {
        "id": "79soVMJYJNKF"
      }
    },
    {
      "cell_type": "code",
      "source": [
        "label_encoder = preprocessing.LabelEncoder()\n",
        "clasificacion_train_target = label_encoder.fit_transform(clasificacion_train_target)\n",
        "clasificacion_test_target = label_encoder.transform(clasificacion_test_target)"
      ],
      "metadata": {
        "id": "yWGOhFRMJF19"
      },
      "execution_count": null,
      "outputs": []
    },
    {
      "cell_type": "markdown",
      "source": [
        "Creamos ensamble de votación"
      ],
      "metadata": {
        "id": "Gk_z1vnHICGL"
      }
    },
    {
      "cell_type": "code",
      "source": [
        "regresion_logistica_escalado = Pipeline([(\"ss\", StandardScaler()), (\"rl\", regresion_logistica)])"
      ],
      "metadata": {
        "id": "tNWsjCx6MoB0"
      },
      "execution_count": null,
      "outputs": []
    },
    {
      "cell_type": "code",
      "source": [
        "#vot_clf = VotingClassifier(estimators = [('add', arbol_de_decision), ('rf', random_forest), ('rl', regresion_logistica)], voting = 'soft') Score 0.66\n",
        "#vot_clf = VotingClassifier(estimators = [('add', arbol_de_decision), ('rf', random_forest)], voting = 'soft') Score 0.64\n",
        "#vot_clf = VotingClassifier(estimators = [('add', arbol_de_decision), ('rf', random_forest), ('rle', regresion_logistica_escalado)], voting = 'soft') #Score 0.65\n",
        "vot_clf = VotingClassifier(estimators = [('add', arbol_de_decision), ('rf', random_forest), ('rle', regresion_logistica_escalado)], voting = 'hard') #Score 0.685"
      ],
      "metadata": {
        "id": "gIRSIq4EIEAr"
      },
      "execution_count": null,
      "outputs": []
    },
    {
      "cell_type": "markdown",
      "source": [
        "Entrenamos el modelo"
      ],
      "metadata": {
        "id": "QGMX_0sDIeb9"
      }
    },
    {
      "cell_type": "code",
      "source": [
        "vot_clf.fit(clasificacion_train_feature, clasificacion_train_target)"
      ],
      "metadata": {
        "id": "9PFkD4i3IfkV"
      },
      "execution_count": null,
      "outputs": []
    },
    {
      "cell_type": "markdown",
      "source": [
        "Evaluamos en el conjunto de test"
      ],
      "metadata": {
        "id": "3-b170RsJyfT"
      }
    },
    {
      "cell_type": "code",
      "source": [
        "clasificacion_pred_target = vot_clf.predict(clasificacion_test_feature)\n",
        "print(\"El score es: \", accuracy_score(clasificacion_test_target, clasificacion_pred_target))"
      ],
      "metadata": {
        "id": "b8Afg4EDKafL",
        "colab": {
          "base_uri": "https://localhost:8080/"
        },
        "outputId": "e1f1732f-d13b-4e3a-91a3-bc66144fe206"
      },
      "execution_count": null,
      "outputs": [
        {
          "output_type": "stream",
          "name": "stdout",
          "text": [
            "El score es:  0.6853053656275351\n"
          ]
        }
      ]
    },
    {
      "cell_type": "code",
      "source": [
        "labels=[\"bajo\",\"medio\",\"alto\"]\n",
        "\n",
        "fig, ax = plt.subplots(1,1,figsize=(10,10))\n",
        "ConfusionMatrixDisplay.from_predictions(clasificacion_test_target, clasificacion_pred_target, display_labels=labels,ax=ax)"
      ],
      "metadata": {
        "colab": {
          "base_uri": "https://localhost:8080/",
          "height": 591
        },
        "id": "nBTuIOmFJ2db",
        "outputId": "ed3cf662-96a8-41c2-feef-b9ff3a4f779a"
      },
      "execution_count": null,
      "outputs": [
        {
          "output_type": "execute_result",
          "data": {
            "text/plain": [
              "<sklearn.metrics._plot.confusion_matrix.ConfusionMatrixDisplay at 0x7fe141d9fad0>"
            ]
          },
          "metadata": {},
          "execution_count": 22
        },
        {
          "output_type": "display_data",
          "data": {
            "text/plain": [
              "<Figure size 720x720 with 2 Axes>"
            ],
            "image/png": "[encoded data removed]"
          },
          "metadata": {
            "needs_background": "light"
          }
        }
      ]
    },
    {
      "cell_type": "markdown",
      "source": [
        "# Stacking"
      ],
      "metadata": {
        "id": "WRoirkPrLCxC"
      }
    },
    {
      "cell_type": "markdown",
      "source": [
        "Creamos el modelo"
      ],
      "metadata": {
        "id": "liGwcpBHpGPW"
      }
    },
    {
      "cell_type": "code",
      "source": [
        "# Modelos Base\n",
        "base_models = [('knn', knn),\n",
        "               ('xgb', xgboost),\n",
        "               ('gb', gradient_boost)]\n",
        "\n",
        "# Creamos el ensamble\n",
        "stacking_model = StackingRegressor(estimators=base_models, \n",
        "                                    final_estimator=regresion_lineal, \n",
        "                                    passthrough=True, \n",
        "                                    cv=5,\n",
        "                                    verbose=2)"
      ],
      "metadata": {
        "id": "Iyp3-5KvLf7b"
      },
      "execution_count": null,
      "outputs": []
    },
    {
      "cell_type": "markdown",
      "source": [
        "Entrenamos el modelo de stacking"
      ],
      "metadata": {
        "id": "Jnhjtqz3OmI6"
      }
    },
    {
      "cell_type": "code",
      "source": [
        "stacking_model.fit(regresion_train_feature, regresion_train_target)"
      ],
      "metadata": {
        "colab": {
          "base_uri": "https://localhost:8080/"
        },
        "id": "iFXpG4EVOo-b",
        "outputId": "580bd8e3-2c97-47a7-dcd6-3f53b0332fa4"
      },
      "execution_count": null,
      "outputs": [
        {
          "metadata": {
            "tags": null
          },
          "name": "stderr",
          "output_type": "stream",
          "text": [
            "/usr/local/lib/python3.7/dist-packages/sklearn/ensemble/_stacking.py:758: DataConversionWarning: A column-vector y was passed when a 1d array was expected. Please change the shape of y to (n_samples, ), for example using ravel().\n",
            "  y = column_or_1d(y, warn=True)\n"
          ]
        },
        {
          "metadata": {
            "tags": null
          },
          "name": "stdout",
          "output_type": "stream",
          "text": [
            "[16:49:27] WARNING: /workspace/src/objective/regression_obj.cu:152: reg:linear is now deprecated in favor of reg:squarederror.\n"
          ]
        }
      ]
    },
    {
      "cell_type": "markdown",
      "source": [
        "Medimos la performance"
      ],
      "metadata": {
        "id": "qrqFXPZ8O_ND"
      }
    },
    {
      "cell_type": "code",
      "source": [
        "def imprimir_metricas_regresion(target_test, precios_predichos):\n",
        "    # Mean Square Error\n",
        "    mse = metrics.mean_squared_error(\n",
        "        y_true=target_test, y_pred=precios_predichos, squared=True\n",
        "    )\n",
        "\n",
        "    print(f\"El error (mse) de test es: {mse}\")\n",
        "\n",
        "    # Root Mean Square Error\n",
        "    rmse = metrics.mean_squared_error(\n",
        "        y_true=target_test, y_pred=precios_predichos, squared=False\n",
        "    )\n",
        "\n",
        "    print(f\"El error (rmse) de test es: {rmse}\")\n",
        "\n",
        "    r2 = r2_score(target_test, precios_predichos)\n",
        "    print(f\"El score R2 es: {r2}\")\n",
        "  \n",
        "regresion_pred_target = stacking_model.predict(regresion_test_feature)\n",
        "\n",
        "imprimir_metricas_regresion(regresion_test_target, regresion_pred_target)\n"
      ],
      "metadata": {
        "colab": {
          "base_uri": "https://localhost:8080/"
        },
        "id": "wjV8NxQ6PAeN",
        "outputId": "95e6a419-4e58-4def-fba3-dbba43ea14f4"
      },
      "execution_count": null,
      "outputs": [
        {
          "output_type": "stream",
          "name": "stdout",
          "text": [
            "El error (mse) de test es: 2179735848.27748\n",
            "El error (rmse) de test es: 46687.641279866344\n",
            "El score R2 es: 0.7948085081456135\n"
          ]
        }
      ]
    }
  ]
}