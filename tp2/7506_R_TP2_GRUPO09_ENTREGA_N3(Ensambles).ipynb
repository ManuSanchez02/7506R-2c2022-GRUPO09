{
  "nbformat": 4,
  "nbformat_minor": 0,
  "metadata": {
    "colab": {
      "provenance": [],
      "authorship_tag": "ABX9TyNl3KlZpcaVvn9Cfe3U6IDH",
      "include_colab_link": true
    },
    "kernelspec": {
      "name": "python3",
      "display_name": "Python 3"
    },
    "language_info": {
      "name": "python"
    }
  },
  "cells": [
    {
      "cell_type": "markdown",
      "metadata": {
        "id": "view-in-github",
        "colab_type": "text"
      },
      "source": [
        "<a href=\"https://colab.research.google.com/github/ManuSanchez02/7506R-2c2022-GRUPO09/blob/main/tp2/7506_R_TP2_GRUPO09_ENTREGA_N3(Ensambles).ipynb\" target=\"_parent\"><img src=\"https://colab.research.google.com/assets/colab-badge.svg\" alt=\"Open In Colab\"/></a>"
      ]
    },
    {
      "cell_type": "markdown",
      "source": [
        "Bibliotecas necesarias"
      ],
      "metadata": {
        "id": "RoLklipOE3tF"
      }
    },
    {
      "cell_type": "code",
      "source": [
        "import numpy as np\n",
        "import pandas as pd\n",
        "import matplotlib.pyplot as plt\n",
        "\n",
        "from sklearn.model_selection import train_test_split\n",
        "from sklearn.metrics import mean_absolute_error, mean_squared_error\n",
        "from sklearn.preprocessing import StandardScaler\n",
        "from sklearn import preprocessing\n",
        "from sklearn.metrics import ConfusionMatrixDisplay\n",
        "from sklearn.model_selection import KFold\n",
        "from joblib import dump, load \n",
        "\n",
        "from sklearn.ensemble import VotingClassifier\n",
        "from sklearn.ensemble import StackingRegressor\n",
        "from sklearn.metrics import accuracy_score\n",
        "from sklearn.pipeline import Pipeline \n",
        "from sklearn.metrics import r2_score\n",
        "from sklearn import metrics\n",
        "\n",
        "np.random.seed(1)"
      ],
      "metadata": {
        "id": "IzXiazTFB891"
      },
      "execution_count": 50,
      "outputs": []
    },
    {
      "cell_type": "code",
      "source": [
        "dataset_train_clasificacion = pd.read_csv(\"https://github.com/ManuSanchez02/7506R-2c2022-GRUPO09/blob/main/tp2/DatasetTrainClasificacion.csv?raw=true\")\n",
        "dataset_test_clasificacion = pd.read_csv(\"https://github.com/ManuSanchez02/7506R-2c2022-GRUPO09/blob/main/tp2/DatasetTestClasificacion.csv?raw=true\")\n",
        "\n",
        "dataset_train_regresion = pd.read_csv(\"https://github.com/ManuSanchez02/7506R-2c2022-GRUPO09/blob/main/tp2/DatasetTrainRegresion.csv?raw=true\")\n",
        "dataset_test_regresion = pd.read_csv(\"https://github.com/ManuSanchez02/7506R-2c2022-GRUPO09/blob/main/tp2/DatasetTestRegresion.csv?raw=true\")"
      ],
      "metadata": {
        "id": "Y9A_ggfaDsQ0"
      },
      "execution_count": 4,
      "outputs": []
    },
    {
      "cell_type": "code",
      "source": [
        "y_train_clasificacion_categorico = pd.read_csv(\"https://github.com/ManuSanchez02/7506R-2c2022-GRUPO09/blob/main/tp2/clasificacion_target_train.csv?raw=true\")\n",
        "y_test_clasificacion_categorico = pd.read_csv(\"https://github.com/ManuSanchez02/7506R-2c2022-GRUPO09/blob/main/tp2/clasificacion_target_test.csv?raw=true\")\n",
        "\n",
        "y_train_regresion = pd.read_csv(\"https://github.com/ManuSanchez02/7506R-2c2022-GRUPO09/blob/main/tp2/regresion_target_train.csv?raw=true\")\n",
        "y_test_regresion = pd.read_csv(\"https://github.com/ManuSanchez02/7506R-2c2022-GRUPO09/blob/main/tp2/regresion_target_test.csv?raw=true\")\n",
        "\n",
        "y_train_clasificacion_categorico.drop(\"Unnamed: 0\", axis = 1, inplace=True)\n",
        "y_test_clasificacion_categorico.drop(\"Unnamed: 0\", axis = 1, inplace=True)\n",
        "y_train_regresion.drop(\"Unnamed: 0\", axis = 1, inplace=True)\n",
        "y_test_regresion.drop(\"Unnamed: 0\", axis = 1, inplace=True)"
      ],
      "metadata": {
        "id": "4FTc3ismDs0r"
      },
      "execution_count": 5,
      "outputs": []
    },
    {
      "cell_type": "markdown",
      "source": [
        "Convertimos las categorías del target de clasificacion en categorías numéricas"
      ],
      "metadata": {
        "id": "79soVMJYJNKF"
      }
    },
    {
      "cell_type": "code",
      "source": [
        "le = preprocessing.LabelEncoder()\n",
        "y_train_clasificacion = le.fit_transform(y_train_clasificacion_categorico)\n",
        "y_test_clasificacion = le.transform(y_test_clasificacion_categorico)"
      ],
      "metadata": {
        "colab": {
          "base_uri": "https://localhost:8080/"
        },
        "id": "yWGOhFRMJF19",
        "outputId": "0c9e616f-35f3-458f-8050-5c330afc7807"
      },
      "execution_count": 23,
      "outputs": [
        {
          "output_type": "stream",
          "name": "stderr",
          "text": [
            "/usr/local/lib/python3.7/dist-packages/sklearn/preprocessing/_label.py:115: DataConversionWarning: A column-vector y was passed when a 1d array was expected. Please change the shape of y to (n_samples, ), for example using ravel().\n",
            "  y = column_or_1d(y, warn=True)\n",
            "/usr/local/lib/python3.7/dist-packages/sklearn/preprocessing/_label.py:133: DataConversionWarning: A column-vector y was passed when a 1d array was expected. Please change the shape of y to (n_samples, ), for example using ravel().\n",
            "  y = column_or_1d(y, warn=True)\n"
          ]
        }
      ]
    },
    {
      "cell_type": "markdown",
      "source": [
        "Importamos los modelos utilizados en el T1"
      ],
      "metadata": {
        "id": "fx2YvDjHE0nn"
      }
    },
    {
      "cell_type": "code",
      "source": [
        "!wget https://github.com/ManuSanchez02/7506R-2c2022-GRUPO09/raw/main/tp2/arbolDeDecision.joblib -O arbol_de_decision.joblib\n",
        "!wget https://github.com/ManuSanchez02/7506R-2c2022-GRUPO09/raw/main/tp2/randomForest.joblib -O random_forest.joblib\n",
        "!wget https://github.com/ManuSanchez02/7506R-2c2022-GRUPO09/raw/main/tp2/regresionLogistica.joblib -O regresion_logistica.joblib\n",
        "!wget https://github.com/ManuSanchez02/7506R-2c2022-GRUPO09/raw/main/tp2/regresionLinealComparador.joblib -O regresion_lineal.joblib\n",
        "!wget https://github.com/ManuSanchez02/7506R-2c2022-GRUPO09/raw/main/tp2/knn.joblib -O knn.joblib\n",
        "!wget https://github.com/ManuSanchez02/7506R-2c2022-GRUPO09/raw/main/tp2/xgb.joblib -O xgb.joblib\n",
        "!wget https://github.com/ManuSanchez02/7506R-2c2022-GRUPO09/raw/main/tp2/gradientBoosting.joblib -O gradient_boosting.joblib"
      ],
      "metadata": {
        "colab": {
          "base_uri": "https://localhost:8080/"
        },
        "id": "NDTxZms7GRlT",
        "outputId": "eebf218b-332a-4ae6-99f0-37d6782577a6"
      },
      "execution_count": 16,
      "outputs": [
        {
          "output_type": "stream",
          "name": "stdout",
          "text": [
            "--2022-11-16 20:23:25--  https://github.com/ManuSanchez02/7506R-2c2022-GRUPO09/raw/main/tp2/arbolDeDecision.joblib\n",
            "Resolving github.com (github.com)... 20.27.177.113\n",
            "Connecting to github.com (github.com)|20.27.177.113|:443... connected.\n",
            "HTTP request sent, awaiting response... 302 Found\n",
            "Location: https://raw.githubusercontent.com/ManuSanchez02/7506R-2c2022-GRUPO09/main/tp2/arbolDeDecision.joblib [following]\n",
            "--2022-11-16 20:23:25--  https://raw.githubusercontent.com/ManuSanchez02/7506R-2c2022-GRUPO09/main/tp2/arbolDeDecision.joblib\n",
            "Resolving raw.githubusercontent.com (raw.githubusercontent.com)... 185.199.109.133, 185.199.111.133, 185.199.110.133, ...\n",
            "Connecting to raw.githubusercontent.com (raw.githubusercontent.com)|185.199.109.133|:443... connected.\n",
            "HTTP request sent, awaiting response... 200 OK\n",
            "Length: 908544 (887K) [application/octet-stream]\n",
            "Saving to: ‘arbol_de_decision.joblib’\n",
            "\n",
            "arbol_de_decision.j 100%[===================>] 887.25K  --.-KB/s    in 0.05s   \n",
            "\n",
            "2022-11-16 20:23:25 (15.9 MB/s) - ‘arbol_de_decision.joblib’ saved [908544/908544]\n",
            "\n",
            "--2022-11-16 20:23:25--  https://github.com/ManuSanchez02/7506R-2c2022-GRUPO09/raw/main/tp2/randomForest.joblib\n",
            "Resolving github.com (github.com)... 20.27.177.113\n",
            "Connecting to github.com (github.com)|20.27.177.113|:443... connected.\n",
            "HTTP request sent, awaiting response... 302 Found\n",
            "Location: https://raw.githubusercontent.com/ManuSanchez02/7506R-2c2022-GRUPO09/main/tp2/randomForest.joblib [following]\n",
            "--2022-11-16 20:23:26--  https://raw.githubusercontent.com/ManuSanchez02/7506R-2c2022-GRUPO09/main/tp2/randomForest.joblib\n",
            "Resolving raw.githubusercontent.com (raw.githubusercontent.com)... 185.199.109.133, 185.199.108.133, 185.199.111.133, ...\n",
            "Connecting to raw.githubusercontent.com (raw.githubusercontent.com)|185.199.109.133|:443... connected.\n",
            "HTTP request sent, awaiting response... 200 OK\n",
            "Length: 48055681 (46M) [application/octet-stream]\n",
            "Saving to: ‘random_forest.joblib’\n",
            "\n",
            "random_forest.jobli 100%[===================>]  45.83M   161MB/s    in 0.3s    \n",
            "\n",
            "2022-11-16 20:23:30 (161 MB/s) - ‘random_forest.joblib’ saved [48055681/48055681]\n",
            "\n",
            "--2022-11-16 20:23:30--  https://github.com/ManuSanchez02/7506R-2c2022-GRUPO09/raw/main/tp2/regresionLogistica.joblib\n",
            "Resolving github.com (github.com)... 20.27.177.113\n",
            "Connecting to github.com (github.com)|20.27.177.113|:443... connected.\n",
            "HTTP request sent, awaiting response... 302 Found\n",
            "Location: https://raw.githubusercontent.com/ManuSanchez02/7506R-2c2022-GRUPO09/main/tp2/regresionLogistica.joblib [following]\n",
            "--2022-11-16 20:23:30--  https://raw.githubusercontent.com/ManuSanchez02/7506R-2c2022-GRUPO09/main/tp2/regresionLogistica.joblib\n",
            "Resolving raw.githubusercontent.com (raw.githubusercontent.com)... 185.199.108.133, 185.199.109.133, 185.199.110.133, ...\n",
            "Connecting to raw.githubusercontent.com (raw.githubusercontent.com)|185.199.108.133|:443... connected.\n",
            "HTTP request sent, awaiting response... 200 OK\n",
            "Length: 83287 (81K) [application/octet-stream]\n",
            "Saving to: ‘regresion_logistica.joblib’\n",
            "\n",
            "regresion_logistica 100%[===================>]  81.33K  --.-KB/s    in 0.02s   \n",
            "\n",
            "2022-11-16 20:23:31 (5.22 MB/s) - ‘regresion_logistica.joblib’ saved [83287/83287]\n",
            "\n",
            "--2022-11-16 20:23:31--  https://github.com/ManuSanchez02/7506R-2c2022-GRUPO09/raw/main/tp2/regresionLinealComparador.joblib\n",
            "Resolving github.com (github.com)... 20.27.177.113\n",
            "Connecting to github.com (github.com)|20.27.177.113|:443... connected.\n",
            "HTTP request sent, awaiting response... 302 Found\n",
            "Location: https://raw.githubusercontent.com/ManuSanchez02/7506R-2c2022-GRUPO09/main/tp2/regresionLinealComparador.joblib [following]\n",
            "--2022-11-16 20:23:31--  https://raw.githubusercontent.com/ManuSanchez02/7506R-2c2022-GRUPO09/main/tp2/regresionLinealComparador.joblib\n",
            "Resolving raw.githubusercontent.com (raw.githubusercontent.com)... 185.199.109.133, 185.199.111.133, 185.199.108.133, ...\n",
            "Connecting to raw.githubusercontent.com (raw.githubusercontent.com)|185.199.109.133|:443... connected.\n",
            "HTTP request sent, awaiting response... 200 OK\n",
            "Length: 3565 (3.5K) [application/octet-stream]\n",
            "Saving to: ‘regresion_lineal.joblib’\n",
            "\n",
            "regresion_lineal.jo 100%[===================>]   3.48K  --.-KB/s    in 0s      \n",
            "\n",
            "2022-11-16 20:23:32 (20.7 MB/s) - ‘regresion_lineal.joblib’ saved [3565/3565]\n",
            "\n",
            "--2022-11-16 20:23:32--  https://github.com/ManuSanchez02/7506R-2c2022-GRUPO09/raw/main/tp2/knn.joblib\n",
            "Resolving github.com (github.com)... 20.27.177.113\n",
            "Connecting to github.com (github.com)|20.27.177.113|:443... connected.\n",
            "HTTP request sent, awaiting response... 302 Found\n",
            "Location: https://raw.githubusercontent.com/ManuSanchez02/7506R-2c2022-GRUPO09/main/tp2/knn.joblib [following]\n",
            "--2022-11-16 20:23:32--  https://raw.githubusercontent.com/ManuSanchez02/7506R-2c2022-GRUPO09/main/tp2/knn.joblib\n",
            "Resolving raw.githubusercontent.com (raw.githubusercontent.com)... 185.199.109.133, 185.199.110.133, 185.199.108.133, ...\n",
            "Connecting to raw.githubusercontent.com (raw.githubusercontent.com)|185.199.109.133|:443... connected.\n",
            "HTTP request sent, awaiting response... 200 OK\n",
            "Length: 35933725 (34M) [application/octet-stream]\n",
            "Saving to: ‘knn.joblib’\n",
            "\n",
            "knn.joblib          100%[===================>]  34.27M   151MB/s    in 0.2s    \n",
            "\n",
            "2022-11-16 20:23:35 (151 MB/s) - ‘knn.joblib’ saved [35933725/35933725]\n",
            "\n",
            "--2022-11-16 20:23:35--  https://github.com/ManuSanchez02/7506R-2c2022-GRUPO09/raw/main/tp2/xgb.joblib\n",
            "Resolving github.com (github.com)... 20.27.177.113\n",
            "Connecting to github.com (github.com)|20.27.177.113|:443... connected.\n",
            "HTTP request sent, awaiting response... 302 Found\n",
            "Location: https://raw.githubusercontent.com/ManuSanchez02/7506R-2c2022-GRUPO09/main/tp2/xgb.joblib [following]\n",
            "--2022-11-16 20:23:36--  https://raw.githubusercontent.com/ManuSanchez02/7506R-2c2022-GRUPO09/main/tp2/xgb.joblib\n",
            "Resolving raw.githubusercontent.com (raw.githubusercontent.com)... 185.199.109.133, 185.199.111.133, 185.199.108.133, ...\n",
            "Connecting to raw.githubusercontent.com (raw.githubusercontent.com)|185.199.109.133|:443... connected.\n",
            "HTTP request sent, awaiting response... 200 OK\n",
            "Length: 11268859 (11M) [application/octet-stream]\n",
            "Saving to: ‘xgb.joblib’\n",
            "\n",
            "xgb.joblib          100%[===================>]  10.75M  --.-KB/s    in 0.1s    \n",
            "\n",
            "2022-11-16 20:23:37 (93.3 MB/s) - ‘xgb.joblib’ saved [11268859/11268859]\n",
            "\n",
            "--2022-11-16 20:23:37--  https://github.com/ManuSanchez02/7506R-2c2022-GRUPO09/raw/main/tp2/gradientBoosting.joblib\n",
            "Resolving github.com (github.com)... 20.27.177.113\n",
            "Connecting to github.com (github.com)|20.27.177.113|:443... connected.\n",
            "HTTP request sent, awaiting response... 302 Found\n",
            "Location: https://raw.githubusercontent.com/ManuSanchez02/7506R-2c2022-GRUPO09/main/tp2/gradientBoosting.joblib [following]\n",
            "--2022-11-16 20:23:37--  https://raw.githubusercontent.com/ManuSanchez02/7506R-2c2022-GRUPO09/main/tp2/gradientBoosting.joblib\n",
            "Resolving raw.githubusercontent.com (raw.githubusercontent.com)... 185.199.108.133, 185.199.109.133, 185.199.110.133, ...\n",
            "Connecting to raw.githubusercontent.com (raw.githubusercontent.com)|185.199.108.133|:443... connected.\n",
            "HTTP request sent, awaiting response... 200 OK\n",
            "Length: 627613 (613K) [application/octet-stream]\n",
            "Saving to: ‘gradient_boosting.joblib’\n",
            "\n",
            "gradient_boosting.j 100%[===================>] 612.90K  --.-KB/s    in 0.05s   \n",
            "\n",
            "2022-11-16 20:23:38 (11.4 MB/s) - ‘gradient_boosting.joblib’ saved [627613/627613]\n",
            "\n"
          ]
        }
      ]
    },
    {
      "cell_type": "code",
      "source": [
        "# Modelos clasificación\n",
        "arbol_de_decision = load(\"arbol_de_decision.joblib\")\n",
        "random_forest = load(\"random_forest.joblib\")\n",
        "regresion_logistica = load(\"regresion_logistica.joblib\")\n",
        "\n",
        "# Modelos regresión\n",
        "regresion_lineal = load(\"regresion_lineal.joblib\")\n",
        "knn = load(\"knn.joblib\")\n",
        "xgboost = load(\"xgb.joblib\")\n",
        "gradient_boost = load(\"gradient_boosting.joblib\")"
      ],
      "metadata": {
        "colab": {
          "base_uri": "https://localhost:8080/"
        },
        "id": "GeJJSLB0Ez3r",
        "outputId": "c9353817-4753-4f8e-b352-c6c8c819d573"
      },
      "execution_count": 20,
      "outputs": [
        {
          "output_type": "stream",
          "name": "stdout",
          "text": [
            "[20:28:26] WARNING: /workspace/src/objective/regression_obj.cu:152: reg:linear is now deprecated in favor of reg:squarederror.\n"
          ]
        }
      ]
    },
    {
      "cell_type": "markdown",
      "source": [
        "### Votación para clasificación"
      ],
      "metadata": {
        "id": "Wt0CMJS7K_Xb"
      }
    },
    {
      "cell_type": "markdown",
      "source": [
        "Creamos ensamble de votación"
      ],
      "metadata": {
        "id": "Gk_z1vnHICGL"
      }
    },
    {
      "cell_type": "code",
      "source": [
        "regresion_logistica_escalado = Pipeline([(\"ss\", StandardScaler()), (\"rl\", regresion_logistica)])"
      ],
      "metadata": {
        "id": "tNWsjCx6MoB0"
      },
      "execution_count": 35,
      "outputs": []
    },
    {
      "cell_type": "code",
      "source": [
        "#vot_clf = VotingClassifier(estimators = [('add', arbol_de_decision), ('rf', random_forest), ('rl', regresion_logistica)], voting = 'soft') Score 0.66\n",
        "#vot_clf = VotingClassifier(estimators = [('add', arbol_de_decision), ('rf', random_forest)], voting = 'soft') Score 0.64\n",
        "#vot_clf = VotingClassifier(estimators = [('add', arbol_de_decision), ('rf', random_forest), ('rle', regresion_logistica_escalado)], voting = 'soft') #Score 0.65\n",
        "#vot_clf = VotingClassifier(estimators = [('add', arbol_de_decision), ('rf', random_forest), ('rle', regresion_logistica_escalado)], voting = 'hard') #Score 0.65"
      ],
      "metadata": {
        "id": "gIRSIq4EIEAr"
      },
      "execution_count": 40,
      "outputs": []
    },
    {
      "cell_type": "markdown",
      "source": [
        "Entrenamos el modelo"
      ],
      "metadata": {
        "id": "QGMX_0sDIeb9"
      }
    },
    {
      "cell_type": "code",
      "source": [
        "vot_clf.fit(dataset_train_clasificacion, y_train_clasificacion)"
      ],
      "metadata": {
        "colab": {
          "base_uri": "https://localhost:8080/"
        },
        "id": "9PFkD4i3IfkV",
        "outputId": "b7968870-f1e1-4a5f-dc5e-46834abc3f64"
      },
      "execution_count": 41,
      "outputs": [
        {
          "output_type": "execute_result",
          "data": {
            "text/plain": [
              "VotingClassifier(estimators=[('add',\n",
              "                              DecisionTreeClassifier(criterion='entropy',\n",
              "                                                     max_depth=900,\n",
              "                                                     min_samples_leaf=8,\n",
              "                                                     random_state=0)),\n",
              "                             ('rf',\n",
              "                              RandomizedSearchCV(cv=StratifiedKFold(n_splits=5, random_state=None, shuffle=False),\n",
              "                                                 estimator=RandomForestClassifier(),\n",
              "                                                 n_iter=5,\n",
              "                                                 param_distributions={'criterion': ['gini',\n",
              "                                                                                    'entropy'],\n",
              "                                                                      'min_samples_leaf': [1,\n",
              "                                                                                           2,\n",
              "                                                                                           3,\n",
              "                                                                                           4,\n",
              "                                                                                           5,\n",
              "                                                                                           6,\n",
              "                                                                                           7,\n",
              "                                                                                           8,\n",
              "                                                                                           9],\n",
              "                                                                      'min_samples_split': [2,\n",
              "                                                                                            3,\n",
              "                                                                                            4,\n",
              "                                                                                            5,\n",
              "                                                                                            6,\n",
              "                                                                                            7,\n",
              "                                                                                            8,\n",
              "                                                                                            9],\n",
              "                                                                      'n_estimators': [50,\n",
              "                                                                                       51,\n",
              "                                                                                       52,\n",
              "                                                                                       53,\n",
              "                                                                                       54,\n",
              "                                                                                       55,\n",
              "                                                                                       56,\n",
              "                                                                                       57,\n",
              "                                                                                       58,\n",
              "                                                                                       59,\n",
              "                                                                                       60,\n",
              "                                                                                       61,\n",
              "                                                                                       62,\n",
              "                                                                                       63,\n",
              "                                                                                       64,\n",
              "                                                                                       65,\n",
              "                                                                                       66,\n",
              "                                                                                       67,\n",
              "                                                                                       68,\n",
              "                                                                                       69,\n",
              "                                                                                       70,\n",
              "                                                                                       71,\n",
              "                                                                                       72,\n",
              "                                                                                       73,\n",
              "                                                                                       74,\n",
              "                                                                                       75,\n",
              "                                                                                       76,\n",
              "                                                                                       77,\n",
              "                                                                                       78,\n",
              "                                                                                       79, ...],\n",
              "                                                                      'random_state': [0]},\n",
              "                                                 random_state=0,\n",
              "                                                 scoring=make_scorer(accuracy_score))),\n",
              "                             ('rle',\n",
              "                              Pipeline(steps=[('ss', StandardScaler()),\n",
              "                                              ('rl',\n",
              "                                               LogisticRegressionCV(cv=5,\n",
              "                                                                    max_iter=300,\n",
              "                                                                    multi_class='multinomial'))]))])"
            ]
          },
          "metadata": {},
          "execution_count": 41
        }
      ]
    },
    {
      "cell_type": "markdown",
      "source": [
        "Evaluamos en el conjunto de test"
      ],
      "metadata": {
        "id": "3-b170RsJyfT"
      }
    },
    {
      "cell_type": "code",
      "source": [
        "outputs = {\n",
        "    \"bajo\": 0,\n",
        "    \"medio\": 1,\n",
        "    \"alto\": 2,\n",
        "}"
      ],
      "metadata": {
        "id": "b8Afg4EDKafL"
      },
      "execution_count": 31,
      "outputs": []
    },
    {
      "cell_type": "code",
      "source": [
        "y_pred = vot_clf.predict(dataset_test_clasificacion)\n",
        "print(\"El score es: \", accuracy_score(y_test_clasificacion, y_pred))\n",
        "\n",
        "# Matriz de confusión\n",
        "fig, ax = plt.subplots(1,1,figsize=(10,10))\n",
        "dsp = ConfusionMatrixDisplay.from_predictions(y_test_clasificacion,y_pred, display_labels=outputs.keys(),ax=ax)"
      ],
      "metadata": {
        "colab": {
          "base_uri": "https://localhost:8080/",
          "height": 592
        },
        "id": "nBTuIOmFJ2db",
        "outputId": "976559f0-d20f-4075-8fd5-3a7189fc201e"
      },
      "execution_count": 42,
      "outputs": [
        {
          "output_type": "stream",
          "name": "stdout",
          "text": [
            "El score es:  0.6470485808810726\n"
          ]
        },
        {
          "output_type": "display_data",
          "data": {
            "text/plain": [
              "<Figure size 720x720 with 2 Axes>"
            ],
            "image/png": "[encoded data removed]"
          },
          "metadata": {
            "needs_background": "light"
          }
        }
      ]
    },
    {
      "cell_type": "markdown",
      "source": [
        "### Stacking para regresión"
      ],
      "metadata": {
        "id": "WRoirkPrLCxC"
      }
    },
    {
      "cell_type": "code",
      "source": [
        "# Modelos Base\n",
        "base_models = [('knn', knn),\n",
        "               ('xgb', xgboost),\n",
        "               ('gb', gradient_boost)]\n",
        "\n",
        "# Creamos el ensamble\n",
        "stacking_model = StackingRegressor(estimators=base_models, \n",
        "                                    final_estimator=regresion_lineal, \n",
        "                                    passthrough=True, \n",
        "                                    cv=5,\n",
        "                                    verbose=2)"
      ],
      "metadata": {
        "id": "Iyp3-5KvLf7b"
      },
      "execution_count": 47,
      "outputs": []
    },
    {
      "cell_type": "markdown",
      "source": [
        "Entrenamos el modelo de stacking"
      ],
      "metadata": {
        "id": "Jnhjtqz3OmI6"
      }
    },
    {
      "cell_type": "code",
      "source": [
        "stacking_model.fit(dataset_train_regresion, y_train_regresion)"
      ],
      "metadata": {
        "colab": {
          "base_uri": "https://localhost:8080/"
        },
        "id": "iFXpG4EVOo-b",
        "outputId": "861a02e6-d202-46e2-fe34-d2c49aef0c85"
      },
      "execution_count": 48,
      "outputs": [
        {
          "output_type": "stream",
          "name": "stderr",
          "text": [
            "/usr/local/lib/python3.7/dist-packages/sklearn/ensemble/_stacking.py:758: DataConversionWarning: A column-vector y was passed when a 1d array was expected. Please change the shape of y to (n_samples, ), for example using ravel().\n",
            "  y = column_or_1d(y, warn=True)\n"
          ]
        },
        {
          "output_type": "stream",
          "name": "stdout",
          "text": [
            "[21:06:22] WARNING: /workspace/src/objective/regression_obj.cu:152: reg:linear is now deprecated in favor of reg:squarederror.\n"
          ]
        },
        {
          "output_type": "stream",
          "name": "stderr",
          "text": [
            "[Parallel(n_jobs=1)]: Using backend SequentialBackend with 1 concurrent workers.\n",
            "[Parallel(n_jobs=1)]: Done   1 out of   1 | elapsed:   11.1s remaining:    0.0s\n",
            "[Parallel(n_jobs=1)]: Done   5 out of   5 | elapsed:  1.2min finished\n",
            "[Parallel(n_jobs=1)]: Using backend SequentialBackend with 1 concurrent workers.\n"
          ]
        },
        {
          "output_type": "stream",
          "name": "stdout",
          "text": [
            "[21:11:22] WARNING: /workspace/src/objective/regression_obj.cu:152: reg:linear is now deprecated in favor of reg:squarederror.\n"
          ]
        },
        {
          "output_type": "stream",
          "name": "stderr",
          "text": [
            "[Parallel(n_jobs=1)]: Done   1 out of   1 | elapsed:  2.7min remaining:    0.0s\n"
          ]
        },
        {
          "output_type": "stream",
          "name": "stdout",
          "text": [
            "[21:14:04] WARNING: /workspace/src/objective/regression_obj.cu:152: reg:linear is now deprecated in favor of reg:squarederror.\n",
            "[21:16:46] WARNING: /workspace/src/objective/regression_obj.cu:152: reg:linear is now deprecated in favor of reg:squarederror.\n",
            "[21:19:30] WARNING: /workspace/src/objective/regression_obj.cu:152: reg:linear is now deprecated in favor of reg:squarederror.\n",
            "[21:22:16] WARNING: /workspace/src/objective/regression_obj.cu:152: reg:linear is now deprecated in favor of reg:squarederror.\n"
          ]
        },
        {
          "output_type": "stream",
          "name": "stderr",
          "text": [
            "[Parallel(n_jobs=1)]: Done   5 out of   5 | elapsed: 13.7min finished\n",
            "[Parallel(n_jobs=1)]: Using backend SequentialBackend with 1 concurrent workers.\n",
            "[Parallel(n_jobs=1)]: Done   1 out of   1 | elapsed:   15.5s remaining:    0.0s\n",
            "[Parallel(n_jobs=1)]: Done   5 out of   5 | elapsed:  1.3min finished\n"
          ]
        },
        {
          "output_type": "execute_result",
          "data": {
            "text/plain": [
              "StackingRegressor(cv=5,\n",
              "                  estimators=[('knn',\n",
              "                               KNeighborsRegressor(n_neighbors=19,\n",
              "                                                   weights='distance')),\n",
              "                              ('xgb',\n",
              "                               XGBRegressor(learning_rate=0.07, max_depth=12,\n",
              "                                            min_child_weight=6, missing=nan,\n",
              "                                            n_estimators=500)),\n",
              "                              ('gb',\n",
              "                               GradientBoostingRegressor(learning_rate=0.625,\n",
              "                                                         max_depth=6,\n",
              "                                                         n_estimators=65,\n",
              "                                                         random_state=0))],\n",
              "                  final_estimator=LinearRegression(), passthrough=True,\n",
              "                  verbose=2)"
            ]
          },
          "metadata": {},
          "execution_count": 48
        }
      ]
    },
    {
      "cell_type": "markdown",
      "source": [
        "Medimos la performance"
      ],
      "metadata": {
        "id": "qrqFXPZ8O_ND"
      }
    },
    {
      "cell_type": "code",
      "source": [
        "def imprimir_metricas_regresion(target_test, precios_predichos):\n",
        "    # Mean Square Error\n",
        "    mse = metrics.mean_squared_error(\n",
        "        y_true=target_test, y_pred=precios_predichos, squared=True\n",
        "    )\n",
        "\n",
        "    print(f\"El error (mse) de test es: {mse}\")\n",
        "\n",
        "    # Root Mean Square Error\n",
        "    rmse = metrics.mean_squared_error(\n",
        "        y_true=target_test, y_pred=precios_predichos, squared=False\n",
        "    )\n",
        "\n",
        "    print(f\"El error (rmse) de test es: {rmse}\")\n",
        "\n",
        "    r2 = r2_score(target_test, precios_predichos)\n",
        "    print(f\"El score R2 es: {r2}\")\n",
        "  \n",
        "y_pred_regresion = stacking_model.predict(dataset_test_regresion)\n",
        "\n",
        "imprimir_metricas_regresion(y_test_regresion, y_pred_regresion)\n"
      ],
      "metadata": {
        "colab": {
          "base_uri": "https://localhost:8080/"
        },
        "id": "wjV8NxQ6PAeN",
        "outputId": "95e6a419-4e58-4def-fba3-dbba43ea14f4"
      },
      "execution_count": 51,
      "outputs": [
        {
          "output_type": "stream",
          "name": "stdout",
          "text": [
            "El error (mse) de test es: 2179735848.27748\n",
            "El error (rmse) de test es: 46687.641279866344\n",
            "El score R2 es: 0.7948085081456135\n"
          ]
        }
      ]
    }
  ]
}