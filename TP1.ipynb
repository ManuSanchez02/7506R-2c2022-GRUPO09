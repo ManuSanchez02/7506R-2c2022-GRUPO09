{
  "cells": [
    {
      "cell_type": "code",
      "execution_count": null,
      "metadata": {
        "colab": {
          "base_uri": "https://localhost:8080/"
        },
        "id": "MuWAbUfty0_V",
        "outputId": "d1b00949-e79a-4f1c-eafa-5ceab24938ff"
      },
      "outputs": [],
      "source": [
        "import pandas as pd\n",
        "from tqdm import tqdm\n",
        "import seaborn as sns\n",
        "import matplotlib.pyplot as plt\n",
        "import numpy as np\n",
        "\n",
        "from sklearn.model_selection import train_test_split\n",
        "\n",
        "from sklearn.experimental import enable_iterative_imputer\n",
        "from sklearn.impute import IterativeImputer\n",
        "from sklearn.linear_model import LinearRegression\n",
        "\n",
        "sns.set()\n",
        "\n",
        "dataset = pd.read_csv('../datasets/properati_argentina_2021.csv')\n"
      ]
    },
    {
      "cell_type": "markdown",
      "metadata": {},
      "source": [
        "### Constantes"
      ]
    },
    {
      "cell_type": "code",
      "execution_count": null,
      "metadata": {},
      "outputs": [],
      "source": [
        "SEMILLA = 0\n",
        "TEST_SIZE = 0.2"
      ]
    },
    {
      "cell_type": "markdown",
      "metadata": {},
      "source": [
        "### Funciones"
      ]
    },
    {
      "cell_type": "code",
      "execution_count": null,
      "metadata": {
        "id": "kfHFjVq06amo"
      },
      "outputs": [],
      "source": [
        "def separate_date(dataset, column_name):\n",
        "  dataset[f'{column_name}_year'] = dataset[column_name].str[:4].astype(int)\n",
        "  dataset[f'{column_name}_month'] = dataset[column_name].str[5:7].astype(int)\n",
        "  dataset[f'{column_name}_day'] = dataset[column_name].str[8:10].astype(int)\n",
        "  dataset.drop([column_name], axis=1, inplace=True)"
      ]
    },
    {
      "cell_type": "markdown",
      "metadata": {
        "id": "n8edHYLM0aEo"
      },
      "source": [
        "# 1. Análisis Exploratorio y Preprocesamiento de Datos"
      ]
    },
    {
      "cell_type": "markdown",
      "metadata": {},
      "source": [
        "### Separacion Train-Test"
      ]
    },
    {
      "cell_type": "code",
      "execution_count": null,
      "metadata": {},
      "outputs": [],
      "source": [
        "dataset_train, dataset_test = train_test_split(dataset,\n",
        "                                                test_size=TEST_SIZE,  \n",
        "                                                random_state=SEMILLA) \n",
        "\n",
        "print(\"Proporcion - Train:\", dataset_train.shape[0] / dataset.shape[0])\n",
        "print(\"Proporcion - Test:\", dataset_test.shape[0] / dataset.shape[0])"
      ]
    },
    {
      "cell_type": "markdown",
      "metadata": {},
      "source": [
        "### Filtrado Set de Training"
      ]
    },
    {
      "cell_type": "code",
      "execution_count": null,
      "metadata": {
        "colab": {
          "base_uri": "https://localhost:8080/"
        },
        "id": "MW4w811s1HSS",
        "outputId": "7f3f86de-d86c-452b-9acd-3e2cb1b2148c"
      },
      "outputs": [],
      "source": [
        "dataset_train.columns.tolist()"
      ]
    },
    {
      "cell_type": "code",
      "execution_count": null,
      "metadata": {
        "id": "4rcs9Cbp0QAi"
      },
      "outputs": [],
      "source": [
        "filtro_tipo_propiedad = ['casa', 'ph','departamento']\n",
        "filtro_operacion = ['venta']\n",
        "filtro_ubicacion = ['capital federal']\n",
        "filtro_moneda = ['usd']\n",
        "\n",
        "filtros = {\n",
        "    'property_type': filtro_tipo_propiedad,\n",
        "    'operation': filtro_operacion,\n",
        "    'place_l2': filtro_ubicacion,\n",
        "    'property_currency': filtro_moneda\n",
        "}"
      ]
    },
    {
      "cell_type": "code",
      "execution_count": null,
      "metadata": {
        "id": "uhoqp3jS1Jaa"
      },
      "outputs": [],
      "source": [
        "for columna in filtros:\n",
        "  dataset_train[columna] = dataset_train[columna].str.lower()"
      ]
    },
    {
      "cell_type": "code",
      "execution_count": null,
      "metadata": {
        "colab": {
          "base_uri": "https://localhost:8080/"
        },
        "id": "cp2YYu6s0zG4",
        "outputId": "42528409-c9c4-4756-f6f6-e9f6630aecc0"
      },
      "outputs": [],
      "source": [
        "for columna_a_filtrar, filtro in filtros.items():\n",
        "  dataset_train = dataset_train[dataset_train[columna_a_filtrar].isin(filtro)]\n",
        "\n",
        "dataset_train.shape"
      ]
    },
    {
      "cell_type": "code",
      "execution_count": null,
      "metadata": {
        "colab": {
          "base_uri": "https://localhost:8080/",
          "height": 461
        },
        "id": "Ccl4_Nh16LvI",
        "outputId": "beb191f1-1c61-45bc-80b2-74eb27a146bf"
      },
      "outputs": [],
      "source": [
        "dataset_train.head()"
      ]
    },
    {
      "cell_type": "markdown",
      "metadata": {
        "id": "92Y2UsQH5VdY"
      },
      "source": [
        "Para este punto, tenemos el dataset filtrado por lo pedido e incluso normalizado (sin mayusculas)"
      ]
    },
    {
      "cell_type": "code",
      "execution_count": null,
      "metadata": {},
      "outputs": [],
      "source": [
        "filas_totales = dataset_train.shape[0]\n",
        "dataset_train.isna().sum()/filas_totales"
      ]
    },
    {
      "cell_type": "markdown",
      "metadata": {
        "id": "zFR4QMRX6ZyH"
      },
      "source": [
        "Se puede apreciar que las columnas `place_l5` y `place_l6` contienen `NaN` en todas sus filas. Es por eso que nos deshacemos de ellas. `place_4` contiene `NaN` en el 96% de sus filas por lo que tambien la eliminamos.\n",
        "\n",
        "Por el otro lado, el `id` es una variable unica e aleatoria para cada propiedad, por lo que no nos sirve para predecir nada. Por esta razon, la eliminamos tambien. Ocurre lo mismo con el titulo de la propiedad."
      ]
    },
    {
      "cell_type": "code",
      "execution_count": null,
      "metadata": {
        "colab": {
          "base_uri": "https://localhost:8080/",
          "height": 490
        },
        "id": "YjCKriS_6k_m",
        "outputId": "31cf7bcd-bf6a-40d5-aa46-fbc00444e2b2"
      },
      "outputs": [],
      "source": [
        "\n",
        "\n",
        "columnas_eliminar = ['property_title', 'id', 'place_l4', 'place_l5', 'place_l6']\n",
        "dataset_train.drop(columnas_eliminar, axis=1, inplace=True)\n",
        "separate_date(dataset_train, 'start_date')\n",
        "separate_date(dataset_train, 'end_date')\n",
        "separate_date(dataset_train, 'created_on')"
      ]
    },
    {
      "cell_type": "markdown",
      "metadata": {},
      "source": [
        "Tambien podemos sacar las columnas `property_currency`, `place_l2`, `operation` ya que estas solo contienen un valor posible (debido al filtrado)"
      ]
    },
    {
      "cell_type": "code",
      "execution_count": null,
      "metadata": {},
      "outputs": [],
      "source": [
        "columnas_eliminar = ['property_currency', 'operation', 'place_l2']\n",
        "dataset_train.drop(columnas_eliminar, axis=1, inplace=True)"
      ]
    },
    {
      "cell_type": "code",
      "execution_count": null,
      "metadata": {},
      "outputs": [],
      "source": [
        "dataset_train.dtypes"
      ]
    },
    {
      "cell_type": "markdown",
      "metadata": {
        "id": "rpqg9SG980Ll"
      },
      "source": [
        "-------------------------------------------------------------------\n",
        "\n",
        "HASTA ACA LLEGA LA NORMALIZACION Y OBTENCION DE LOS DATOS DESEADOS\n",
        "\n",
        "-------------------------------------------------------------------"
      ]
    },
    {
      "cell_type": "code",
      "execution_count": null,
      "metadata": {
        "colab": {
          "base_uri": "https://localhost:8080/",
          "height": 364
        },
        "id": "Zt4f5lXJ8vmB",
        "outputId": "3855e8f6-0fc8-4bea-bac4-ea7775921cc9"
      },
      "outputs": [],
      "source": [
        "variables_cuantitativas = dataset_train.describe()\n",
        "variables_cuantitativas"
      ]
    },
    {
      "cell_type": "markdown",
      "metadata": {
        "id": "KbhA9YbH8WvR"
      },
      "source": [
        "Dropeo la variable property_title ya que realmente no es una variable cualitativa. Si intentara obtener sus valores unicos, obtendria muchisimos distintos."
      ]
    },
    {
      "cell_type": "code",
      "execution_count": null,
      "metadata": {
        "colab": {
          "base_uri": "https://localhost:8080/"
        },
        "id": "m7k8Frsu8_dt",
        "outputId": "28c45363-224b-419f-d45d-58ae02610693"
      },
      "outputs": [],
      "source": [
        "variables_cualitativas = dataset_train.drop(variables_cuantitativas.columns, axis=1)\n",
        "variables_cualitativas.nunique()"
      ]
    },
    {
      "cell_type": "markdown",
      "metadata": {},
      "source": [
        "### Gráfico de las distribuciones de las variables cualitativas"
      ]
    },
    {
      "cell_type": "code",
      "execution_count": null,
      "metadata": {
        "colab": {
          "base_uri": "https://localhost:8080/",
          "height": 317
        },
        "id": "NrQMh6g99Ktg",
        "outputId": "0ac2dc2c-25b4-4982-eedc-153a115cd07b"
      },
      "outputs": [],
      "source": [
        "\n",
        "\n",
        "fig, axes = plt.subplots(nrows=1, ncols=2, figsize=(10, 15), gridspec_kw={\"width_ratios\":[5, 3]})\n",
        "\n",
        "frecuencia_absoluta = variables_cualitativas[\"place_l3\"].value_counts()\n",
        "frecuencia_relativa = frecuencia_absoluta / frecuencia_absoluta.sum()\n",
        "sns.barplot(ax=axes[0], y=frecuencia_relativa.index, x=frecuencia_relativa.values).set_title(\"Distribucion de Barrios\")\n",
        "\n",
        "frecuencia_absoluta = variables_cualitativas[\"property_type\"].value_counts()\n",
        "frecuencia_relativa = frecuencia_absoluta / frecuencia_absoluta.sum()\n",
        "\n",
        "sns.barplot(ax=axes[1], x=frecuencia_relativa.index, y=frecuencia_relativa.values).set_title(\"Distribucion del tipo de propiedad\")\n",
        "axes[1].tick_params('y', labelrotation=90)\n",
        "\n"
      ]
    },
    {
      "cell_type": "markdown",
      "metadata": {},
      "source": [
        "### Correlaciones existentes entre las variables"
      ]
    },
    {
      "cell_type": "code",
      "execution_count": null,
      "metadata": {},
      "outputs": [],
      "source": [
        "\n",
        "\n",
        "variables_cuantitativas = dataset_train[variables_cuantitativas.columns]\n",
        "matriz_correlaciones = variables_cuantitativas.corr()\n",
        "sns.reset_defaults()\n",
        "sns.set(rc={\"figure.figsize\":(10, 10)})\n",
        "sns.heatmap(data=matriz_correlaciones, annot=True, fmt=\".2f\")\n"
      ]
    },
    {
      "cell_type": "markdown",
      "metadata": {},
      "source": [
        "Podemos ver que las variables que estan correlacionadas son: \n",
        " - `property_rooms` con `property_bedrooms`\n",
        " - `property_surface_covered` con `property_surface_total`.\n",
        " - Con un grado mucho menor, `property_price` esta relacionado con `property_rooms` y `property_bedrooms`\n"
      ]
    },
    {
      "cell_type": "code",
      "execution_count": null,
      "metadata": {},
      "outputs": [],
      "source": [
        "sns.reset_defaults()\n",
        "sns.set()\n",
        "sns.scatterplot(data=dataset_train, x=\"property_rooms\", y=\"property_bedrooms\")"
      ]
    },
    {
      "cell_type": "code",
      "execution_count": null,
      "metadata": {},
      "outputs": [],
      "source": [
        "sns.reset_defaults()\n",
        "sns.set()\n",
        "sns.scatterplot(data=dataset_train, x=\"property_surface_covered\", y=\"property_surface_total\")\n"
      ]
    },
    {
      "cell_type": "markdown",
      "metadata": {},
      "source": [
        "Podemos ver que la variables están muy relacionadas, excepto por un conjunto de puntos en el eje y. Esto se puede deber a los datos. Si graficamos las propiedades cuya superficie es mayor a 1000 (por proponer un numero arbitrario), vemos que el grafico tiene mucha correlacion positiva"
      ]
    },
    {
      "cell_type": "code",
      "execution_count": null,
      "metadata": {},
      "outputs": [],
      "source": [
        "filtrado=dataset_train[(dataset_train.property_surface_covered > 1000) & (dataset_train.property_surface_total > 1000)]\n",
        "\n",
        "sns.reset_defaults()\n",
        "sns.set()\n",
        "sns.scatterplot(data=filtrado, x=\"property_surface_covered\", y=\"property_surface_total\")\n",
        "\n"
      ]
    },
    {
      "cell_type": "markdown",
      "metadata": {},
      "source": [
        "### Analisis de datos nulos"
      ]
    },
    {
      "cell_type": "code",
      "execution_count": null,
      "metadata": {},
      "outputs": [],
      "source": [
        "filas_totales = dataset_train.shape[0]\n",
        "dataset_train.isna().sum()/filas_totales"
      ]
    },
    {
      "cell_type": "code",
      "execution_count": null,
      "metadata": {},
      "outputs": [],
      "source": [
        "distribucion_faltantes = (dataset_train.isna().sum()/filas_totales)\n",
        "distribucion_faltantes = distribucion_faltantes[distribucion_faltantes.values != 0]\n",
        "distribucion_faltantes = distribucion_faltantes.sort_values(ascending=False)\n",
        "\n",
        "sns.set(rc={\"figure.figsize\":(16, 5)})\n",
        "sns.barplot(x=distribucion_faltantes.index, y=distribucion_faltantes.values).set_title(\"Distribucion de Datos Faltantes\")"
      ]
    },
    {
      "cell_type": "code",
      "execution_count": null,
      "metadata": {},
      "outputs": [],
      "source": [
        "distribucion_faltantes_por_fila = dataset_train.isna().sum(axis=1).value_counts()\n",
        "sns.barplot(x=distribucion_faltantes_por_fila.index, y=distribucion_faltantes_por_fila.values / dataset_train.shape[0]).set(xlabel=\"Cantidad de datos faltantes por fila\", ylabel=\"proporcion\", title=\"proporcion de datos faltantes por fila\")"
      ]
    },
    {
      "cell_type": "markdown",
      "metadata": {},
      "source": [
        "Vemos que las cantidad de filas con 4, 5, 6 datos faltantes son despreciables"
      ]
    },
    {
      "cell_type": "markdown",
      "metadata": {},
      "source": [
        "### Imputacion de Datos Faltante"
      ]
    },
    {
      "cell_type": "markdown",
      "metadata": {},
      "source": [
        "Algunas estrategias para imputar los datos faltantes:\n",
        "\n",
        "- Sustitución de Casos: Se reemplaza con valores no observados. Hay que consultar con un experto.\n",
        "- Sustitución por Media: Se reemplaza utilizando la medida calculada de los valores presentes. Sin embargo, esto trae consecuencias\n",
        "    - La varianza estimada por la nueva variable no es válida ya que es atenuada por los valores repetidos\n",
        "    - Se distorsiona la distribución\n",
        "    - Las correlaciones que se observen estaran deprimidas debido a la repetición de un solo valores constante.\n",
        "- Imputación Cold Deck: Se pueden obtener los datos faltantes a partir de otras variables del dataset.\n",
        "- Imputacion Hot Deck: Se reemplazan los datos faltante con los valores que resultan más “similares”. Tenemos que definir que es “similar”, para ello se puede usar la tecnica: K vecinos más cercanos.\n",
        "- Imputación por Regresión: El dato faltante es reemplaza con el valor predicho por un modelo de regresión.\n",
        "- MICE (multivariate imputation by chained equations): Trabaja bajo el supuesto de que el origen de los datos es MAR. Es un proceso de imputación iterativo, donde cada iteración los valores faltantes se predicen en función de las variables restantes. El proceso se repite hasta que se encuentre consistencia en los datos (usualmente 10 iteraciones es suficiente). La primera iteración se realiza por uno de los métodos vistos anteriormente para rellenar los datos faltantes."
      ]
    },
    {
      "cell_type": "markdown",
      "metadata": {},
      "source": [
        "Anteriormente observamos que hay una correlacion entre `property_bedrooms`, `property_rooms` y `property_price` Podemos entrenar un modelo lineal para predecir los datos faltantes"
      ]
    },
    {
      "cell_type": "markdown",
      "metadata": {},
      "source": [
        "Primero, graficamos la distribucion de las tres columnas"
      ]
    },
    {
      "cell_type": "code",
      "execution_count": null,
      "metadata": {},
      "outputs": [],
      "source": [
        "columnas=['property_rooms','property_price','property_bedrooms']\n",
        "\n",
        "\n",
        "sns.reset_defaults()\n",
        "sns.set()\n",
        "\n",
        "figs, axes = plt.subplots(nrows=1, ncols=3, figsize=(20, 8))\n",
        "\n",
        "sns.histplot(ax=axes[0], data=dataset_train, x='property_rooms', discrete=True, stat=\"density\")\n",
        "sns.histplot(ax=axes[1], data=dataset_train, x='property_price', kde=True)\n",
        "sns.histplot(ax=axes[2], data=dataset_train, x='property_bedrooms', discrete=True, stat=\"density\")\n",
        "\n",
        "plt.show()\n"
      ]
    },
    {
      "cell_type": "code",
      "execution_count": null,
      "metadata": {},
      "outputs": [],
      "source": [
        "columnas_a_imputar = dataset_train[columnas].copy()\n",
        "\n",
        "modelo_lineal = LinearRegression()\n",
        "imp = IterativeImputer(estimator=modelo_lineal, missing_values=np.nan, max_iter=20, verbose=0, random_state=SEMILLA) \n",
        "columnas_imputadas = imp.fit_transform(columnas_a_imputar)\n",
        "\n",
        "dataframe_imputado = pd.DataFrame(columnas_imputadas, columns=columnas).astype(int)"
      ]
    },
    {
      "cell_type": "code",
      "execution_count": null,
      "metadata": {},
      "outputs": [],
      "source": [
        "sns.reset_defaults()\n",
        "sns.set()\n",
        "\n",
        "figs, axes = plt.subplots(nrows=1, ncols=3, figsize=(20, 8))\n",
        "\n",
        "sns.histplot(ax=axes[0], data=dataframe_imputado, x='property_rooms', discrete=True, stat=\"density\")\n",
        "sns.histplot(ax=axes[1], data=dataframe_imputado, x='property_price', kde=True)\n",
        "sns.histplot(ax=axes[2], data=dataframe_imputado, x='property_bedrooms', discrete=True, stat=\"density\")\n",
        "\n",
        "plt.show()"
      ]
    },
    {
      "cell_type": "markdown",
      "metadata": {},
      "source": [
        "Observamos que el nuevo dataframe tiene distribucion similar a la que tenia antes de imputar, por lo que podemos sobreescribirlo en el dataframe de testing"
      ]
    },
    {
      "cell_type": "code",
      "execution_count": null,
      "metadata": {},
      "outputs": [],
      "source": [
        "dataset_train[columnas] = dataframe_imputado[columnas].values\n"
      ]
    },
    {
      "cell_type": "markdown",
      "metadata": {},
      "source": [
        "Como habiamos observado, habia una correlacion entre `property_surface_covered` y `property_surface_total`, por lo que podemos repetir el proceso anterior con estas variables"
      ]
    },
    {
      "cell_type": "code",
      "execution_count": null,
      "metadata": {},
      "outputs": [],
      "source": [
        "columnas=['property_surface_covered','property_surface_total']\n",
        "\n",
        "\n",
        "sns.reset_defaults()\n",
        "sns.set()\n",
        "\n",
        "figs, axes = plt.subplots(nrows=1, ncols=2, figsize=(20, 8))\n",
        "\n",
        "sns.histplot(ax=axes[0], x=dataset_train.property_surface_covered, bins=100)\n",
        "sns.histplot(ax=axes[1], x=dataset_train.property_surface_total, bins=100)\n",
        "\n",
        "plt.show()\n"
      ]
    }
  ],
  "metadata": {
    "colab": {
      "collapsed_sections": [],
      "provenance": []
    },
    "kernelspec": {
      "display_name": "Python 3.10.4 64-bit",
      "language": "python",
      "name": "python3"
    },
    "language_info": {
      "codemirror_mode": {
        "name": "ipython",
        "version": 3
      },
      "file_extension": ".py",
      "mimetype": "text/x-python",
      "name": "python",
      "nbconvert_exporter": "python",
      "pygments_lexer": "ipython3",
      "version": "3.10.4"
    },
    "vscode": {
      "interpreter": {
        "hash": "26de051ba29f2982a8de78e945f0abaf191376122a1563185a90213a26c5da77"
      }
    }
  },
  "nbformat": 4,
  "nbformat_minor": 0
}
